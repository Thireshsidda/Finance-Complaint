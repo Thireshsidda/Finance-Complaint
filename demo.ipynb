{
 "cells": [
  {
   "cell_type": "code",
   "execution_count": 9,
   "metadata": {},
   "outputs": [],
   "source": [
    "data={'model_trainer_ref_artifact': {'trained_model_file_path': '/home/avnish/iNeuron_Private_Intelligence_Limited/project_neuron/ml/finance-complaint/finance_artifact/model_trainer/20221114_133246/trained_model/finance_estimator', 'label_indexer_model_file_path': '/home/avnish/iNeuron_Private_Intelligence_Limited/project_neuron/ml/finance-complaint/finance_artifact/model_trainer/20221114_133246/label_indexer'}, 'model_trainer_train_metric_artifact': {'f1_score': 0.8323223186625319, 'precision_score': 0.8107160851330072, 'recall_score': 0.8618937644341801}, 'model_trainer_test_metric_artifact': {'f1_score': 0.8610711544640307, 'precision_score': 0.8400419311495159, 'recall_score': 0.8849557522123893}}"
   ]
  },
  {
   "cell_type": "code",
   "execution_count": 10,
   "metadata": {},
   "outputs": [],
   "source": [
    "from finance_complaint.entity.artifact_entity import ModelTrainerArtifact"
   ]
  },
  {
   "cell_type": "code",
   "execution_count": 11,
   "metadata": {},
   "outputs": [],
   "source": [
    "model = ModelTrainerArtifact.construct_object(**data)"
   ]
  },
  {
   "cell_type": "code",
   "execution_count": 12,
   "metadata": {},
   "outputs": [
    {
     "data": {
      "text/plain": [
       "{'model_trainer_ref_artifact': {'trained_model_file_path': '/home/avnish/iNeuron_Private_Intelligence_Limited/project_neuron/ml/finance-complaint/finance_artifact/model_trainer/20221114_133246/trained_model/finance_estimator',\n",
       "  'label_indexer_model_file_path': '/home/avnish/iNeuron_Private_Intelligence_Limited/project_neuron/ml/finance-complaint/finance_artifact/model_trainer/20221114_133246/label_indexer'},\n",
       " 'model_trainer_train_metric_artifact': {'f1_score': 0.8323223186625319,\n",
       "  'precision_score': 0.8107160851330072,\n",
       "  'recall_score': 0.8618937644341801},\n",
       " 'model_trainer_test_metric_artifact': {'f1_score': 0.8610711544640307,\n",
       "  'precision_score': 0.8400419311495159,\n",
       "  'recall_score': 0.8849557522123893}}"
      ]
     },
     "execution_count": 12,
     "metadata": {},
     "output_type": "execute_result"
    }
   ],
   "source": [
    "model._asdict()"
   ]
  },
  {
   "cell_type": "code",
   "execution_count": 13,
   "metadata": {},
   "outputs": [],
   "source": [
    "from finance_complaint.entity.config_entity import PredictionPipelineConfig"
   ]
  },
  {
   "cell_type": "code",
   "execution_count": 14,
   "metadata": {},
   "outputs": [],
   "source": [
    "prediction_pipeline_config = PredictionPipelineConfig()"
   ]
  },
  {
   "cell_type": "code",
   "execution_count": 15,
   "metadata": {},
   "outputs": [
    {
     "data": {
      "text/plain": [
       "{'input_dir': 'finance_data/input/finance_complaint',\n",
       " 'prediction_dir': 'finance_data/prediction/20221120_105141',\n",
       " 'failed_dir': 'finance_data/failed/20221120_105141',\n",
       " 'archive_dir': 'finance_data/archive/20221120_105141',\n",
       " 'region_name': 'ap-south-1'}"
      ]
     },
     "execution_count": 15,
     "metadata": {},
     "output_type": "execute_result"
    }
   ],
   "source": [
    "prediction_pipeline_config.__dict__"
   ]
  },
  {
   "cell_type": "code",
   "execution_count": 16,
   "metadata": {},
   "outputs": [],
   "source": [
    "from finance_complaint.constant.prediction_pipeline_config.file_config import S3_DATA_BUCKET_NAME"
   ]
  },
  {
   "cell_type": "code",
   "execution_count": 17,
   "metadata": {},
   "outputs": [
    {
     "data": {
      "text/plain": [
       "'finance-cat-service'"
      ]
     },
     "execution_count": 17,
     "metadata": {},
     "output_type": "execute_result"
    }
   ],
   "source": [
    "S3_DATA_BUCKET_NAME"
   ]
  },
  {
   "cell_type": "code",
   "execution_count": 18,
   "metadata": {},
   "outputs": [],
   "source": [
    "s3_file_path = \"s3n://finance-cat-service/finance_data/input/finance_complaint\""
   ]
  },
  {
   "cell_type": "code",
   "execution_count": 19,
   "metadata": {},
   "outputs": [],
   "source": [
    "file_path=\"/home/avnish/iNeuron_Private_Intelligence_Limited/project_neuron/ml/finance-complaint/finance_artifact/data_ingestion/feature_store/finance_complaint\""
   ]
  },
  {
   "cell_type": "code",
   "execution_count": 20,
   "metadata": {},
   "outputs": [],
   "source": [
    "from finance_complaint.config.spark_manager import spark_session"
   ]
  },
  {
   "cell_type": "code",
   "execution_count": 21,
   "metadata": {},
   "outputs": [],
   "source": [
    "df = spark_session.read.parquet(file_path).limit(10000)"
   ]
  },
  {
   "cell_type": "code",
   "execution_count": 22,
   "metadata": {},
   "outputs": [
    {
     "data": {
      "text/plain": [
       "10000"
      ]
     },
     "execution_count": 22,
     "metadata": {},
     "output_type": "execute_result"
    }
   ],
   "source": [
    "df.count()"
   ]
  },
  {
   "cell_type": "code",
   "execution_count": 23,
   "metadata": {},
   "outputs": [],
   "source": [
    "from finance_complaint.entity.estimator import S3FinanceEstimator"
   ]
  },
  {
   "cell_type": "code",
   "execution_count": 24,
   "metadata": {},
   "outputs": [],
   "source": [
    "from finance_complaint.constant.model import S3_MODEL_BUCKET_NAME, S3_MODEL_DIR_KEY"
   ]
  },
  {
   "cell_type": "code",
   "execution_count": 26,
   "metadata": {},
   "outputs": [
    {
     "data": {
      "text/plain": [
       "('finance-cat-service', 'model-registry')"
      ]
     },
     "execution_count": 26,
     "metadata": {},
     "output_type": "execute_result"
    }
   ],
   "source": [
    "S3_MODEL_BUCKET_NAME,S3_MODEL_DIR_KEY"
   ]
  },
  {
   "cell_type": "code",
   "execution_count": 27,
   "metadata": {},
   "outputs": [
    {
     "name": "stdout",
     "output_type": "stream",
     "text": [
      "Existing buckets:\n"
     ]
    }
   ],
   "source": [
    "estimator = S3FinanceEstimator(bucket_name=S3_MODEL_BUCKET_NAME, s3_key=S3_MODEL_DIR_KEY)"
   ]
  },
  {
   "cell_type": "code",
   "execution_count": 30,
   "metadata": {},
   "outputs": [],
   "source": [
    "df = estimator.transform(df)"
   ]
  },
  {
   "cell_type": "code",
   "execution_count": 35,
   "metadata": {},
   "outputs": [
    {
     "name": "stdout",
     "output_type": "stream",
     "text": [
      "+---------------------+-------------+-----------+----------+----------------------------+-----------------+\n",
      "|scaled_input_features|rawPrediction|probability|prediction|prediction_consumer_disputed|consumer_disputed|\n",
      "+---------------------+-------------+-----------+----------+----------------------------+-----------------+\n",
      "| (52,[0,4,7,22,23,...|       [20.0]|      [1.0]|       0.0|                         N/A|              N/A|\n",
      "| (52,[0,4,7,20,23,...|       [20.0]|      [1.0]|       0.0|                         N/A|              N/A|\n",
      "| (52,[0,4,7,18,22,...|       [20.0]|      [1.0]|       0.0|                         N/A|              N/A|\n",
      "| (52,[0,4,7,22,23,...|       [20.0]|      [1.0]|       0.0|                         N/A|              N/A|\n",
      "| (52,[0,3,7,22,23,...|       [20.0]|      [1.0]|       0.0|                         N/A|              N/A|\n",
      "| (52,[0,5,9,15,17,...|       [20.0]|      [1.0]|       0.0|                         N/A|              N/A|\n",
      "| (52,[0,3,7,22,39,...|       [20.0]|      [1.0]|       0.0|                         N/A|              N/A|\n",
      "| (52,[0,3,7,22,23,...|       [20.0]|      [1.0]|       0.0|                         N/A|              N/A|\n",
      "| (52,[0,3,7,33,36,...|       [20.0]|      [1.0]|       0.0|                         N/A|              N/A|\n",
      "| (52,[2,3,7,13,21,...|       [20.0]|      [1.0]|       0.0|                         N/A|              N/A|\n",
      "| (52,[0,3,7,28,34,...|       [20.0]|      [1.0]|       0.0|                         N/A|              N/A|\n",
      "| (52,[0,3,7,22,32,...|       [20.0]|      [1.0]|       0.0|                         N/A|              N/A|\n",
      "| (52,[0,3,7,15,17,...|       [20.0]|      [1.0]|       0.0|                         N/A|              N/A|\n",
      "| (52,[2,4,7,22,39,...|       [20.0]|      [1.0]|       0.0|                         N/A|              N/A|\n",
      "| (52,[0,4,7,11,22,...|       [20.0]|      [1.0]|       0.0|                         N/A|              N/A|\n",
      "| (52,[0,4,7,28,34,...|       [20.0]|      [1.0]|       0.0|                         N/A|              N/A|\n",
      "| (52,[0,4,7,22,23,...|       [20.0]|      [1.0]|       0.0|                         N/A|              N/A|\n",
      "| (52,[0,4,7,11,28,...|       [20.0]|      [1.0]|       0.0|                         N/A|              N/A|\n",
      "| (52,[1,4,7,15,17,...|       [20.0]|      [1.0]|       0.0|                         N/A|              N/A|\n",
      "| (52,[0,3,7,15,17,...|       [20.0]|      [1.0]|       0.0|                         N/A|              N/A|\n",
      "+---------------------+-------------+-----------+----------+----------------------------+-----------------+\n",
      "only showing top 20 rows\n",
      "\n"
     ]
    }
   ],
   "source": [
    "df.select([ 'scaled_input_features',\n",
    " 'rawPrediction',\n",
    " 'probability',\n",
    " 'prediction',\n",
    " 'prediction_consumer_disputed','consumer_disputed']).show()"
   ]
  },
  {
   "cell_type": "code",
   "execution_count": null,
   "metadata": {},
   "outputs": [],
   "source": []
  }
 ],
 "metadata": {
  "kernelspec": {
   "display_name": "Python 3.8.0 (conda)",
   "language": "python",
   "name": "python3"
  },
  "language_info": {
   "codemirror_mode": {
    "name": "ipython",
    "version": 3
   },
   "file_extension": ".py",
   "mimetype": "text/x-python",
   "name": "python",
   "nbconvert_exporter": "python",
   "pygments_lexer": "ipython3",
   "version": "3.8.0"
  },
  "orig_nbformat": 4,
  "vscode": {
   "interpreter": {
    "hash": "ca10b06f67aec480768f73175b624e64105dd9bf692c2b6d6fc94502ce4ba749"
   }
  }
 },
 "nbformat": 4,
 "nbformat_minor": 2
}
