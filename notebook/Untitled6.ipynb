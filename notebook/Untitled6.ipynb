{
 "cells": [
  {
   "cell_type": "code",
   "execution_count": 1,
   "id": "5b6acdad-defb-43ec-9a7b-b68608cdca8e",
   "metadata": {
    "canvas": {
     "comments": [],
     "componentType": "CodeCell",
     "copiedOriginId": null,
     "diskcache": false,
     "headerColor": "inherit",
     "id": "088f6c85-f1fc-41d4-8396-f08627c81ff0",
     "isComponent": false,
     "name": "",
     "parents": []
    },
    "tags": []
   },
   "outputs": [],
   "source": [
    "path=\"/home/avnish/iNeuron_Private_Intelligence_Limited/industry_ready_project/finance_complaint/finance_artifact/model_evaluation/report/evaluation_report\""
   ]
  },
  {
   "cell_type": "code",
   "execution_count": 2,
   "id": "0383e117-c7b3-4770-be99-bd60e679c96c",
   "metadata": {
    "canvas": {
     "comments": [],
     "componentType": "CodeCell",
     "copiedOriginId": null,
     "diskcache": false,
     "headerColor": "inherit",
     "id": "5e586c89-5095-417d-998d-f9dee553ef5a",
     "isComponent": false,
     "name": "",
     "parents": []
    }
   },
   "outputs": [
    {
     "name": "stderr",
     "output_type": "stream",
     "text": [
      "22/09/19 17:10:21 WARN Utils: Your hostname, avnish-yadav resolves to a loopback address: 127.0.1.1; using 192.168.3.35 instead (on interface wlo1)\n",
      "22/09/19 17:10:21 WARN Utils: Set SPARK_LOCAL_IP if you need to bind to another address\n",
      "Using Spark's default log4j profile: org/apache/spark/log4j-defaults.properties\n",
      "Setting default log level to \"WARN\".\n",
      "To adjust logging level use sc.setLogLevel(newLevel). For SparkR, use setLogLevel(newLevel).\n",
      "22/09/19 17:10:21 WARN NativeCodeLoader: Unable to load native-hadoop library for your platform... using builtin-java classes where applicable\n",
      "22/09/19 17:10:22 WARN Utils: Service 'SparkUI' could not bind on port 4040. Attempting port 4041.\n"
     ]
    }
   ],
   "source": [
    "from finance_complaint.entity.spark_manager import spark_session"
   ]
  },
  {
   "cell_type": "code",
   "execution_count": 3,
   "id": "0b179af3-debb-4c4c-b23f-9a06077113c0",
   "metadata": {
    "canvas": {
     "comments": [],
     "componentType": "CodeCell",
     "copiedOriginId": null,
     "diskcache": false,
     "headerColor": "inherit",
     "id": "1e8995fd-b76e-4a7b-b4b4-18edfedaf061",
     "isComponent": false,
     "name": "",
     "parents": []
    }
   },
   "outputs": [],
   "source": [
    "from pyspark.sql.types import StringType,StructType,FloatType,StringType,StructField"
   ]
  },
  {
   "cell_type": "code",
   "execution_count": null,
   "id": "676408a7-38e0-464c-a860-db7d670eaa06",
   "metadata": {
    "canvas": {
     "comments": [],
     "componentType": "CodeCell",
     "copiedOriginId": null,
     "diskcache": false,
     "headerColor": "inherit",
     "id": "9d4c53bb-17ca-4cb9-b579-15ca03918bc2",
     "isComponent": false,
     "name": "",
     "parents": []
    }
   },
   "outputs": [],
   "source": []
  },
  {
   "cell_type": "code",
   "execution_count": 4,
   "id": "d99c3219-0b51-47ba-a2c9-ff90342730d0",
   "metadata": {
    "canvas": {
     "comments": [],
     "componentType": "CodeCell",
     "copiedOriginId": null,
     "diskcache": false,
     "headerColor": "inherit",
     "id": "6f81164b-694f-475a-bc28-2fea25815885",
     "isComponent": false,
     "name": "",
     "parents": []
    }
   },
   "outputs": [],
   "source": [
    "df=spark_session.read.schema(StructType([StructField(\"model_accepted\", StringType()),\n",
    "                                                    StructField(\"changed_accuracy\", FloatType()),\n",
    "                                                    StructField(\"trained_model_path\", StringType()),\n",
    "                                                    StructField(\"best_model_path\", StringType()),\n",
    "                                                    StructField(\"active\", StringType())]\n",
    "                                                   )).parquet(path)"
   ]
  },
  {
   "cell_type": "code",
   "execution_count": 5,
   "id": "3a9e1c33-b34b-496a-9c5b-523cc0e017a2",
   "metadata": {
    "canvas": {
     "comments": [],
     "componentType": "CodeCell",
     "copiedOriginId": null,
     "diskcache": false,
     "headerColor": "inherit",
     "id": "9693b781-3964-4c74-bdec-24ea342cfe57",
     "isComponent": false,
     "name": "",
     "parents": []
    }
   },
   "outputs": [
    {
     "name": "stdout",
     "output_type": "stream",
     "text": [
      "+--------------+----------------+------------------+---------------+------+\n",
      "|model_accepted|changed_accuracy|trained_model_path|best_model_path|active|\n",
      "+--------------+----------------+------------------+---------------+------+\n",
      "+--------------+----------------+------------------+---------------+------+\n",
      "\n"
     ]
    }
   ],
   "source": [
    "df.show()"
   ]
  },
  {
   "cell_type": "code",
   "execution_count": null,
   "id": "d4bd3270-8e90-42d2-a474-a3c7fac53565",
   "metadata": {
    "canvas": {
     "comments": [],
     "componentType": "CodeCell",
     "copiedOriginId": null,
     "diskcache": false,
     "headerColor": "inherit",
     "id": "67f718d1-85e3-4208-845a-03fe4f89df30",
     "isComponent": false,
     "name": "",
     "parents": []
    }
   },
   "outputs": [],
   "source": []
  }
 ],
 "metadata": {
  "canvas": {
   "colorPalette": [
    "inherit",
    "inherit",
    "inherit",
    "inherit",
    "inherit",
    "inherit",
    "inherit",
    "inherit",
    "inherit",
    "inherit"
   ],
   "parameters": [],
   "version": "1.0"
  },
  "kernelspec": {
   "display_name": "Python 3 (ipykernel)",
   "language": "python",
   "name": "python3"
  },
  "language_info": {
   "codemirror_mode": {
    "name": "ipython",
    "version": 3
   },
   "file_extension": ".py",
   "mimetype": "text/x-python",
   "name": "python",
   "nbconvert_exporter": "python",
   "pygments_lexer": "ipython3",
   "version": "3.8.0"
  }
 },
 "nbformat": 4,
 "nbformat_minor": 5
}
