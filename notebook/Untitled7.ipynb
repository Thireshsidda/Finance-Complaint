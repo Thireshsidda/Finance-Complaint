{
 "cells": [
  {
   "cell_type": "code",
   "execution_count": 1,
   "id": "1b8dd3d8-ce8d-4700-9ed7-bdabb4e12356",
   "metadata": {
    "canvas": {
     "comments": [],
     "componentType": "CodeCell",
     "copiedOriginId": null,
     "diskcache": false,
     "headerColor": "inherit",
     "id": "5505bad6-dade-405a-9c5a-d05578191f7c",
     "isComponent": false,
     "name": "",
     "parents": []
    }
   },
   "outputs": [],
   "source": [
    "fp=\"finance_artifact/model_trainer/20220919_171830/trained_model\""
   ]
  },
  {
   "cell_type": "code",
   "execution_count": 3,
   "id": "fbac2b5f-a698-43b0-8cc0-a047242eda5f",
   "metadata": {
    "canvas": {
     "comments": [],
     "componentType": "CodeCell",
     "copiedOriginId": null,
     "diskcache": false,
     "headerColor": "inherit",
     "id": "26173d6b-04ef-404d-8086-30b784187fd2",
     "isComponent": false,
     "name": "",
     "parents": []
    }
   },
   "outputs": [],
   "source": [
    "file_name=\"model\""
   ]
  },
  {
   "cell_type": "code",
   "execution_count": 7,
   "id": "5209f0d8-d20b-4a2a-bde1-b12919fca784",
   "metadata": {
    "canvas": {
     "comments": [],
     "componentType": "CodeCell",
     "copiedOriginId": null,
     "diskcache": false,
     "headerColor": "inherit",
     "id": "17155f41-ff2a-4258-9f3b-13858953bd79",
     "isComponent": false,
     "name": "",
     "parents": []
    }
   },
   "outputs": [],
   "source": [
    "import os\n",
    "\n",
    "if os.path.exists(f\"{file_name}.zip\"):\n",
    "    print(\"removing\")\n",
    "    os.remove(f\"{file_name}.zip\")"
   ]
  },
  {
   "cell_type": "code",
   "execution_count": 35,
   "id": "4fed60d8-ba19-46a3-be30-20817b2634e4",
   "metadata": {
    "canvas": {
     "comments": [],
     "componentType": "CodeCell",
     "copiedOriginId": null,
     "diskcache": false,
     "headerColor": "inherit",
     "id": "f793e101-434e-434d-bb89-a14b49a1bb67",
     "isComponent": false,
     "name": "",
     "parents": []
    }
   },
   "outputs": [],
   "source": [
    "shutil.unpack_archive(filename=\"model.zip\",extract_dir=\"model\",format=\"zip\")"
   ]
  },
  {
   "cell_type": "code",
   "execution_count": 32,
   "id": "b4e81d52-0eb6-431c-aa5a-492b13cc4fdf",
   "metadata": {
    "canvas": {
     "comments": [],
     "componentType": "CodeCell",
     "copiedOriginId": null,
     "diskcache": false,
     "headerColor": "inherit",
     "id": "ef8721cf-f160-45e6-838a-11133de7b3d2",
     "isComponent": false,
     "name": "",
     "parents": []
    },
    "tags": []
   },
   "outputs": [
    {
     "data": {
      "text/plain": [
       "'/home/avnish/iNeuron_Private_Intelligence_Limited/industry_ready_project/finance_complaint/model.zip'"
      ]
     },
     "execution_count": 32,
     "metadata": {},
     "output_type": "execute_result"
    }
   ],
   "source": [
    "import shutil\n",
    "shutil.make_archive(\"model\", 'zip', fp)"
   ]
  },
  {
   "cell_type": "code",
   "execution_count": 9,
   "id": "672c3cee-e026-44ce-8dd8-97e5ae20c78c",
   "metadata": {
    "canvas": {
     "comments": [],
     "componentType": "CodeCell",
     "copiedOriginId": null,
     "diskcache": false,
     "headerColor": "inherit",
     "id": "dac4e6f4-28ab-46ff-804d-3f11f4f4bea4",
     "isComponent": false,
     "name": "",
     "parents": []
    }
   },
   "outputs": [],
   "source": [
    "from datetime import datetime"
   ]
  },
  {
   "cell_type": "code",
   "execution_count": null,
   "id": "a51489e1-e5bf-4dbb-b057-642a5d2da178",
   "metadata": {
    "canvas": {
     "comments": [],
     "componentType": "CodeCell",
     "copiedOriginId": null,
     "diskcache": false,
     "headerColor": "inherit",
     "id": "fff1a335-cc06-4827-b564-979505301bf5",
     "isComponent": false,
     "name": "",
     "parents": []
    }
   },
   "outputs": [],
   "source": [
    "datetime.now().strftime(\"%Y%m%d_%H%M%S\")"
   ]
  },
  {
   "cell_type": "code",
   "execution_count": 18,
   "id": "013d7fc9-2de9-4b4f-a2cf-9acfd0d81fb3",
   "metadata": {
    "canvas": {
     "comments": [],
     "componentType": "CodeCell",
     "copiedOriginId": null,
     "diskcache": false,
     "headerColor": "inherit",
     "id": "70e7d138-4cfa-4823-8de1-d4c3b546592c",
     "isComponent": false,
     "name": "",
     "parents": []
    }
   },
   "outputs": [
    {
     "data": {
      "text/plain": [
       "True"
      ]
     },
     "execution_count": 18,
     "metadata": {},
     "output_type": "execute_result"
    }
   ],
   "source": [
    "os.path.exists(\"/home/avnish/iNeuron_Private_Intelligence_Limited/industry_ready_project/finance_complaint/finance_complaint/entity/artifact_entity.py\")"
   ]
  },
  {
   "cell_type": "code",
   "execution_count": 20,
   "id": "2ce876d9-f848-426e-a94c-8247ef91249f",
   "metadata": {
    "canvas": {
     "comments": [],
     "componentType": "CodeCell",
     "copiedOriginId": null,
     "diskcache": false,
     "headerColor": "inherit",
     "id": "9e590b29-6979-4dd0-b6de-ab1a9e2c5696",
     "isComponent": false,
     "name": "",
     "parents": []
    }
   },
   "outputs": [],
   "source": [
    "import time"
   ]
  },
  {
   "cell_type": "code",
   "execution_count": 31,
   "id": "11003b76-f955-4ef7-a04f-ca3e0e96d418",
   "metadata": {
    "canvas": {
     "comments": [],
     "componentType": "CodeCell",
     "copiedOriginId": null,
     "diskcache": false,
     "headerColor": "inherit",
     "id": "7051a303-e82b-48bd-8978-24d1e6b77e9a",
     "isComponent": false,
     "name": "",
     "parents": []
    }
   },
   "outputs": [
    {
     "data": {
      "text/plain": [
       "16639314689089038"
      ]
     },
     "execution_count": 31,
     "metadata": {},
     "output_type": "execute_result"
    }
   ],
   "source": [
    "\n",
    "int(str(time.time()).replace(\".\",\"\"))"
   ]
  },
  {
   "cell_type": "code",
   "execution_count": null,
   "id": "a32680e0-1a42-42ad-9799-522b8293b33e",
   "metadata": {
    "canvas": {
     "comments": [],
     "componentType": "CodeCell",
     "copiedOriginId": null,
     "diskcache": false,
     "headerColor": "inherit",
     "id": "f3322229-b05e-4e15-a8a9-8a2e6bb75e75",
     "isComponent": false,
     "name": "",
     "parents": []
    }
   },
   "outputs": [],
   "source": []
  },
  {
   "cell_type": "code",
   "execution_count": 17,
   "id": "b4797cec-7f9e-4ba4-af76-2d1db557c69d",
   "metadata": {
    "canvas": {
     "comments": [],
     "componentType": "CodeCell",
     "copiedOriginId": null,
     "diskcache": false,
     "headerColor": "inherit",
     "id": "baae83cb-bce6-40e2-ac29-b819a21bdbc1",
     "isComponent": false,
     "name": "",
     "parents": []
    }
   },
   "outputs": [],
   "source": [
    "import shutil\n",
    "class S3ModelRegistry:\n",
    "    \n",
    "    def __init__(self,bucket_name):\n",
    "        self.__model_dir = \"saved_models\"\n",
    "        self.__timestamp = str(time.time()).replace(\".\",\"\")\n",
    "        self.__model_file_name=\"model.zip\"\n",
    "        self.__compression_format = \".zip\"\n",
    "        self.s3_client = boto3.client('s3')\n",
    "        self.bucket = None\n",
    "        \n",
    "    def get_save_model_path(self,s3_key:str):\n",
    "        if not s3_key.endswith(\"/\"):\n",
    "            s3_key=f\"{s3_key}/\"\n",
    "        return f\"{s3_key}{self.__model_dir}/{self.__timestamp}/{self.__model_file_name}\"\n",
    "    \n",
    "    \n",
    "    def get_all_model_path(self,s3_key:str):\n",
    "        if not s3_key.endswith(\"/\"):\n",
    "            s3_key=f\"{s3_key}/\"\n",
    "        s3_key=f\"{s3_key}{self.__model_dir}/\"\n",
    "        \n",
    "        paths = []\n",
    "        for key in self.bucket.objects.filter(Prefix = s3_key):\n",
    "            if key.endswith(self.__model_file_name):\n",
    "                paths.append(key)\n",
    "        return path\n",
    "        \n",
    "    \n",
    "    def get_load_model_path(self,s3_key,str):\n",
    "        if not s3_key.endswith(\"/\"):\n",
    "            s3_key=f\"{s3_key}/\"\n",
    "        s3_key=f\"{s3_key}{self.__model_dir}/\"\n",
    "        \n",
    "        timestamps = []\n",
    "        for key in self.bucket.objects.filter(Prefix = s3_key):\n",
    "            timestamps.append(int(s3_key.replace(s3_key,key).replace(f\"/{self.__model_file_name}\")))\n",
    "        \n",
    "        timestamp = max(timestamps)\n",
    "            \n",
    "        model_path = f\"{s3_key}{timestamp}/{self.__model_file_name}\"\n",
    "        return model_path\n",
    "            \n",
    "    @staticmethod\n",
    "    def decompress_model(zip_model_file_path,extract_dir):\n",
    "        shutil.unpack_archive(filename=zip_model_file_path,\n",
    "                              extract_dir=extract_dir,\n",
    "                              format=self.__compression_format)\n",
    "        \n",
    "    \n",
    "    \n",
    "    \n",
    "    \n",
    "    @staticmethod\n",
    "    def compress_model_dir(model_dir):\n",
    "        if not os.path.exists(model_dir):\n",
    "            raise Exception(f\"Provided model dir:{model_dir} not exist.\")\n",
    "            \n",
    "        #preparing temp model zip file path\n",
    "        tmp_model_file_name = os.path.join(os.getcwd(),\n",
    "                                           f\"tmp_{self.__timestamp}\",\n",
    "                                           self.__model_file_name.replace(self.__compression_format))\n",
    "        \n",
    "        #remove tmp model zip file path is already present\n",
    "        if os.path.exists(tmp_model_file_name):\n",
    "            os.remove(tmp_model_file_name)\n",
    "        \n",
    "        #creating zip file of model dir at tmp model zip file path\n",
    "        shutil.make_archive(base_name=tmp_model_file_name,\n",
    "                           format=self.__compression_format,\n",
    "                            root_dir=model_dir\n",
    "                           )\n",
    "        return tmp_model_file_name\n",
    "            \n",
    "        \n",
    "    def dump(self,model_dir,s3_key):\n",
    "        model_zip_file_path = self.compress_model_dir(model_dir=model_dir)\n",
    "        self.s3_client.upload_file(model_zip_file_path,self.bucket_name,self.get_save_model_path(s3_key=s3_key))\n",
    "        \n",
    "    \n",
    "    def load(self,s3_key,extract_dir):\n",
    "        #obtaining latest model directory\n",
    "        model_path=  self.get_load_model_path(s3_key=s3_key,)\n",
    "        \n",
    "        #preparing file location to download model from s3 bucket\n",
    "        download_file_path = os.path.join(extract_dir,self.__model_file_name)\n",
    "        \n",
    "        #download model from s3 into download file location\n",
    "        self.s3_client.download_file(self.bucket_name,model_path,download_file_path)\n",
    "        \n",
    "        \n",
    "        self.decompress_model(zip_model_file_path=download_file_path,\n",
    "                             extract_dir=extract_dir\n",
    "                             )\n",
    "        os.path.remove(download_file_path)\n",
    "        \n",
    "        "
   ]
  },
  {
   "cell_type": "code",
   "execution_count": 15,
   "id": "92cf0814-cf1c-4bea-8a91-24575ed2ea71",
   "metadata": {
    "canvas": {
     "comments": [],
     "componentType": "CodeCell",
     "copiedOriginId": null,
     "diskcache": false,
     "headerColor": "inherit",
     "id": "0244af96-24d3-4c13-8696-e64b85d85126",
     "isComponent": false,
     "name": "",
     "parents": []
    }
   },
   "outputs": [
    {
     "data": {
      "text/plain": [
       "'model/saved_models/20220923_161310/model.zip'"
      ]
     },
     "execution_count": 15,
     "metadata": {},
     "output_type": "execute_result"
    }
   ],
   "source": [
    "S3ModelRegistry(bucket_name=\"finance_complaint\").get_model_path(s3_key=\"model\")"
   ]
  },
  {
   "cell_type": "code",
   "execution_count": null,
   "id": "e1309945-4293-4ec1-88d7-da3960addfa9",
   "metadata": {
    "canvas": {
     "comments": [],
     "componentType": "CodeCell",
     "copiedOriginId": null,
     "diskcache": false,
     "headerColor": "inherit",
     "id": "fa35441a-bdfd-4eac-886e-64820afb4435",
     "isComponent": false,
     "name": "",
     "parents": []
    }
   },
   "outputs": [],
   "source": [
    "list(pd.date_range(start=self.data_ingestion_config.from_date,\n",
    "                                                end=self.data_ingestion_config.to_date,\n",
    "                                                freq=\"d\").astype('str'))"
   ]
  },
  {
   "cell_type": "code",
   "execution_count": 2,
   "id": "20894adf-1290-49c7-8511-545c083cb21e",
   "metadata": {},
   "outputs": [],
   "source": [
    "from datetime import datetime"
   ]
  },
  {
   "cell_type": "code",
   "execution_count": 6,
   "id": "b90222bb-8b4e-4f0b-9bc3-e044ff4c0dff",
   "metadata": {},
   "outputs": [],
   "source": [
    "s=datetime.strptime(\"2001-3-2\", \"%Y-%m-%d\")\n",
    "e=datetime.strptime(\"2010-3-2\", \"%Y-%m-%d\")"
   ]
  },
  {
   "cell_type": "code",
   "execution_count": 11,
   "id": "92b3a452-04d8-4d11-b23c-4aa009644281",
   "metadata": {},
   "outputs": [
    {
     "name": "stdout",
     "output_type": "stream",
     "text": [
      "m\n"
     ]
    }
   ],
   "source": [
    "def get_required_interval(s,e):\n",
    "    n_diff_days= (e-s).days\n",
    "    freq = None\n",
    "    if n_diff_days>365:\n",
    "        freq=\"Y\" \n",
    "    elif n_diff_days>30:\n",
    "        freq=\"M\"\n",
    "    elif n_diff_days>7:\n",
    "        freq=\"W\"\n",
    "    if freq is None:\n",
    "        ret"
   ]
  },
  {
   "cell_type": "code",
   "execution_count": 14,
   "id": "f91d97cd-bf9b-4bbf-8eeb-fe3106de12f6",
   "metadata": {},
   "outputs": [
    {
     "data": {
      "text/plain": [
       "3287"
      ]
     },
     "execution_count": 14,
     "metadata": {},
     "output_type": "execute_result"
    }
   ],
   "source": [
    "(e-s).days"
   ]
  },
  {
   "cell_type": "code",
   "execution_count": 15,
   "id": "e54668d7-9646-4494-a128-d988836084a8",
   "metadata": {},
   "outputs": [],
   "source": [
    "import pandas as pd"
   ]
  },
  {
   "cell_type": "code",
   "execution_count": 26,
   "id": "8260dd4b-9491-4513-9e9a-eb5e84ad0ccf",
   "metadata": {},
   "outputs": [
    {
     "data": {
      "text/plain": [
       "(datetime.datetime(2001, 3, 2, 0, 0), datetime.datetime(2010, 3, 2, 0, 0))"
      ]
     },
     "execution_count": 26,
     "metadata": {},
     "output_type": "execute_result"
    }
   ],
   "source": [
    "s,e"
   ]
  },
  {
   "cell_type": "code",
   "execution_count": 29,
   "id": "817c0dcb-6f04-4edb-836c-93079c0b4470",
   "metadata": {},
   "outputs": [
    {
     "data": {
      "text/plain": [
       "['2001-03-02', '2010-03-02']"
      ]
     },
     "execution_count": 29,
     "metadata": {},
     "output_type": "execute_result"
    }
   ],
   "source": [
    "pd.date_range(s,e,periods=2).astype('str').tolist()"
   ]
  },
  {
   "cell_type": "code",
   "execution_count": null,
   "id": "9bdab947-eb29-45c9-baa4-ed7db822c8f7",
   "metadata": {},
   "outputs": [],
   "source": []
  }
 ],
 "metadata": {
  "canvas": {
   "colorPalette": [
    "inherit",
    "inherit",
    "inherit",
    "inherit",
    "inherit",
    "inherit",
    "inherit",
    "inherit",
    "inherit",
    "inherit"
   ],
   "parameters": [],
   "version": "1.0"
  },
  "kernelspec": {
   "display_name": "Python 3 (ipykernel)",
   "language": "python",
   "name": "python3"
  },
  "language_info": {
   "codemirror_mode": {
    "name": "ipython",
    "version": 3
   },
   "file_extension": ".py",
   "mimetype": "text/x-python",
   "name": "python",
   "nbconvert_exporter": "python",
   "pygments_lexer": "ipython3",
   "version": "3.8.0"
  }
 },
 "nbformat": 4,
 "nbformat_minor": 5
}
