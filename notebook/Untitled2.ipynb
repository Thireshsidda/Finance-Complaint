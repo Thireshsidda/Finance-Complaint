{
 "cells": [
  {
   "cell_type": "code",
   "execution_count": 1,
   "id": "eac2884b-8f7d-424b-b1fd-cde102299b3d",
   "metadata": {},
   "outputs": [],
   "source": [
    "pipeline_path=\"finance_artifact/data_transformation/20220913_191418/pipeline\""
   ]
  },
  {
   "cell_type": "code",
   "execution_count": 2,
   "id": "62f512ff-24b1-462f-a6c9-241ae7e9fe53",
   "metadata": {},
   "outputs": [],
   "source": [
    "from pyspark.ml.pipeline import PipelineModel"
   ]
  },
  {
   "cell_type": "code",
   "execution_count": 4,
   "id": "1c46ff33-5bb1-4990-bc9b-1c973bc2bc49",
   "metadata": {},
   "outputs": [
    {
     "name": "stdout",
     "output_type": "stream",
     "text": [
      "{'inputCols': None, 'outputCols': None}\n"
     ]
    }
   ],
   "source": [
    "fp_estimator = PipelineModel.load(pipeline_path)"
   ]
  },
  {
   "cell_type": "code",
   "execution_count": 5,
   "id": "3a46d39d-4803-4840-9c58-64098400053b",
   "metadata": {},
   "outputs": [],
   "source": [
    "fp=\"finance_artifact/data_ingestion/feature_store/finance_complaint\""
   ]
  },
  {
   "cell_type": "code",
   "execution_count": 6,
   "id": "d5c94a66-c4d8-4f2b-99f8-921e97645499",
   "metadata": {},
   "outputs": [],
   "source": [
    "from finance_complaint.entity.spark_manager import spark_session"
   ]
  },
  {
   "cell_type": "code",
   "execution_count": 7,
   "id": "eb5eb325-46b3-434a-ab6d-f5d0fa918a5f",
   "metadata": {},
   "outputs": [],
   "source": [
    "df = spark_session.read.parquet(fp)"
   ]
  },
  {
   "cell_type": "code",
   "execution_count": 8,
   "id": "964c8954-2293-4da3-a71f-8f7763c7e8a2",
   "metadata": {},
   "outputs": [
    {
     "data": {
      "text/plain": [
       "2801985"
      ]
     },
     "execution_count": 8,
     "metadata": {},
     "output_type": "execute_result"
    }
   ],
   "source": [
    "df.count()"
   ]
  },
  {
   "cell_type": "code",
   "execution_count": 9,
   "id": "7480ed84-45d5-4ea6-a143-49c8557afd54",
   "metadata": {},
   "outputs": [],
   "source": [
    "pdf = fp_estimator.transform(df)"
   ]
  },
  {
   "cell_type": "code",
   "execution_count": 10,
   "id": "7e281562-5ebb-4866-8794-ec703dfb2f9a",
   "metadata": {},
   "outputs": [
    {
     "data": {
      "text/plain": [
       "['company',\n",
       " 'company_public_response',\n",
       " 'company_response',\n",
       " 'complaint_id',\n",
       " 'complaint_what_happened',\n",
       " 'consumer_consent_provided',\n",
       " 'consumer_disputed',\n",
       " 'date_received',\n",
       " 'date_sent_to_company',\n",
       " 'issue',\n",
       " 'product',\n",
       " 'state',\n",
       " 'sub_issue',\n",
       " 'sub_product',\n",
       " 'submitted_via',\n",
       " 'tags',\n",
       " 'timely',\n",
       " 'zip_code',\n",
       " 'diff_in_days',\n",
       " 'im_diff_in_days',\n",
       " 'im_company_response',\n",
       " 'im_consumer_consent_provided',\n",
       " 'im_submitted_via',\n",
       " 'si_company_response',\n",
       " 'si_consumer_consent_provided',\n",
       " 'si_submitted_via',\n",
       " 'tf_company_response',\n",
       " 'tf_consumer_consent_provided',\n",
       " 'tf_submitted_via',\n",
       " 'words',\n",
       " 'rawFeatures',\n",
       " 'tf_issue',\n",
       " 'va_input_features',\n",
       " 'scaled_input_features',\n",
       " 'rawPrediction',\n",
       " 'probability',\n",
       " 'prediction',\n",
       " 'prediction_consumer_disputed']"
      ]
     },
     "execution_count": 10,
     "metadata": {},
     "output_type": "execute_result"
    }
   ],
   "source": [
    "pdf.columns"
   ]
  },
  {
   "cell_type": "code",
   "execution_count": 13,
   "id": "e01990ea-5096-4144-b90a-eb51900680fa",
   "metadata": {},
   "outputs": [
    {
     "name": "stderr",
     "output_type": "stream",
     "text": [
      "[Stage 104:==================================================>      (8 + 1) / 9]\r"
     ]
    },
    {
     "name": "stdout",
     "output_type": "stream",
     "text": [
      "+----------------------------+-------+\n",
      "|prediction_consumer_disputed|  count|\n",
      "+----------------------------+-------+\n",
      "|                          No| 462407|\n",
      "|                         N/A|2339578|\n",
      "+----------------------------+-------+\n",
      "\n"
     ]
    },
    {
     "name": "stderr",
     "output_type": "stream",
     "text": [
      "                                                                                \r"
     ]
    }
   ],
   "source": [
    "pdf.groupby(\"prediction_consumer_disputed\").count().show()"
   ]
  },
  {
   "cell_type": "code",
   "execution_count": 24,
   "id": "8dfdb3a6-b237-4424-9534-ff443d6ccce8",
   "metadata": {},
   "outputs": [],
   "source": [
    "count_of_each_cat = df.groupby(\"consumer_disputed\").count().collect()"
   ]
  },
  {
   "cell_type": "code",
   "execution_count": 59,
   "id": "8ca1b4fa-8860-444b-9f79-f830ec3c8ac7",
   "metadata": {},
   "outputs": [],
   "source": [
    "from pyspark.sql.functions import col"
   ]
  },
  {
   "cell_type": "code",
   "execution_count": 64,
   "id": "bfd6b5c0-0c55-49ec-a4bf-77dd79b958e4",
   "metadata": {},
   "outputs": [
    {
     "name": "stdout",
     "output_type": "stream",
     "text": [
      "N/A 0.0736915052344723\n",
      "No 0.2389867489074727\n",
      "Yes 1.0\n"
     ]
    }
   ],
   "source": []
  },
  {
   "cell_type": "code",
   "execution_count": 67,
   "id": "2d543118-1ac2-40fc-8dd5-a303ba267871",
   "metadata": {},
   "outputs": [
    {
     "ename": "TypeError",
     "evalue": "createDataFrame() missing 1 required positional argument: 'data'",
     "output_type": "error",
     "traceback": [
      "\u001b[0;31m---------------------------------------------------------------------------\u001b[0m",
      "\u001b[0;31mTypeError\u001b[0m                                 Traceback (most recent call last)",
      "Input \u001b[0;32mIn [67]\u001b[0m, in \u001b[0;36m<cell line: 1>\u001b[0;34m()\u001b[0m\n\u001b[0;32m----> 1\u001b[0m \u001b[43mspark_session\u001b[49m\u001b[38;5;241;43m.\u001b[39;49m\u001b[43mcreateDataFrame\u001b[49m\u001b[43m(\u001b[49m\u001b[43m)\u001b[49m\n",
      "\u001b[0;31mTypeError\u001b[0m: createDataFrame() missing 1 required positional argument: 'data'"
     ]
    }
   ],
   "source": [
    "spark_session.createDataFrame()"
   ]
  },
  {
   "cell_type": "code",
   "execution_count": 55,
   "id": "7a9dead7-a96b-405d-92da-8485ce5d7b82",
   "metadata": {},
   "outputs": [
    {
     "data": {
      "text/plain": [
       "[2027425, 625156, 149404]"
      ]
     },
     "execution_count": 55,
     "metadata": {},
     "output_type": "execute_result"
    }
   ],
   "source": [
    "n_record"
   ]
  },
  {
   "cell_type": "code",
   "execution_count": 56,
   "id": "1f4914d7-913e-481b-8a65-af67132640fd",
   "metadata": {},
   "outputs": [],
   "source": []
  },
  {
   "cell_type": "code",
   "execution_count": 57,
   "id": "e54a4fc7-8f51-486d-9d15-39bb28b48cc0",
   "metadata": {},
   "outputs": [
    {
     "data": {
      "text/plain": [
       "[0.0736915052344723, 0.2389867489074727, 1.0]"
      ]
     },
     "execution_count": 57,
     "metadata": {},
     "output_type": "execute_result"
    }
   ],
   "source": [
    "n_per"
   ]
  },
  {
   "cell_type": "code",
   "execution_count": 32,
   "id": "3ecbcbea-e703-470b-972b-211d1d5654d1",
   "metadata": {},
   "outputs": [
    {
     "data": {
      "text/plain": [
       "['N/A', 'No', 'Yes']"
      ]
     },
     "execution_count": 32,
     "metadata": {},
     "output_type": "execute_result"
    }
   ],
   "source": [
    "label"
   ]
  },
  {
   "cell_type": "code",
   "execution_count": null,
   "id": "6c5f9b82-b6a6-4f0e-aa3d-ed2243811af4",
   "metadata": {},
   "outputs": [],
   "source": []
  }
 ],
 "metadata": {
  "kernelspec": {
   "display_name": "Python 3 (ipykernel)",
   "language": "python",
   "name": "python3"
  },
  "language_info": {
   "codemirror_mode": {
    "name": "ipython",
    "version": 3
   },
   "file_extension": ".py",
   "mimetype": "text/x-python",
   "name": "python",
   "nbconvert_exporter": "python",
   "pygments_lexer": "ipython3",
   "version": "3.8.0"
  }
 },
 "nbformat": 4,
 "nbformat_minor": 5
}
