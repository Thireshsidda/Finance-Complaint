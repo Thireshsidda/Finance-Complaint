{
 "cells": [
  {
   "cell_type": "code",
   "execution_count": 1,
   "id": "3be0bb80",
   "metadata": {},
   "outputs": [],
   "source": [
    "data_file_path=\"/home/jovyan/work/finance_complaint/finance_artifact/data_ingestion/feature_store/finance_complaint\""
   ]
  },
  {
   "cell_type": "code",
   "execution_count": 2,
   "id": "1f1287ee",
   "metadata": {},
   "outputs": [],
   "source": [
    "from finance_complaint.entity.spark_manager import spark_session"
   ]
  },
  {
   "cell_type": "code",
   "execution_count": 3,
   "id": "156d4042",
   "metadata": {},
   "outputs": [],
   "source": [
    "df = spark_session.read.parquet(data_file_path)"
   ]
  },
  {
   "cell_type": "code",
   "execution_count": 4,
   "id": "b786fc20",
   "metadata": {},
   "outputs": [
    {
     "data": {
      "text/plain": [
       "2786775"
      ]
     },
     "execution_count": 4,
     "metadata": {},
     "output_type": "execute_result"
    }
   ],
   "source": [
    "df.count()"
   ]
  },
  {
   "cell_type": "code",
   "execution_count": 99,
   "id": "d6e9f684",
   "metadata": {},
   "outputs": [],
   "source": [
    "from pyspark.sql.functions import col"
   ]
  },
  {
   "cell_type": "code",
   "execution_count": 14,
   "id": "1e1fbde7",
   "metadata": {},
   "outputs": [
    {
     "data": {
      "text/plain": [
       "DataFrame[complaint_id: string]"
      ]
     },
     "execution_count": 14,
     "metadata": {},
     "output_type": "execute_result"
    }
   ],
   "source": [
    "df.select('complaint_id')"
   ]
  },
  {
   "cell_type": "markdown",
   "id": "23946bea",
   "metadata": {},
   "source": [
    "## Conf"
   ]
  },
  {
   "cell_type": "code",
   "execution_count": 100,
   "id": "2cecfd60",
   "metadata": {},
   "outputs": [],
   "source": [
    "def update_column_attribute(df):\n",
    "    for column in df.columns:\n",
    "        setattr(df,column,column)"
   ]
  },
  {
   "cell_type": "code",
   "execution_count": 101,
   "id": "d027664b",
   "metadata": {},
   "outputs": [],
   "source": [
    "update_column_attribute(df)"
   ]
  },
  {
   "cell_type": "markdown",
   "id": "749c0f81",
   "metadata": {},
   "source": [
    "## Printing unique values in each column"
   ]
  },
  {
   "cell_type": "code",
   "execution_count": null,
   "id": "977643de",
   "metadata": {},
   "outputs": [],
   "source": []
  },
  {
   "cell_type": "code",
   "execution_count": 15,
   "id": "2f33e5f1",
   "metadata": {},
   "outputs": [
    {
     "name": "stdout",
     "output_type": "stream",
     "text": [
      "company:6464\n",
      "company_public_response:12\n",
      "company_response:9\n",
      "complaint_id:2774363\n",
      "complaint_what_happened:892308\n",
      "consumer_consent_provided:6\n",
      "consumer_disputed:3\n",
      "date_received:3833\n",
      "date_sent_to_company:3834\n",
      "issue:165\n",
      "product:18\n",
      "state:64\n",
      "sub_issue:222\n",
      "sub_product:77\n",
      "submitted_via:7\n",
      "tags:4\n",
      "timely:2\n",
      "zip_code:34118\n"
     ]
    }
   ],
   "source": [
    "for column in df.columns:\n",
    "    print(f\"{column}:{df.select(column).distinct().count()}\")"
   ]
  },
  {
   "cell_type": "code",
   "execution_count": 102,
   "id": "730acac6",
   "metadata": {},
   "outputs": [],
   "source": [
    "complaint_table=\"complaint\"\n",
    "df.createOrReplaceTempView(complaint_table)"
   ]
  },
  {
   "cell_type": "code",
   "execution_count": 23,
   "id": "a6b72328",
   "metadata": {},
   "outputs": [],
   "source": [
    "sql = spark_session.sql"
   ]
  },
  {
   "cell_type": "code",
   "execution_count": 103,
   "id": "49888332",
   "metadata": {},
   "outputs": [],
   "source": [
    "n_row = df.count()"
   ]
  },
  {
   "cell_type": "code",
   "execution_count": 35,
   "id": "88b0cd9e",
   "metadata": {},
   "outputs": [
    {
     "name": "stdout",
     "output_type": "stream",
     "text": [
      "+-----------------+-------+\n",
      "|consumer_disputed|  count|\n",
      "+-----------------+-------+\n",
      "|              N/A|2017177|\n",
      "|               No| 621087|\n",
      "|              Yes| 148511|\n",
      "+-----------------+-------+\n",
      "\n"
     ]
    }
   ],
   "source": [
    "#Target column\n",
    "df.groupBy(df.consumer_disputed).count().collect()"
   ]
  },
  {
   "cell_type": "code",
   "execution_count": 36,
   "id": "cf2983c9",
   "metadata": {},
   "outputs": [
    {
     "name": "stdout",
     "output_type": "stream",
     "text": [
      "root\n",
      " |-- company: string (nullable = true)\n",
      " |-- company_public_response: string (nullable = true)\n",
      " |-- company_response: string (nullable = true)\n",
      " |-- complaint_id: string (nullable = true)\n",
      " |-- complaint_what_happened: string (nullable = true)\n",
      " |-- consumer_consent_provided: string (nullable = true)\n",
      " |-- consumer_disputed: string (nullable = true)\n",
      " |-- date_received: string (nullable = true)\n",
      " |-- date_sent_to_company: string (nullable = true)\n",
      " |-- issue: string (nullable = true)\n",
      " |-- product: string (nullable = true)\n",
      " |-- state: string (nullable = true)\n",
      " |-- sub_issue: string (nullable = true)\n",
      " |-- sub_product: string (nullable = true)\n",
      " |-- submitted_via: string (nullable = true)\n",
      " |-- tags: string (nullable = true)\n",
      " |-- timely: string (nullable = true)\n",
      " |-- zip_code: string (nullable = true)\n",
      "\n"
     ]
    }
   ],
   "source": [
    "df.printSchema()"
   ]
  },
  {
   "cell_type": "code",
   "execution_count": 104,
   "id": "10250914",
   "metadata": {},
   "outputs": [],
   "source": [
    "missing_target_df = sql(f\"select * from {complaint_table} where {df.consumer_disputed} ='N/A' \")"
   ]
  },
  {
   "cell_type": "code",
   "execution_count": 105,
   "id": "71745557",
   "metadata": {},
   "outputs": [],
   "source": [
    "df = sql(f\"select * from {complaint_table} where {df.consumer_disputed} <>'N/A' \")"
   ]
  },
  {
   "cell_type": "code",
   "execution_count": 106,
   "id": "4d6452a4",
   "metadata": {},
   "outputs": [],
   "source": [
    "complaint_table=\"complaint\"\n",
    "df.createOrReplaceTempView(complaint_table)"
   ]
  },
  {
   "cell_type": "code",
   "execution_count": 107,
   "id": "a0c9f29c",
   "metadata": {},
   "outputs": [],
   "source": [
    "update_column_attribute(df)"
   ]
  },
  {
   "cell_type": "code",
   "execution_count": null,
   "id": "ddf7976e",
   "metadata": {},
   "outputs": [],
   "source": []
  },
  {
   "cell_type": "code",
   "execution_count": 110,
   "id": "f127913a",
   "metadata": {},
   "outputs": [],
   "source": [
    "\n",
    "def perform_null_analysis(df,table_name):\n",
    "    null_value_analysis=[]\n",
    "    n_row=df.count()\n",
    "    for column in df.columns:\n",
    "        print(column)\n",
    "        response = sql(f\"select {n_row} as  total_row,count(*) as null_row_{column},(count(*)*100)/{n_row} as missing_percentage,'{column}' as  column_name from {table_name} where {column} is null\").collect()\n",
    "        null_value_analysis.append(response)\n",
    "    return null_value_analysis"
   ]
  },
  {
   "cell_type": "code",
   "execution_count": 111,
   "id": "0e5d1fd0",
   "metadata": {},
   "outputs": [
    {
     "name": "stdout",
     "output_type": "stream",
     "text": [
      "company\n",
      "company_public_response\n",
      "company_response\n",
      "complaint_id\n",
      "complaint_what_happened\n",
      "consumer_consent_provided\n",
      "consumer_disputed\n",
      "date_received\n",
      "date_sent_to_company\n",
      "issue\n",
      "product\n",
      "state\n",
      "sub_issue\n",
      "sub_product\n",
      "submitted_via\n",
      "tags\n",
      "timely\n",
      "zip_code\n"
     ]
    }
   ],
   "source": [
    "null_report = perform_null_analysis(df,complaint_table)"
   ]
  },
  {
   "cell_type": "code",
   "execution_count": 112,
   "id": "3cc7d724",
   "metadata": {},
   "outputs": [],
   "source": [
    "def unwanted_column_by_missing_percentage(null_value_analysis,per_thres=20):\n",
    "    columns= []\n",
    "    for row in null_value_analysis:\n",
    "        row_info=row[0]\n",
    "        if row_info.missing_percentage>per_thres:\n",
    "            print(row_info)\n",
    "            columns.append(row_info.column_name)\n",
    "\n",
    "    return columns\n"
   ]
  },
  {
   "cell_type": "code",
   "execution_count": 113,
   "id": "0c04aa04",
   "metadata": {},
   "outputs": [
    {
     "name": "stdout",
     "output_type": "stream",
     "text": [
      "Row(total_row=769598, null_row_company_public_response=572886, missing_percentage=74.4396425146635, column_name='company_public_response')\n",
      "Row(total_row=769598, null_row_sub_issue=454896, missing_percentage=59.10826171585685, column_name='sub_issue')\n",
      "Row(total_row=769598, null_row_sub_product=235106, missing_percentage=30.549195813918434, column_name='sub_product')\n",
      "Row(total_row=769598, null_row_tags=660916, missing_percentage=85.8780818037469, column_name='tags')\n"
     ]
    }
   ],
   "source": [
    "columns = unwanted_column_by_missing_percentage(null_value_analysis=null_report)"
   ]
  },
  {
   "cell_type": "code",
   "execution_count": 132,
   "id": "e58cda9a",
   "metadata": {},
   "outputs": [],
   "source": [
    "def drop_column(df,columns):\n",
    "    selected_column = list(filter(lambda x:x not in columns,df.columns))\n",
    "    selected_column = \",\".join(selected_column)\n",
    "    df= sql(f\"select {selected_column}  from {complaint_table} \")\n",
    "    return df"
   ]
  },
  {
   "cell_type": "code",
   "execution_count": 133,
   "id": "0391b3bf",
   "metadata": {},
   "outputs": [],
   "source": [
    "df=drop_column(df,columns)"
   ]
  },
  {
   "cell_type": "code",
   "execution_count": 139,
   "id": "676e648a",
   "metadata": {},
   "outputs": [
    {
     "name": "stdout",
     "output_type": "stream",
     "text": [
      "company\n",
      "company_response\n",
      "complaint_id\n",
      "complaint_what_happened\n",
      "consumer_consent_provided\n",
      "consumer_disputed\n",
      "date_received\n",
      "date_sent_to_company\n",
      "issue\n",
      "product\n",
      "state\n",
      "submitted_via\n",
      "timely\n",
      "zip_code\n"
     ]
    }
   ],
   "source": [
    "columns = perform_null_analysis(df,complaint_table)"
   ]
  },
  {
   "cell_type": "code",
   "execution_count": 141,
   "id": "7a62ddc6",
   "metadata": {},
   "outputs": [
    {
     "data": {
      "text/plain": [
       "[]"
      ]
     },
     "execution_count": 141,
     "metadata": {},
     "output_type": "execute_result"
    }
   ],
   "source": [
    "unwanted_column_by_missing_percentage(columns)"
   ]
  },
  {
   "cell_type": "code",
   "execution_count": 115,
   "id": "fc49f2ed",
   "metadata": {},
   "outputs": [],
   "source": [
    "#dropping feature as we have found more than 20% of null value in above columns"
   ]
  },
  {
   "cell_type": "code",
   "execution_count": 143,
   "id": "bcfdb6d4",
   "metadata": {},
   "outputs": [
    {
     "name": "stdout",
     "output_type": "stream",
     "text": [
      "+--------------------+--------------------+------------+-----------------------+-------------------------+-----------------+--------------------+--------------------+--------------------+--------------------+-----+-------------+------+--------+\n",
      "|             company|    company_response|complaint_id|complaint_what_happened|consumer_consent_provided|consumer_disputed|       date_received|date_sent_to_company|               issue|             product|state|submitted_via|timely|zip_code|\n",
      "+--------------------+--------------------+------------+-----------------------+-------------------------+-----------------+--------------------+--------------------+--------------------+--------------------+-----+-------------+------+--------+\n",
      "|       EQUIFAX, INC.|Closed with expla...|     2390217|                       |     Consent not provided|               No|2017-03-16T12:00:...|2017-03-17T12:00:...|Credit monitoring...|    Credit reporting|   CT|          Web|   Yes|   06226|\n",
      "|TRANSUNION INTERM...|Closed with expla...|     2333548|                       |     Consent not provided|               No|2017-02-08T12:00:...|2017-02-08T12:00:...|Incorrect informa...|    Credit reporting|   MO|          Web|   Yes|   63134|\n",
      "|TOYOTA MOTOR CRED...|Closed with expla...|     2311694|                       |     Consent not provided|               No|2017-01-25T12:00:...|2017-01-25T12:00:...|Managing the loan...|       Consumer Loan|   CT|          Web|   Yes|   06010|\n",
      "|BANK OF AMERICA, ...|Closed with expla...|     2289573|   around XX/XX/2016...|         Consent provided|              Yes|2017-01-13T12:00:...|2017-01-13T12:00:...|Problems caused b...|Bank account or s...|   CA|          Web|   Yes|   90020|\n",
      "|BANK OF AMERICA, ...|Closed with non-m...|     2320269|                       |                      N/A|               No|2017-01-31T12:00:...|2017-02-07T12:00:...|Loan servicing, p...|            Mortgage|   MN|          Fax|   Yes|   55354|\n",
      "|Optimum Outcomes,...|Closed with expla...|     2277940|                       |                      N/A|              Yes|2017-01-06T12:00:...|2017-01-06T12:00:...|Disclosure verifi...|     Debt collection|   NC|        Phone|   Yes|   28269|\n",
      "|       DISCOVER BANK|Closed with expla...|     2366909|   I received a lett...|         Consent provided|               No|2017-03-01T12:00:...|2017-03-01T12:00:...|Dealing with my l...|        Student loan|   WA|          Web|   Yes|   98030|\n",
      "|Experian Informat...|Closed with expla...|     2351548|   I found that my i...|         Consent provided|               No|2017-02-19T12:00:...|2017-02-19T12:00:...|Incorrect informa...|    Credit reporting|   CA|          Web|   Yes|   95131|\n",
      "|       EQUIFAX, INC.|Closed with expla...|     2346351|   To Credit dispute...|         Consent provided|               No|2017-02-15T12:00:...|2017-02-15T12:00:...|Incorrect informa...|    Credit reporting|   PA|          Web|   Yes|   19465|\n",
      "|WELLS FARGO & COM...|Closed with expla...|     2394504|   We had a mortgage...|         Consent provided|              Yes|2017-03-20T12:00:...|2017-03-21T12:00:...|Loan servicing, p...|            Mortgage|   GA|          Web|   Yes|   30011|\n",
      "|Nicholas Financia...|Closed with expla...|     2374849|   I purchase a car ...|         Consent provided|               No|2017-03-08T12:00:...|2017-03-10T12:00:...|Taking out the lo...|       Consumer Loan|   TN|          Web|   Yes|   37217|\n",
      "|CNG FINANCIAL COR...|Closed with expla...|     2343822|                       |                    Other|              Yes|2017-02-14T12:00:...|2017-02-17T12:00:...|Charged fees or i...|         Payday loan|   DE|          Web|   Yes|   19943|\n",
      "|SELECT PORTFOLIO ...|Closed with expla...|     2349872|                       |                      N/A|               No|2017-02-17T12:00:...|2017-02-23T12:00:...|Loan modification...|            Mortgage|   RI|        Phone|   Yes|   02863|\n",
      "|JPMORGAN CHASE & CO.|Closed with monet...|     2357309|                       |                      N/A|              Yes|2017-02-23T12:00:...|2017-02-28T12:00:...|Account opening, ...|Bank account or s...|   IL|     Referral|   Yes|   60442|\n",
      "|   I.C. System, Inc.|Closed with expla...|     2326742|                       |     Consent not provided|               No|2017-02-03T12:00:...|2017-02-07T12:00:...|Cont'd attempts c...|     Debt collection|   GA|          Web|   Yes|   30101|\n",
      "|        Nelnet, Inc.|Closed with expla...|     2315338|   I have reported n...|         Consent provided|              Yes|2017-01-27T12:00:...|2017-01-27T12:00:...|Dealing with my l...|        Student loan|   GA|          Web|   Yes|   30168|\n",
      "|STERLING JEWELERS...|Closed with expla...|     2327089|                       |     Consent not provided|               No|2017-02-03T12:00:...|2017-02-03T12:00:...|Disclosure verifi...|     Debt collection|   IL|          Web|   Yes|   60473|\n",
      "|   Credit Karma, LLC|Closed with expla...|     2283771|                       |     Consent not provided|               No|2017-01-11T12:00:...|2017-01-12T12:00:...|Incorrect informa...|    Credit reporting|   ID|          Web|   Yes|   83651|\n",
      "|BANK OF AMERICA, ...|Closed with expla...|     2341110|                       |     Consent not provided|               No|2017-02-14T12:00:...|2017-02-14T12:00:...|Credit decision /...|            Mortgage|   KS|          Web|   Yes|   66617|\n",
      "|       PNC Bank N.A.|Closed with expla...|     2302486|   I completed gradu...|         Consent provided|               No|2017-01-21T12:00:...|2017-01-21T12:00:...|Dealing with my l...|        Student loan|   TX|          Web|   Yes|   75401|\n",
      "+--------------------+--------------------+------------+-----------------------+-------------------------+-----------------+--------------------+--------------------+--------------------+--------------------+-----+-------------+------+--------+\n",
      "only showing top 20 rows\n",
      "\n"
     ]
    }
   ],
   "source": [
    "df.collect()"
   ]
  },
  {
   "cell_type": "code",
   "execution_count": 144,
   "id": "2dbc6335",
   "metadata": {},
   "outputs": [
    {
     "name": "stdout",
     "output_type": "stream",
     "text": [
      "Total number of row: 769598\n"
     ]
    }
   ],
   "source": [
    "## Unique values in each columns\n",
    "\n"
   ]
  },
  {
   "cell_type": "code",
   "execution_count": 145,
   "id": "00171642",
   "metadata": {},
   "outputs": [
    {
     "name": "stdout",
     "output_type": "stream",
     "text": [
      "company:4284\n",
      "company_response:7\n",
      "complaint_id:765945\n",
      "complaint_what_happened:160969\n",
      "consumer_consent_provided:6\n",
      "consumer_disputed:2\n",
      "date_received:1940\n",
      "date_sent_to_company:2024\n",
      "issue:99\n",
      "product:13\n",
      "state:63\n",
      "submitted_via:6\n",
      "timely:2\n",
      "zip_code:28717\n"
     ]
    }
   ],
   "source": [
    "print(f\"Total number of row: {df.count()}\")\n",
    "for column in df.columns:\n",
    "    print(f\"{column}:{df.select(column).distinct().count()}\")"
   ]
  },
  {
   "cell_type": "code",
   "execution_count": 146,
   "id": "d6d385d9",
   "metadata": {},
   "outputs": [],
   "source": [
    "update_column_attribute(df)"
   ]
  },
  {
   "cell_type": "code",
   "execution_count": 147,
   "id": "0ce67c75",
   "metadata": {},
   "outputs": [],
   "source": [
    "df=drop_column(df,columns=[df.complaint_id])"
   ]
  },
  {
   "cell_type": "code",
   "execution_count": 148,
   "id": "0c003d63",
   "metadata": {},
   "outputs": [],
   "source": [
    "update_column_attribute(df)"
   ]
  },
  {
   "cell_type": "code",
   "execution_count": 149,
   "id": "36e42af6",
   "metadata": {},
   "outputs": [
    {
     "name": "stdout",
     "output_type": "stream",
     "text": [
      "root\n",
      " |-- company: string (nullable = true)\n",
      " |-- company_response: string (nullable = true)\n",
      " |-- complaint_what_happened: string (nullable = true)\n",
      " |-- consumer_consent_provided: string (nullable = true)\n",
      " |-- consumer_disputed: string (nullable = true)\n",
      " |-- date_received: string (nullable = true)\n",
      " |-- date_sent_to_company: string (nullable = true)\n",
      " |-- issue: string (nullable = true)\n",
      " |-- product: string (nullable = true)\n",
      " |-- state: string (nullable = true)\n",
      " |-- submitted_via: string (nullable = true)\n",
      " |-- timely: string (nullable = true)\n",
      " |-- zip_code: string (nullable = true)\n",
      "\n"
     ]
    }
   ],
   "source": [
    "df.printSchema()"
   ]
  },
  {
   "cell_type": "code",
   "execution_count": 150,
   "id": "f26049c0",
   "metadata": {},
   "outputs": [
    {
     "name": "stdout",
     "output_type": "stream",
     "text": [
      "Total number of row: 769598\n",
      "company:4284\n",
      "company_response:7\n",
      "complaint_what_happened:160969\n",
      "consumer_consent_provided:6\n",
      "consumer_disputed:2\n",
      "date_received:1940\n",
      "date_sent_to_company:2024\n",
      "issue:99\n",
      "product:13\n",
      "state:63\n",
      "submitted_via:6\n",
      "timely:2\n",
      "zip_code:28717\n"
     ]
    }
   ],
   "source": [
    "print(f\"Total number of row: {df.count()}\")\n",
    "for column in df.columns:\n",
    "    print(f\"{column}:{df.select(column).distinct().count()}\")"
   ]
  },
  {
   "cell_type": "code",
   "execution_count": 154,
   "id": "759822a6",
   "metadata": {},
   "outputs": [
    {
     "name": "stdout",
     "output_type": "stream",
     "text": [
      "+--------------------+------+\n",
      "|    company_response| count|\n",
      "+--------------------+------+\n",
      "|   Untimely response|  2901|\n",
      "|Closed with non-m...| 95968|\n",
      "|Closed with monet...| 51597|\n",
      "|Closed with expla...|580728|\n",
      "|              Closed| 17691|\n",
      "|Closed without re...| 16061|\n",
      "|  Closed with relief|  4652|\n",
      "+--------------------+------+\n",
      "\n",
      "+-------------------------+------+\n",
      "|consumer_consent_provided| count|\n",
      "+-------------------------+------+\n",
      "|                     null|    38|\n",
      "|        Consent withdrawn|     8|\n",
      "|                    Other|  8492|\n",
      "|         Consent provided|164887|\n",
      "|     Consent not provided|125995|\n",
      "|                      N/A|470178|\n",
      "+-------------------------+------+\n",
      "\n",
      "+-----------------+------+\n",
      "|consumer_disputed| count|\n",
      "+-----------------+------+\n",
      "|               No|621087|\n",
      "|              Yes|148511|\n",
      "+-----------------+------+\n",
      "\n",
      "+--------------------+------+\n",
      "|             product| count|\n",
      "+--------------------+------+\n",
      "|     Debt collection|146584|\n",
      "|    Virtual currency|    18|\n",
      "|         Payday loan|  5580|\n",
      "|     Money transfers|  5387|\n",
      "|Checking or savin...|     3|\n",
      "|            Mortgage|226616|\n",
      "|        Prepaid card|  3833|\n",
      "|    Credit reporting|141194|\n",
      "|       Consumer Loan| 31756|\n",
      "|         Credit card| 88332|\n",
      "|Bank account or s...| 86578|\n",
      "|Other financial s...|  1062|\n",
      "|        Student loan| 32655|\n",
      "+--------------------+------+\n",
      "\n",
      "+-------------+------+\n",
      "|submitted_via| count|\n",
      "+-------------+------+\n",
      "|        Phone| 52203|\n",
      "|          Fax| 10971|\n",
      "|     Referral|132923|\n",
      "|  Postal mail| 48924|\n",
      "|          Web|524238|\n",
      "|        Email|   339|\n",
      "+-------------+------+\n",
      "\n",
      "+------+------+\n",
      "|timely| count|\n",
      "+------+------+\n",
      "|    No| 21331|\n",
      "|   Yes|748267|\n",
      "+------+------+\n",
      "\n"
     ]
    }
   ],
   "source": [
    "df.groupBy(df.company_response).count().show()\n",
    "df.groupBy(df.consumer_consent_provided).count().show()\n",
    "df.groupBy(df.consumer_disputed).count().show()\n",
    "df.groupBy(df.product).count().show()\n",
    "df.groupBy(df.submitted_via).count().show()\n",
    "df.groupBy(df.timely).count().show()\n"
   ]
  },
  {
   "cell_type": "code",
   "execution_count": 156,
   "id": "db256ae5",
   "metadata": {},
   "outputs": [
    {
     "data": {
      "text/plain": [
       "[Row(timely='No', count=21331), Row(timely='Yes', count=748267)]"
      ]
     },
     "execution_count": 156,
     "metadata": {},
     "output_type": "execute_result"
    }
   ],
   "source": [
    "\n",
    "df.groupBy(df.company_response).count().collect()\n",
    "df.groupBy(df.consumer_consent_provided).count().collect()\n",
    "df.groupBy(df.consumer_disputed).count().collect()\n",
    "df.groupBy(df.product).count().collect()\n",
    "df.groupBy(df.submitted_via).count().collect()\n",
    "df.groupBy(df.timely).count().collect()\n"
   ]
  },
  {
   "cell_type": "code",
   "execution_count": 158,
   "id": "3d102565",
   "metadata": {},
   "outputs": [
    {
     "data": {
      "text/plain": [
       "[Row(product='Debt collection', count=146584),\n",
       " Row(product='Virtual currency', count=18),\n",
       " Row(product='Payday loan', count=5580),\n",
       " Row(product='Money transfers', count=5387),\n",
       " Row(product='Checking or savings account', count=3),\n",
       " Row(product='Mortgage', count=226616),\n",
       " Row(product='Prepaid card', count=3833),\n",
       " Row(product='Credit reporting', count=141194),\n",
       " Row(product='Consumer Loan', count=31756),\n",
       " Row(product='Credit card', count=88332),\n",
       " Row(product='Bank account or service', count=86578),\n",
       " Row(product='Other financial service', count=1062),\n",
       " Row(product='Student loan', count=32655)]"
      ]
     },
     "execution_count": 158,
     "metadata": {},
     "output_type": "execute_result"
    }
   ],
   "source": [
    "df.groupBy(df.product).count().collect()"
   ]
  },
  {
   "cell_type": "code",
   "execution_count": 159,
   "id": "7d6ea4b1",
   "metadata": {},
   "outputs": [],
   "source": [
    "ONE_HOT_FEATURE = [df.company_response,df.consumer_consent_provided,df.submitted_via,df.timely]\n",
    "BINARY_ENCODING = [df.product,]\n",
    "TARGET_FEATURE = [df.consumer_disputed]\n",
    "\n",
    "#df.company_response No null value\n",
    "#df.consumer_consent_provided  replace null with top category \n",
    "#df.consumer_disputed target feature label encoding\n",
    "#df.product one hot encoding \n",
    "\n",
    "#df.product no null value\n"
   ]
  },
  {
   "cell_type": "code",
   "execution_count": 162,
   "id": "9fa1ae93",
   "metadata": {},
   "outputs": [],
   "source": [
    "remaining_column = list(filter(lambda x: x not in ONE_HOT_FEATURE+BINARY_ENCODING+TARGET_FEATURE,df.columns))"
   ]
  },
  {
   "cell_type": "code",
   "execution_count": 163,
   "id": "fcdfba52",
   "metadata": {},
   "outputs": [
    {
     "data": {
      "text/plain": [
       "['company',\n",
       " 'complaint_what_happened',\n",
       " 'date_received',\n",
       " 'date_sent_to_company',\n",
       " 'issue',\n",
       " 'state',\n",
       " 'zip_code']"
      ]
     },
     "execution_count": 163,
     "metadata": {},
     "output_type": "execute_result"
    }
   ],
   "source": [
    "remaining_column"
   ]
  },
  {
   "cell_type": "code",
   "execution_count": 169,
   "id": "3a4bb1d0",
   "metadata": {},
   "outputs": [
    {
     "data": {
      "text/plain": [
       "4284"
      ]
     },
     "execution_count": 169,
     "metadata": {},
     "output_type": "execute_result"
    }
   ],
   "source": [
    "df.groupBy(df.company).count().count()"
   ]
  },
  {
   "cell_type": "code",
   "execution_count": null,
   "id": "4217b1f2",
   "metadata": {},
   "outputs": [],
   "source": [
    "FREQUENCY_ENCODING = [df.company]"
   ]
  },
  {
   "cell_type": "code",
   "execution_count": 180,
   "id": "9f3c56cd",
   "metadata": {},
   "outputs": [
    {
     "data": {
      "text/plain": [
       "0"
      ]
     },
     "execution_count": 180,
     "metadata": {},
     "output_type": "execute_result"
    }
   ],
   "source": [
    "df.select(df.company).count()-df.select(df.company).dropna().count()\n"
   ]
  },
  {
   "cell_type": "code",
   "execution_count": 186,
   "id": "360ba179",
   "metadata": {},
   "outputs": [],
   "source": [
    "REPLACE_NULL_WITH_TOP_VALUE = [df.zip_code,df.state,df.consumer_consent_provided]"
   ]
  },
  {
   "cell_type": "code",
   "execution_count": 188,
   "id": "37d2e0ea",
   "metadata": {},
   "outputs": [
    {
     "data": {
      "text/plain": [
       "['zip_code', 'state', 'consumer_consent_provided']"
      ]
     },
     "execution_count": 188,
     "metadata": {},
     "output_type": "execute_result"
    }
   ],
   "source": [
    "REPLACE_NULL_WITH_TOP_VALUE"
   ]
  },
  {
   "cell_type": "code",
   "execution_count": 189,
   "id": "922414e0",
   "metadata": {},
   "outputs": [
    {
     "name": "stdout",
     "output_type": "stream",
     "text": [
      "Total number of row: 769598\n",
      "company:  4284\n",
      "complaint_what_happened:  160969\n",
      "date_received:  1940\n",
      "date_sent_to_company:  2024\n",
      "issue:  99\n",
      "state:  63\n",
      "zip_code:  28717\n"
     ]
    }
   ],
   "source": [
    "print(f\"Total number of row: {df.count()}\")\n",
    "for column in remaining_column:\n",
    "    print(f\"{column}:  {df.select(column).distinct().count()}\")"
   ]
  },
  {
   "cell_type": "code",
   "execution_count": 191,
   "id": "32c7f06a",
   "metadata": {},
   "outputs": [],
   "source": []
  },
  {
   "cell_type": "code",
   "execution_count": null,
   "id": "bf773bf4",
   "metadata": {},
   "outputs": [],
   "source": []
  },
  {
   "cell_type": "code",
   "execution_count": 190,
   "id": "cf48971b",
   "metadata": {},
   "outputs": [
    {
     "name": "stdout",
     "output_type": "stream",
     "text": [
      "+--------------------+------+\n",
      "|               issue| count|\n",
      "+--------------------+------+\n",
      "|Communication tac...| 23965|\n",
      "|Application proce...|   536|\n",
      "|Advertising and m...|  2948|\n",
      "|Balance transfer fee|   216|\n",
      "|Customer service/...|   284|\n",
      "|        Adding money|   202|\n",
      "|Closing/Cancellin...|  6345|\n",
      "|Credit card prote...|  2701|\n",
      "|Received a loan I...|   619|\n",
      "|Can't stop charge...|   515|\n",
      "|          Bankruptcy|   447|\n",
      "|                Fees|   234|\n",
      "|Forbearance / Wor...|   550|\n",
      "|Credit determination|  3016|\n",
      "|Loan modification...|112115|\n",
      "|    Cash advance fee|   193|\n",
      "|Other transaction...|  1501|\n",
      "|Customer service ...|  3491|\n",
      "|      Getting a loan|   666|\n",
      "|  Delinquent account|  3224|\n",
      "+--------------------+------+\n",
      "only showing top 20 rows\n",
      "\n"
     ]
    }
   ],
   "source": [
    "df.groupBy(df.issue).count().show()"
   ]
  },
  {
   "cell_type": "code",
   "execution_count": 192,
   "id": "54c24769",
   "metadata": {},
   "outputs": [
    {
     "data": {
      "text/plain": [
       "['company',\n",
       " 'complaint_what_happened',\n",
       " 'date_received',\n",
       " 'date_sent_to_company',\n",
       " 'issue',\n",
       " 'state',\n",
       " 'zip_code']"
      ]
     },
     "execution_count": 192,
     "metadata": {},
     "output_type": "execute_result"
    }
   ],
   "source": [
    "remaining_column"
   ]
  },
  {
   "cell_type": "code",
   "execution_count": 195,
   "id": "0c8a116f",
   "metadata": {},
   "outputs": [
    {
     "ename": "IndexError",
     "evalue": "list index out of range",
     "output_type": "error",
     "traceback": [
      "\u001b[0;31m---------------------------------------------------------------------------\u001b[0m",
      "\u001b[0;31mIndexError\u001b[0m                                Traceback (most recent call last)",
      "\u001b[0;32m/tmp/ipykernel_953/929814822.py\u001b[0m in \u001b[0;36m<module>\u001b[0;34m\u001b[0m\n\u001b[0;32m----> 1\u001b[0;31m \u001b[0mdf\u001b[0m\u001b[0;34m.\u001b[0m\u001b[0mselect\u001b[0m\u001b[0;34m(\u001b[0m\u001b[0mdf\u001b[0m\u001b[0;34m.\u001b[0m\u001b[0mcomplaint_what_happened\u001b[0m\u001b[0;34m)\u001b[0m\u001b[0;34m[\u001b[0m\u001b[0;36m3\u001b[0m\u001b[0;34m]\u001b[0m\u001b[0;34m.\u001b[0m\u001b[0mcollect\u001b[0m\u001b[0;34m(\u001b[0m\u001b[0;34m)\u001b[0m\u001b[0;34m\u001b[0m\u001b[0m\n\u001b[0m",
      "\u001b[0;32m~/work/venv/lib/python3.7/site-packages/pyspark/sql/dataframe.py\u001b[0m in \u001b[0;36m__getitem__\u001b[0;34m(self, item)\u001b[0m\n\u001b[1;32m   1641\u001b[0m             \u001b[0;32mreturn\u001b[0m \u001b[0mself\u001b[0m\u001b[0;34m.\u001b[0m\u001b[0mselect\u001b[0m\u001b[0;34m(\u001b[0m\u001b[0;34m*\u001b[0m\u001b[0mitem\u001b[0m\u001b[0;34m)\u001b[0m\u001b[0;34m\u001b[0m\u001b[0m\n\u001b[1;32m   1642\u001b[0m         \u001b[0;32melif\u001b[0m \u001b[0misinstance\u001b[0m\u001b[0;34m(\u001b[0m\u001b[0mitem\u001b[0m\u001b[0;34m,\u001b[0m \u001b[0mint\u001b[0m\u001b[0;34m)\u001b[0m\u001b[0;34m:\u001b[0m\u001b[0;34m\u001b[0m\u001b[0m\n\u001b[0;32m-> 1643\u001b[0;31m             \u001b[0mjc\u001b[0m \u001b[0;34m=\u001b[0m \u001b[0mself\u001b[0m\u001b[0;34m.\u001b[0m\u001b[0m_jdf\u001b[0m\u001b[0;34m.\u001b[0m\u001b[0mapply\u001b[0m\u001b[0;34m(\u001b[0m\u001b[0mself\u001b[0m\u001b[0;34m.\u001b[0m\u001b[0mcolumns\u001b[0m\u001b[0;34m[\u001b[0m\u001b[0mitem\u001b[0m\u001b[0;34m]\u001b[0m\u001b[0;34m)\u001b[0m\u001b[0;34m\u001b[0m\u001b[0m\n\u001b[0m\u001b[1;32m   1644\u001b[0m             \u001b[0;32mreturn\u001b[0m \u001b[0mColumn\u001b[0m\u001b[0;34m(\u001b[0m\u001b[0mjc\u001b[0m\u001b[0;34m)\u001b[0m\u001b[0;34m\u001b[0m\u001b[0m\n\u001b[1;32m   1645\u001b[0m         \u001b[0;32melse\u001b[0m\u001b[0;34m:\u001b[0m\u001b[0;34m\u001b[0m\u001b[0m\n",
      "\u001b[0;31mIndexError\u001b[0m: list index out of range"
     ]
    }
   ],
   "source": [
    "df.select(df.complaint_what_happened)[3].collect()"
   ]
  },
  {
   "cell_type": "code",
   "execution_count": 197,
   "id": "73dd4f4a",
   "metadata": {},
   "outputs": [
    {
     "data": {
      "text/plain": [
       "[Row(complaint_what_happened=''),\n",
       " Row(complaint_what_happened=''),\n",
       " Row(complaint_what_happened=''),\n",
       " Row(complaint_what_happened='around XX/XX/2016 i got a check from tenant. I am a XXXX and I accept a check from him after that i found bedbugs that he brought from work. \\nI have to give him notice for moving because my apartment had a carpet floor. \\nMy roommate got a problem and moving out. and he also gave me a checked and cash in the same time. I after that time i got that the checked was report for lost. \\nand Fraud also. Bank of America close my account and report me I am a thief and fraud with check. I have a paper that give him to sign and let him know about the payment after he left for bedbugs treatment. I need bank of America resolve this problem that i am a XXXX that he used to lived before he changed the address. i can proof with letter that he report that was lost. but its not he was lie to bank. Cheating on my with the checked.'),\n",
       " Row(complaint_what_happened='')]"
      ]
     },
     "execution_count": 197,
     "metadata": {},
     "output_type": "execute_result"
    }
   ],
   "source": [
    "sql(f\"select {df.complaint_what_happened} from {complaint_table} limit 5\").collect()"
   ]
  },
  {
   "cell_type": "code",
   "execution_count": 198,
   "id": "dab86a34",
   "metadata": {},
   "outputs": [],
   "source": [
    "TOKENIZER_FEATURE = [df.complaint_what_happened]"
   ]
  },
  {
   "cell_type": "code",
   "execution_count": 199,
   "id": "da4140cb",
   "metadata": {},
   "outputs": [
    {
     "data": {
      "text/plain": [
       "['company_response', 'consumer_consent_provided', 'submitted_via', 'timely']"
      ]
     },
     "execution_count": 199,
     "metadata": {},
     "output_type": "execute_result"
    }
   ],
   "source": [
    "ONE_HOT_FEATURE"
   ]
  },
  {
   "cell_type": "code",
   "execution_count": 204,
   "id": "1296621a",
   "metadata": {},
   "outputs": [],
   "source": [
    "FREQUENCY_ENCODING = [df.company,df.issue,df.state,df.zip_code]"
   ]
  },
  {
   "cell_type": "code",
   "execution_count": 201,
   "id": "6eccb5cc",
   "metadata": {},
   "outputs": [
    {
     "data": {
      "text/plain": [
       "['consumer_disputed']"
      ]
     },
     "execution_count": 201,
     "metadata": {},
     "output_type": "execute_result"
    }
   ],
   "source": [
    "TARGET_FEATURE"
   ]
  },
  {
   "cell_type": "code",
   "execution_count": 202,
   "id": "96a43538",
   "metadata": {},
   "outputs": [
    {
     "data": {
      "text/plain": [
       "['complaint_what_happened']"
      ]
     },
     "execution_count": 202,
     "metadata": {},
     "output_type": "execute_result"
    }
   ],
   "source": [
    "TOKENIZER_FEATURE"
   ]
  },
  {
   "cell_type": "code",
   "execution_count": null,
   "id": "3497fe2f",
   "metadata": {},
   "outputs": [],
   "source": []
  },
  {
   "cell_type": "code",
   "execution_count": 203,
   "id": "b38fc0a8",
   "metadata": {},
   "outputs": [
    {
     "data": {
      "text/plain": [
       "['company',\n",
       " 'complaint_what_happened',\n",
       " 'date_received',\n",
       " 'date_sent_to_company',\n",
       " 'issue',\n",
       " 'state',\n",
       " 'zip_code']"
      ]
     },
     "execution_count": 203,
     "metadata": {},
     "output_type": "execute_result"
    }
   ],
   "source": [
    "remaining_column"
   ]
  },
  {
   "cell_type": "code",
   "execution_count": 213,
   "id": "81c1eca6",
   "metadata": {},
   "outputs": [],
   "source": [
    "from pyspark.sql.types import TimestampType"
   ]
  },
  {
   "cell_type": "code",
   "execution_count": 216,
   "id": "be393969",
   "metadata": {},
   "outputs": [],
   "source": [
    "df=df.withColumn(df.date_received,col(df.date_received).cast(TimestampType()))"
   ]
  },
  {
   "cell_type": "code",
   "execution_count": 222,
   "id": "08d0c771",
   "metadata": {},
   "outputs": [],
   "source": [
    "update_column_attribute(df)"
   ]
  },
  {
   "cell_type": "code",
   "execution_count": 219,
   "id": "7cca91ab",
   "metadata": {},
   "outputs": [
    {
     "name": "stdout",
     "output_type": "stream",
     "text": [
      "root\n",
      " |-- company: string (nullable = true)\n",
      " |-- company_response: string (nullable = true)\n",
      " |-- complaint_what_happened: string (nullable = true)\n",
      " |-- consumer_consent_provided: string (nullable = true)\n",
      " |-- consumer_disputed: string (nullable = true)\n",
      " |-- date_received: timestamp (nullable = true)\n",
      " |-- date_sent_to_company: timestamp (nullable = true)\n",
      " |-- issue: string (nullable = true)\n",
      " |-- product: string (nullable = true)\n",
      " |-- state: string (nullable = true)\n",
      " |-- submitted_via: string (nullable = true)\n",
      " |-- timely: string (nullable = true)\n",
      " |-- zip_code: string (nullable = true)\n",
      "\n"
     ]
    }
   ],
   "source": [
    "df=df.withColumn(df.date_sent_to_company,col(df.date_sent_to_company).cast(TimestampType()))\n",
    "df.printSchema()"
   ]
  },
  {
   "cell_type": "code",
   "execution_count": 225,
   "id": "881201eb",
   "metadata": {},
   "outputs": [
    {
     "name": "stdout",
     "output_type": "stream",
     "text": [
      "+-------------------+--------------------+\n",
      "|      date_received|date_sent_to_company|\n",
      "+-------------------+--------------------+\n",
      "|2017-03-16 17:00:00| 2017-03-17 17:00:00|\n",
      "|2017-02-08 17:00:00| 2017-02-08 17:00:00|\n",
      "|2017-01-25 17:00:00| 2017-01-25 17:00:00|\n",
      "|2017-01-13 17:00:00| 2017-01-13 17:00:00|\n",
      "|2017-01-31 17:00:00| 2017-02-07 17:00:00|\n",
      "|2017-01-06 17:00:00| 2017-01-06 17:00:00|\n",
      "|2017-03-01 17:00:00| 2017-03-01 17:00:00|\n",
      "|2017-02-19 17:00:00| 2017-02-19 17:00:00|\n",
      "|2017-02-15 17:00:00| 2017-02-15 17:00:00|\n",
      "|2017-03-20 17:00:00| 2017-03-21 17:00:00|\n",
      "|2017-03-08 17:00:00| 2017-03-10 17:00:00|\n",
      "|2017-02-14 17:00:00| 2017-02-17 17:00:00|\n",
      "|2017-02-17 17:00:00| 2017-02-23 17:00:00|\n",
      "|2017-02-23 17:00:00| 2017-02-28 17:00:00|\n",
      "|2017-02-03 17:00:00| 2017-02-07 17:00:00|\n",
      "|2017-01-27 17:00:00| 2017-01-27 17:00:00|\n",
      "|2017-02-03 17:00:00| 2017-02-03 17:00:00|\n",
      "|2017-01-11 17:00:00| 2017-01-12 17:00:00|\n",
      "|2017-02-14 17:00:00| 2017-02-14 17:00:00|\n",
      "|2017-01-21 17:00:00| 2017-01-21 17:00:00|\n",
      "+-------------------+--------------------+\n",
      "only showing top 20 rows\n",
      "\n"
     ]
    }
   ],
   "source": [
    "df.select([df.date_received,df.date_sent_to_company]).show()"
   ]
  },
  {
   "cell_type": "code",
   "execution_count": 226,
   "id": "57f2d972",
   "metadata": {},
   "outputs": [],
   "source": [
    "from pyspark.sql.types import  LongType"
   ]
  },
  {
   "cell_type": "code",
   "execution_count": 233,
   "id": "c98ba13e",
   "metadata": {},
   "outputs": [],
   "source": [
    "df = df.withColumn(\"diff_in_days\",(col(df.date_sent_to_company).cast(LongType())-col(df.date_received).cast(LongType()))/(60*60*24))"
   ]
  },
  {
   "cell_type": "code",
   "execution_count": 234,
   "id": "dbbd6dff",
   "metadata": {},
   "outputs": [],
   "source": [
    "update_column_attribute(df)"
   ]
  },
  {
   "cell_type": "code",
   "execution_count": 235,
   "id": "3acab1eb",
   "metadata": {},
   "outputs": [],
   "source": [
    "remove_column = [df.date_received,df.date_sent_to_company]"
   ]
  },
  {
   "cell_type": "code",
   "execution_count": 243,
   "id": "47bcedf8",
   "metadata": {},
   "outputs": [
    {
     "name": "stdout",
     "output_type": "stream",
     "text": [
      "+--------------------+--------------------+-----------------------+-------------------------+-----------------+--------------------+--------------------+-----+-------------+------+--------+------------+\n",
      "|             company|    company_response|complaint_what_happened|consumer_consent_provided|consumer_disputed|               issue|             product|state|submitted_via|timely|zip_code|diff_in_days|\n",
      "+--------------------+--------------------+-----------------------+-------------------------+-----------------+--------------------+--------------------+-----+-------------+------+--------+------------+\n",
      "|       EQUIFAX, INC.|Closed with expla...|                       |     Consent not provided|               No|Credit monitoring...|    Credit reporting|   CT|          Web|   Yes|   06226|         1.0|\n",
      "|TRANSUNION INTERM...|Closed with expla...|                       |     Consent not provided|               No|Incorrect informa...|    Credit reporting|   MO|          Web|   Yes|   63134|         0.0|\n",
      "|TOYOTA MOTOR CRED...|Closed with expla...|                       |     Consent not provided|               No|Managing the loan...|       Consumer Loan|   CT|          Web|   Yes|   06010|         0.0|\n",
      "|BANK OF AMERICA, ...|Closed with expla...|   around XX/XX/2016...|         Consent provided|              Yes|Problems caused b...|Bank account or s...|   CA|          Web|   Yes|   90020|         0.0|\n",
      "|BANK OF AMERICA, ...|Closed with non-m...|                       |                      N/A|               No|Loan servicing, p...|            Mortgage|   MN|          Fax|   Yes|   55354|         7.0|\n",
      "|Optimum Outcomes,...|Closed with expla...|                       |                      N/A|              Yes|Disclosure verifi...|     Debt collection|   NC|        Phone|   Yes|   28269|         0.0|\n",
      "|       DISCOVER BANK|Closed with expla...|   I received a lett...|         Consent provided|               No|Dealing with my l...|        Student loan|   WA|          Web|   Yes|   98030|         0.0|\n",
      "|Experian Informat...|Closed with expla...|   I found that my i...|         Consent provided|               No|Incorrect informa...|    Credit reporting|   CA|          Web|   Yes|   95131|         0.0|\n",
      "|       EQUIFAX, INC.|Closed with expla...|   To Credit dispute...|         Consent provided|               No|Incorrect informa...|    Credit reporting|   PA|          Web|   Yes|   19465|         0.0|\n",
      "|WELLS FARGO & COM...|Closed with expla...|   We had a mortgage...|         Consent provided|              Yes|Loan servicing, p...|            Mortgage|   GA|          Web|   Yes|   30011|         1.0|\n",
      "|Nicholas Financia...|Closed with expla...|   I purchase a car ...|         Consent provided|               No|Taking out the lo...|       Consumer Loan|   TN|          Web|   Yes|   37217|         2.0|\n",
      "|CNG FINANCIAL COR...|Closed with expla...|                       |                    Other|              Yes|Charged fees or i...|         Payday loan|   DE|          Web|   Yes|   19943|         3.0|\n",
      "|SELECT PORTFOLIO ...|Closed with expla...|                       |                      N/A|               No|Loan modification...|            Mortgage|   RI|        Phone|   Yes|   02863|         6.0|\n",
      "|JPMORGAN CHASE & CO.|Closed with monet...|                       |                      N/A|              Yes|Account opening, ...|Bank account or s...|   IL|     Referral|   Yes|   60442|         5.0|\n",
      "|   I.C. System, Inc.|Closed with expla...|                       |     Consent not provided|               No|Cont'd attempts c...|     Debt collection|   GA|          Web|   Yes|   30101|         4.0|\n",
      "|        Nelnet, Inc.|Closed with expla...|   I have reported n...|         Consent provided|              Yes|Dealing with my l...|        Student loan|   GA|          Web|   Yes|   30168|         0.0|\n",
      "|STERLING JEWELERS...|Closed with expla...|                       |     Consent not provided|               No|Disclosure verifi...|     Debt collection|   IL|          Web|   Yes|   60473|         0.0|\n",
      "|   Credit Karma, LLC|Closed with expla...|                       |     Consent not provided|               No|Incorrect informa...|    Credit reporting|   ID|          Web|   Yes|   83651|         1.0|\n",
      "|BANK OF AMERICA, ...|Closed with expla...|                       |     Consent not provided|               No|Credit decision /...|            Mortgage|   KS|          Web|   Yes|   66617|         0.0|\n",
      "|       PNC Bank N.A.|Closed with expla...|   I completed gradu...|         Consent provided|               No|Dealing with my l...|        Student loan|   TX|          Web|   Yes|   75401|         0.0|\n",
      "+--------------------+--------------------+-----------------------+-------------------------+-----------------+--------------------+--------------------+-----+-------------+------+--------+------------+\n",
      "only showing top 20 rows\n",
      "\n"
     ]
    }
   ],
   "source": [
    "df=df.drop(col(df.date_received)).drop(col(df.date_sent_to_company))"
   ]
  },
  {
   "cell_type": "code",
   "execution_count": 249,
   "id": "fd111eca",
   "metadata": {},
   "outputs": [
    {
     "data": {
      "text/plain": [
       "['company_response',\n",
       " 'consumer_consent_provided',\n",
       " 'submitted_via',\n",
       " 'timely',\n",
       " 'company',\n",
       " 'issue',\n",
       " 'state',\n",
       " 'zip_code',\n",
       " 'issue',\n",
       " 'consumer_disputed']"
      ]
     },
     "execution_count": 249,
     "metadata": {},
     "output_type": "execute_result"
    }
   ],
   "source": [
    "NUMERICAL_FEATURE = [df.diff_in_days,]\n",
    "ONE_HOT_FEATURE+\\\n",
    "FREQUENCY_ENCODING+\\\n",
    "BINARY_ENCODING+\\\n",
    "TARGET_FEATURE"
   ]
  },
  {
   "cell_type": "code",
   "execution_count": 250,
   "id": "a0426f7c",
   "metadata": {},
   "outputs": [
    {
     "data": {
      "text/plain": [
       "['issue']"
      ]
     },
     "execution_count": 250,
     "metadata": {},
     "output_type": "execute_result"
    }
   ],
   "source": [
    "BINARY_ENCODING"
   ]
  },
  {
   "cell_type": "code",
   "execution_count": 251,
   "id": "bfc23f16",
   "metadata": {},
   "outputs": [],
   "source": [
    "FREQUENCY_ENCODING=FREQUENCY_ENCODING+BINARY_ENCODING"
   ]
  },
  {
   "cell_type": "code",
   "execution_count": 254,
   "id": "c602a709",
   "metadata": {},
   "outputs": [],
   "source": [
    "FREQUENCY_ENCODING.remove('issue')"
   ]
  },
  {
   "cell_type": "code",
   "execution_count": 255,
   "id": "8f0257d7",
   "metadata": {},
   "outputs": [
    {
     "data": {
      "text/plain": [
       "['company', 'state', 'zip_code', 'issue']"
      ]
     },
     "execution_count": 255,
     "metadata": {},
     "output_type": "execute_result"
    }
   ],
   "source": [
    "FREQUENCY_ENCODING"
   ]
  },
  {
   "cell_type": "code",
   "execution_count": 256,
   "id": "64314281",
   "metadata": {},
   "outputs": [
    {
     "data": {
      "text/plain": [
       "['company_response', 'consumer_consent_provided', 'submitted_via', 'timely']"
      ]
     },
     "execution_count": 256,
     "metadata": {},
     "output_type": "execute_result"
    }
   ],
   "source": [
    "ONE_HOT_FEATURE"
   ]
  },
  {
   "cell_type": "code",
   "execution_count": null,
   "id": "f8bdc889",
   "metadata": {},
   "outputs": [],
   "source": [
    "\n",
    "data_file_path=\"/home/jovyan/work/finance_complaint/finance_artifact/data_preprocessing/20220907_063829/complaint_data\""
   ]
  },
  {
   "cell_type": "code",
   "execution_count": 3,
   "id": "0a2e7928",
   "metadata": {},
   "outputs": [
    {
     "ename": "RuntimeError",
     "evalue": "Java gateway process exited before sending its port number",
     "output_type": "error",
     "traceback": [
      "\u001b[1;31m---------------------------------------------------------------------------\u001b[0m",
      "\u001b[1;31mRuntimeError\u001b[0m                              Traceback (most recent call last)",
      "\u001b[1;32m~\\AppData\\Local\\Temp\\ipykernel_14152\\4120289990.py\u001b[0m in \u001b[0;36m<module>\u001b[1;34m\u001b[0m\n\u001b[1;32m----> 1\u001b[1;33m \u001b[1;32mfrom\u001b[0m \u001b[0mfinance_complaint\u001b[0m\u001b[1;33m.\u001b[0m\u001b[0mentity\u001b[0m\u001b[1;33m.\u001b[0m\u001b[0mspark_manager\u001b[0m \u001b[1;32mimport\u001b[0m \u001b[0mspark_session\u001b[0m\u001b[1;33m\u001b[0m\u001b[0m\n\u001b[0m\u001b[0;32m      2\u001b[0m \u001b[0mdf\u001b[0m \u001b[1;33m=\u001b[0m \u001b[0mspark_session\u001b[0m\u001b[1;33m.\u001b[0m\u001b[0mread\u001b[0m\u001b[1;33m.\u001b[0m\u001b[0mparquet\u001b[0m\u001b[1;33m(\u001b[0m\u001b[0mdata_file_path\u001b[0m\u001b[1;33m)\u001b[0m\u001b[1;33m\u001b[0m\u001b[0m\n",
      "\u001b[1;32me:\\official\\finance_complaint\\finance_complaint\\entity\\spark_manager.py\u001b[0m in \u001b[0;36m<module>\u001b[1;34m\u001b[0m\n\u001b[0;32m      7\u001b[0m     \u001b[1;33m.\u001b[0m\u001b[0mconfig\u001b[0m\u001b[1;33m(\u001b[0m\u001b[1;34m\"spark.executor.memory\"\u001b[0m\u001b[1;33m,\u001b[0m \u001b[1;34m\"6g\"\u001b[0m\u001b[1;33m)\u001b[0m\u001b[0;31m \u001b[0m\u001b[0;31m\\\u001b[0m\u001b[1;33m\u001b[0m\u001b[0m\n\u001b[0;32m      8\u001b[0m     \u001b[1;33m.\u001b[0m\u001b[0mconfig\u001b[0m\u001b[1;33m(\u001b[0m\u001b[1;34m\"spark.driver.memory\"\u001b[0m\u001b[1;33m,\u001b[0m \u001b[1;34m\"6g\"\u001b[0m\u001b[1;33m)\u001b[0m\u001b[0;31m \u001b[0m\u001b[0;31m\\\u001b[0m\u001b[1;33m\u001b[0m\u001b[0m\n\u001b[1;32m----> 9\u001b[1;33m     \u001b[1;33m.\u001b[0m\u001b[0mconfig\u001b[0m\u001b[1;33m(\u001b[0m\u001b[1;34m\"spark.executor.memoryOverhead\"\u001b[0m\u001b[1;33m,\u001b[0m \u001b[1;34m\"8g\"\u001b[0m\u001b[1;33m)\u001b[0m\u001b[0;31m \u001b[0m\u001b[0;31m\\\u001b[0m\u001b[1;33m\u001b[0m\u001b[0m\n\u001b[0m\u001b[0;32m     10\u001b[0m     \u001b[1;33m.\u001b[0m\u001b[0mgetOrCreate\u001b[0m\u001b[1;33m(\u001b[0m\u001b[1;33m)\u001b[0m\u001b[1;33m\u001b[0m\u001b[0m\n\u001b[0;32m     11\u001b[0m \u001b[1;33m\u001b[0m\u001b[0m\n",
      "\u001b[1;32me:\\official\\venv\\lib\\site-packages\\pyspark\\sql\\session.py\u001b[0m in \u001b[0;36mgetOrCreate\u001b[1;34m(self)\u001b[0m\n\u001b[0;32m    226\u001b[0m                             \u001b[0msparkConf\u001b[0m\u001b[1;33m.\u001b[0m\u001b[0mset\u001b[0m\u001b[1;33m(\u001b[0m\u001b[0mkey\u001b[0m\u001b[1;33m,\u001b[0m \u001b[0mvalue\u001b[0m\u001b[1;33m)\u001b[0m\u001b[1;33m\u001b[0m\u001b[0m\n\u001b[0;32m    227\u001b[0m                         \u001b[1;31m# This SparkContext may be an existing one.\u001b[0m\u001b[1;33m\u001b[0m\u001b[1;33m\u001b[0m\u001b[0m\n\u001b[1;32m--> 228\u001b[1;33m                         \u001b[0msc\u001b[0m \u001b[1;33m=\u001b[0m \u001b[0mSparkContext\u001b[0m\u001b[1;33m.\u001b[0m\u001b[0mgetOrCreate\u001b[0m\u001b[1;33m(\u001b[0m\u001b[0msparkConf\u001b[0m\u001b[1;33m)\u001b[0m\u001b[1;33m\u001b[0m\u001b[0m\n\u001b[0m\u001b[0;32m    229\u001b[0m                     \u001b[1;31m# Do not update `SparkConf` for existing `SparkContext`, as it's shared\u001b[0m\u001b[1;33m\u001b[0m\u001b[1;33m\u001b[0m\u001b[0m\n\u001b[0;32m    230\u001b[0m                     \u001b[1;31m# by all sessions.\u001b[0m\u001b[1;33m\u001b[0m\u001b[1;33m\u001b[0m\u001b[0m\n",
      "\u001b[1;32me:\\official\\venv\\lib\\site-packages\\pyspark\\context.py\u001b[0m in \u001b[0;36mgetOrCreate\u001b[1;34m(cls, conf)\u001b[0m\n\u001b[0;32m    390\u001b[0m         \u001b[1;32mwith\u001b[0m \u001b[0mSparkContext\u001b[0m\u001b[1;33m.\u001b[0m\u001b[0m_lock\u001b[0m\u001b[1;33m:\u001b[0m\u001b[1;33m\u001b[0m\u001b[0m\n\u001b[0;32m    391\u001b[0m             \u001b[1;32mif\u001b[0m \u001b[0mSparkContext\u001b[0m\u001b[1;33m.\u001b[0m\u001b[0m_active_spark_context\u001b[0m \u001b[1;32mis\u001b[0m \u001b[1;32mNone\u001b[0m\u001b[1;33m:\u001b[0m\u001b[1;33m\u001b[0m\u001b[0m\n\u001b[1;32m--> 392\u001b[1;33m                 \u001b[0mSparkContext\u001b[0m\u001b[1;33m(\u001b[0m\u001b[0mconf\u001b[0m\u001b[1;33m=\u001b[0m\u001b[0mconf\u001b[0m \u001b[1;32mor\u001b[0m \u001b[0mSparkConf\u001b[0m\u001b[1;33m(\u001b[0m\u001b[1;33m)\u001b[0m\u001b[1;33m)\u001b[0m\u001b[1;33m\u001b[0m\u001b[0m\n\u001b[0m\u001b[0;32m    393\u001b[0m             \u001b[1;32mreturn\u001b[0m \u001b[0mSparkContext\u001b[0m\u001b[1;33m.\u001b[0m\u001b[0m_active_spark_context\u001b[0m\u001b[1;33m\u001b[0m\u001b[0m\n\u001b[0;32m    394\u001b[0m \u001b[1;33m\u001b[0m\u001b[0m\n",
      "\u001b[1;32me:\\official\\venv\\lib\\site-packages\\pyspark\\context.py\u001b[0m in \u001b[0;36m__init__\u001b[1;34m(self, master, appName, sparkHome, pyFiles, environment, batchSize, serializer, conf, gateway, jsc, profiler_cls)\u001b[0m\n\u001b[0;32m    142\u001b[0m                 \" is not allowed as it is a security risk.\")\n\u001b[0;32m    143\u001b[0m \u001b[1;33m\u001b[0m\u001b[0m\n\u001b[1;32m--> 144\u001b[1;33m         \u001b[0mSparkContext\u001b[0m\u001b[1;33m.\u001b[0m\u001b[0m_ensure_initialized\u001b[0m\u001b[1;33m(\u001b[0m\u001b[0mself\u001b[0m\u001b[1;33m,\u001b[0m \u001b[0mgateway\u001b[0m\u001b[1;33m=\u001b[0m\u001b[0mgateway\u001b[0m\u001b[1;33m,\u001b[0m \u001b[0mconf\u001b[0m\u001b[1;33m=\u001b[0m\u001b[0mconf\u001b[0m\u001b[1;33m)\u001b[0m\u001b[1;33m\u001b[0m\u001b[0m\n\u001b[0m\u001b[0;32m    145\u001b[0m         \u001b[1;32mtry\u001b[0m\u001b[1;33m:\u001b[0m\u001b[1;33m\u001b[0m\u001b[0m\n\u001b[0;32m    146\u001b[0m             self._do_init(master, appName, sparkHome, pyFiles, environment, batchSize, serializer,\n",
      "\u001b[1;32me:\\official\\venv\\lib\\site-packages\\pyspark\\context.py\u001b[0m in \u001b[0;36m_ensure_initialized\u001b[1;34m(cls, instance, gateway, conf)\u001b[0m\n\u001b[0;32m    337\u001b[0m         \u001b[1;32mwith\u001b[0m \u001b[0mSparkContext\u001b[0m\u001b[1;33m.\u001b[0m\u001b[0m_lock\u001b[0m\u001b[1;33m:\u001b[0m\u001b[1;33m\u001b[0m\u001b[0m\n\u001b[0;32m    338\u001b[0m             \u001b[1;32mif\u001b[0m \u001b[1;32mnot\u001b[0m \u001b[0mSparkContext\u001b[0m\u001b[1;33m.\u001b[0m\u001b[0m_gateway\u001b[0m\u001b[1;33m:\u001b[0m\u001b[1;33m\u001b[0m\u001b[0m\n\u001b[1;32m--> 339\u001b[1;33m                 \u001b[0mSparkContext\u001b[0m\u001b[1;33m.\u001b[0m\u001b[0m_gateway\u001b[0m \u001b[1;33m=\u001b[0m \u001b[0mgateway\u001b[0m \u001b[1;32mor\u001b[0m \u001b[0mlaunch_gateway\u001b[0m\u001b[1;33m(\u001b[0m\u001b[0mconf\u001b[0m\u001b[1;33m)\u001b[0m\u001b[1;33m\u001b[0m\u001b[0m\n\u001b[0m\u001b[0;32m    340\u001b[0m                 \u001b[0mSparkContext\u001b[0m\u001b[1;33m.\u001b[0m\u001b[0m_jvm\u001b[0m \u001b[1;33m=\u001b[0m \u001b[0mSparkContext\u001b[0m\u001b[1;33m.\u001b[0m\u001b[0m_gateway\u001b[0m\u001b[1;33m.\u001b[0m\u001b[0mjvm\u001b[0m\u001b[1;33m\u001b[0m\u001b[0m\n\u001b[0;32m    341\u001b[0m \u001b[1;33m\u001b[0m\u001b[0m\n",
      "\u001b[1;32me:\\official\\venv\\lib\\site-packages\\pyspark\\java_gateway.py\u001b[0m in \u001b[0;36mlaunch_gateway\u001b[1;34m(conf, popen_kwargs)\u001b[0m\n\u001b[0;32m    106\u001b[0m \u001b[1;33m\u001b[0m\u001b[0m\n\u001b[0;32m    107\u001b[0m             \u001b[1;32mif\u001b[0m \u001b[1;32mnot\u001b[0m \u001b[0mos\u001b[0m\u001b[1;33m.\u001b[0m\u001b[0mpath\u001b[0m\u001b[1;33m.\u001b[0m\u001b[0misfile\u001b[0m\u001b[1;33m(\u001b[0m\u001b[0mconn_info_file\u001b[0m\u001b[1;33m)\u001b[0m\u001b[1;33m:\u001b[0m\u001b[1;33m\u001b[0m\u001b[0m\n\u001b[1;32m--> 108\u001b[1;33m                 \u001b[1;32mraise\u001b[0m \u001b[0mRuntimeError\u001b[0m\u001b[1;33m(\u001b[0m\u001b[1;34m\"Java gateway process exited before sending its port number\"\u001b[0m\u001b[1;33m)\u001b[0m\u001b[1;33m\u001b[0m\u001b[0m\n\u001b[0m\u001b[0;32m    109\u001b[0m \u001b[1;33m\u001b[0m\u001b[0m\n\u001b[0;32m    110\u001b[0m             \u001b[1;32mwith\u001b[0m \u001b[0mopen\u001b[0m\u001b[1;33m(\u001b[0m\u001b[0mconn_info_file\u001b[0m\u001b[1;33m,\u001b[0m \u001b[1;34m\"rb\"\u001b[0m\u001b[1;33m)\u001b[0m \u001b[1;32mas\u001b[0m \u001b[0minfo\u001b[0m\u001b[1;33m:\u001b[0m\u001b[1;33m\u001b[0m\u001b[0m\n",
      "\u001b[1;31mRuntimeError\u001b[0m: Java gateway process exited before sending its port number"
     ]
    }
   ],
   "source": [
    "from finance_complaint.entity.spark_manager import spark_session\n",
    "df = spark_session.read.parquet(data_file_path)"
   ]
  },
  {
   "cell_type": "code",
   "execution_count": null,
   "id": "b48b89e8",
   "metadata": {},
   "outputs": [],
   "source": []
  }
 ],
 "metadata": {
  "kernelspec": {
   "display_name": "Python 3.8.0 (conda)",
   "language": "python",
   "name": "python3"
  },
  "language_info": {
   "codemirror_mode": {
    "name": "ipython",
    "version": 3
   },
   "file_extension": ".py",
   "mimetype": "text/x-python",
   "name": "python",
   "nbconvert_exporter": "python",
   "pygments_lexer": "ipython3",
   "version": "3.8.0"
  },
  "vscode": {
   "interpreter": {
    "hash": "b150c9c7982db313bcba7772b0b3a7a6e0dff1aa5fa0e81b91eabe8912e0c994"
   }
  }
 },
 "nbformat": 4,
 "nbformat_minor": 5
}
