{
 "cells": [
  {
   "cell_type": "code",
   "execution_count": 10,
   "id": "37312de6-272a-4f1e-b07c-8cce03e8f125",
   "metadata": {
    "canvas": {
     "comments": [],
     "componentType": "CodeCell",
     "copiedOriginId": null,
     "diskcache": false,
     "headerColor": "inherit",
     "id": "e3d4a885-7e47-47f9-a7d9-21bfab2bd3aa",
     "isComponent": true,
     "name": "Import Module",
     "parents": []
    },
    "tags": []
   },
   "outputs": [],
   "source": [
    "from finance_complaint.pipeline import Pipeline\n",
    "from finance_complaint.config import FinanceConfig"
   ]
  },
  {
   "cell_type": "code",
   "execution_count": 11,
   "id": "c0cb1b4e-0b93-47cb-a8fc-ab45e69a00d5",
   "metadata": {
    "canvas": {
     "comments": [],
     "componentType": "CodeCell",
     "copiedOriginId": null,
     "diskcache": false,
     "headerColor": "inherit",
     "id": "52404fe4-fcb1-4852-bed9-642485849eea",
     "isComponent": true,
     "name": "Finance Configuration",
     "parents": [
      {
       "id": "e3d4a885-7e47-47f9-a7d9-21bfab2bd3aa",
       "name": "Import Module"
      }
     ]
    },
    "tags": []
   },
   "outputs": [],
   "source": [
    "from datetime import datetime\n",
    "timestamp=datetime.now().strftime(\"%Y%m%d_%H%M%S\")\n",
    "config = FinanceConfig(timestamp=timestamp)"
   ]
  },
  {
   "cell_type": "code",
   "execution_count": null,
   "id": "7859b5ab-f133-44a3-8f24-54d110273b1f",
   "metadata": {
    "canvas": {
     "comments": [],
     "componentType": "CodeCell",
     "copiedOriginId": null,
     "diskcache": false,
     "headerColor": "inherit",
     "id": "7e4229c4-fb2f-460d-8452-cb7502d33470",
     "isComponent": false,
     "name": "",
     "parents": []
    }
   },
   "outputs": [],
   "source": []
  },
  {
   "cell_type": "code",
   "execution_count": 12,
   "id": "50d2c672-5c4e-4336-99bb-275e837a20f3",
   "metadata": {
    "canvas": {
     "comments": [],
     "componentType": "CodeCell",
     "copiedOriginId": null,
     "diskcache": false,
     "headerColor": "inherit",
     "id": "3e88a7a9-4470-47b0-987d-3d057ee26bf3",
     "isComponent": true,
     "name": "Initializing Pipeline",
     "parents": [
      {
       "id": "52404fe4-fcb1-4852-bed9-642485849eea",
       "name": "Finance Configuration"
      }
     ]
    },
    "tags": []
   },
   "outputs": [],
   "source": [
    "pipeline = Pipeline(finance_config=config)"
   ]
  },
  {
   "cell_type": "code",
   "execution_count": 13,
   "id": "66aaaea9-276b-4a10-be70-585f020ba507",
   "metadata": {
    "canvas": {
     "comments": [],
     "componentType": "CodeCell",
     "copiedOriginId": null,
     "diskcache": false,
     "headerColor": "inherit",
     "id": "ca3ec3f3-f037-43b5-a7e2-b921d12fe26e",
     "isComponent": true,
     "name": "Data Ingesttion",
     "parents": [
      {
       "id": "3e88a7a9-4470-47b0-987d-3d057ee26bf3",
       "name": "Initializing Pipeline"
      }
     ]
    },
    "tags": []
   },
   "outputs": [],
   "source": [
    "data_ingestion_artifact = pipeline.start_data_ingestion()"
   ]
  },
  {
   "cell_type": "code",
   "execution_count": 14,
   "id": "50886486-71d6-473e-8b18-86345e27e54e",
   "metadata": {
    "canvas": {
     "comments": [],
     "componentType": "CodeCell",
     "copiedOriginId": null,
     "diskcache": false,
     "headerColor": "inherit",
     "id": "32fc747f-74ca-4b78-8683-e8a26b3182f1",
     "isComponent": true,
     "name": "Data Validation",
     "parents": [
      {
       "id": "ca3ec3f3-f037-43b5-a7e2-b921d12fe26e",
       "name": "Data Ingesttion"
      }
     ]
    },
    "tags": []
   },
   "outputs": [
    {
     "name": "stderr",
     "output_type": "stream",
     "text": [
      "                                                                                \r"
     ]
    },
    {
     "name": "stdout",
     "output_type": "stream",
     "text": [
      "Row: [2801985] Column: [12]\n",
      "Expected Column: ['consumer_disputed', 'company_response', 'consumer_consent_provided', 'submitted_via', 'issue', 'date_sent_to_company', 'date_received']\n",
      "Present Columns: ['company', 'company_response', 'consumer_consent_provided', 'consumer_disputed', 'date_received', 'date_sent_to_company', 'issue', 'product', 'state', 'submitted_via', 'timely', 'zip_code']\n"
     ]
    },
    {
     "name": "stderr",
     "output_type": "stream",
     "text": [
      "                                                                                \r"
     ]
    }
   ],
   "source": [
    "data_validation_artifact = pipeline.start_data_validation(data_ingestion_artifact=data_ingestion_artifact)"
   ]
  },
  {
   "cell_type": "code",
   "execution_count": 15,
   "id": "34703085-588f-4a2a-b06c-a481a848309b",
   "metadata": {
    "canvas": {
     "comments": [],
     "componentType": "CodeCell",
     "copiedOriginId": null,
     "diskcache": false,
     "headerColor": "inherit",
     "id": "42d92b61-a371-4345-9fb1-7242f4e4d41f",
     "isComponent": true,
     "name": "Data Transformation",
     "parents": [
      {
       "id": "32fc747f-74ca-4b78-8683-e8a26b3182f1",
       "name": "Data Validation"
      }
     ]
    },
    "tags": []
   },
   "outputs": [
    {
     "name": "stdout",
     "output_type": "stream",
     "text": [
      "root\n",
      " |-- company: string (nullable = true)\n",
      " |-- company_response: string (nullable = true)\n",
      " |-- consumer_consent_provided: string (nullable = true)\n",
      " |-- consumer_disputed: string (nullable = true)\n",
      " |-- date_received: string (nullable = true)\n",
      " |-- date_sent_to_company: string (nullable = true)\n",
      " |-- issue: string (nullable = true)\n",
      " |-- product: string (nullable = true)\n",
      " |-- state: string (nullable = true)\n",
      " |-- submitted_via: string (nullable = true)\n",
      " |-- timely: string (nullable = true)\n",
      " |-- zip_code: string (nullable = true)\n",
      "\n",
      "No 0.2389867489074727\n",
      "Yes 1.0\n",
      "N/A 0.0736915052344723\n"
     ]
    },
    {
     "name": "stderr",
     "output_type": "stream",
     "text": [
      "                                                                                \r"
     ]
    },
    {
     "name": "stdout",
     "output_type": "stream",
     "text": [
      "+-----------------+------+\n",
      "|consumer_disputed| count|\n",
      "+-----------------+------+\n",
      "|               No|149486|\n",
      "+-----------------+------+\n",
      "\n",
      "+-----------------+------+\n",
      "|consumer_disputed| count|\n",
      "+-----------------+------+\n",
      "|              Yes|149404|\n",
      "+-----------------+------+\n",
      "\n"
     ]
    },
    {
     "name": "stderr",
     "output_type": "stream",
     "text": [
      "                                                                                \r"
     ]
    },
    {
     "name": "stdout",
     "output_type": "stream",
     "text": [
      "+-----------------+------+\n",
      "|consumer_disputed| count|\n",
      "+-----------------+------+\n",
      "|              N/A|148773|\n",
      "+-----------------+------+\n",
      "\n"
     ]
    },
    {
     "name": "stderr",
     "output_type": "stream",
     "text": [
      "                                                                                \r"
     ]
    },
    {
     "name": "stdout",
     "output_type": "stream",
     "text": [
      "+-----------------+------+\n",
      "|consumer_disputed| count|\n",
      "+-----------------+------+\n",
      "|               No|149486|\n",
      "|              Yes|149404|\n",
      "|              N/A|148773|\n",
      "+-----------------+------+\n",
      "\n"
     ]
    },
    {
     "name": "stderr",
     "output_type": "stream",
     "text": [
      "                                                                                \r"
     ]
    },
    {
     "name": "stdout",
     "output_type": "stream",
     "text": [
      "{'inputCols': ['company_response', 'consumer_consent_provided', 'submitted_via'], 'outputCols': ['im_company_response', 'im_consumer_consent_provided', 'im_submitted_via']}\n",
      "Pipeline_1cfe2ab47347__stages\n"
     ]
    },
    {
     "name": "stderr",
     "output_type": "stream",
     "text": [
      "                                                                                \r"
     ]
    },
    {
     "name": "stdout",
     "output_type": "stream",
     "text": [
      "{'inputCols': ['company_response', 'consumer_consent_provided', 'submitted_via'], 'outputCols': ['im_company_response', 'im_consumer_consent_provided', 'im_submitted_via']}\n"
     ]
    },
    {
     "name": "stderr",
     "output_type": "stream",
     "text": [
      "                                                                                \r"
     ]
    },
    {
     "name": "stdout",
     "output_type": "stream",
     "text": [
      "313439 2\n"
     ]
    },
    {
     "name": "stderr",
     "output_type": "stream",
     "text": [
      "                                                                                \r"
     ]
    },
    {
     "name": "stdout",
     "output_type": "stream",
     "text": [
      "134224 2\n"
     ]
    },
    {
     "name": "stderr",
     "output_type": "stream",
     "text": [
      "                                                                                \r"
     ]
    }
   ],
   "source": [
    "data_transformation_artifact = pipeline.start_data_transformation(data_validation_artifact=data_validation_artifact)"
   ]
  },
  {
   "cell_type": "code",
   "execution_count": 16,
   "id": "9d78a87e-1a50-4ab8-b934-70ef9ad0befc",
   "metadata": {
    "canvas": {
     "comments": [],
     "componentType": "CodeCell",
     "copiedOriginId": null,
     "diskcache": false,
     "headerColor": "inherit",
     "id": "b1b94c43-c585-40d8-bb50-0d3c3a2538f4",
     "isComponent": true,
     "name": "Model Trainer",
     "parents": [
      {
       "id": "42d92b61-a371-4345-9fb1-7242f4e4d41f",
       "name": "Data Transformation"
      }
     ]
    },
    "tags": []
   },
   "outputs": [
    {
     "name": "stdout",
     "output_type": "stream",
     "text": [
      "Train row: 313439 Test row: 134224\n",
      "Train row: 313439 Test row: 134224\n"
     ]
    },
    {
     "name": "stderr",
     "output_type": "stream",
     "text": [
      "                                                                                \r"
     ]
    },
    {
     "name": "stdout",
     "output_type": "stream",
     "text": [
      "number of row in training: 313439\n"
     ]
    },
    {
     "name": "stderr",
     "output_type": "stream",
     "text": [
      "                                                                                \r"
     ]
    },
    {
     "name": "stdout",
     "output_type": "stream",
     "text": [
      "f1 score: 0.6368200549870482\n"
     ]
    },
    {
     "name": "stderr",
     "output_type": "stream",
     "text": [
      "                                                                                \r"
     ]
    },
    {
     "name": "stdout",
     "output_type": "stream",
     "text": [
      "weightedPrecision score: 0.6520893436023029\n"
     ]
    },
    {
     "name": "stderr",
     "output_type": "stream",
     "text": [
      "                                                                                \r"
     ]
    },
    {
     "name": "stdout",
     "output_type": "stream",
     "text": [
      "weightedRecall score: 0.6294590015920163\n"
     ]
    },
    {
     "name": "stderr",
     "output_type": "stream",
     "text": [
      "                                                                                \r"
     ]
    },
    {
     "name": "stdout",
     "output_type": "stream",
     "text": [
      "weightedTruePositiveRate score: 0.6294590015920163\n"
     ]
    },
    {
     "name": "stderr",
     "output_type": "stream",
     "text": [
      "                                                                                \r"
     ]
    },
    {
     "name": "stdout",
     "output_type": "stream",
     "text": [
      "weightedFalsePositiveRate score: 0.1857751651877334\n"
     ]
    },
    {
     "name": "stderr",
     "output_type": "stream",
     "text": [
      "                                                                                \r"
     ]
    },
    {
     "name": "stdout",
     "output_type": "stream",
     "text": [
      "weightedFMeasure score: 0.6368200549870482\n"
     ]
    },
    {
     "name": "stderr",
     "output_type": "stream",
     "text": [
      "                                                                                \r"
     ]
    },
    {
     "name": "stdout",
     "output_type": "stream",
     "text": [
      "truePositiveRateByLabel score: 0.48558334924575136\n"
     ]
    },
    {
     "name": "stderr",
     "output_type": "stream",
     "text": [
      "                                                                                \r"
     ]
    },
    {
     "name": "stdout",
     "output_type": "stream",
     "text": [
      "falsePositiveRateByLabel score: 0.2151519652705571\n"
     ]
    },
    {
     "name": "stderr",
     "output_type": "stream",
     "text": [
      "                                                                                \r"
     ]
    },
    {
     "name": "stdout",
     "output_type": "stream",
     "text": [
      "precisionByLabel score: 0.5311083728410017\n"
     ]
    },
    {
     "name": "stderr",
     "output_type": "stream",
     "text": [
      "                                                                                \r"
     ]
    },
    {
     "name": "stdout",
     "output_type": "stream",
     "text": [
      "recallByLabel score: 0.48558334924575136\n"
     ]
    },
    {
     "name": "stderr",
     "output_type": "stream",
     "text": [
      "                                                                                \r"
     ]
    },
    {
     "name": "stdout",
     "output_type": "stream",
     "text": [
      "fMeasureByLabel score: 0.5073266102083769\n",
      "number of row in training: 134224\n",
      "f1 score: 0.6329611645207734\n",
      "weightedPrecision score: 0.6478947970145956\n",
      "weightedRecall score: 0.6254768148766241\n",
      "weightedTruePositiveRate score: 0.6254768148766241\n",
      "weightedFalsePositiveRate score: 0.18723515191002743\n",
      "weightedFMeasure score: 0.6329611645207734\n",
      "truePositiveRateByLabel score: 0.4823447905958074\n",
      "falsePositiveRateByLabel score: 0.21937235968617985\n",
      "precisionByLabel score: 0.52370668737261\n",
      "recallByLabel score: 0.4823447905958074\n",
      "fMeasureByLabel score: 0.5021754810488843\n",
      "{'inputCols': None, 'outputCols': None}\n"
     ]
    }
   ],
   "source": [
    "model_trainer_artifact = pipeline.start_model_trainer(data_transformation_artifact=data_transformation_artifact)"
   ]
  },
  {
   "cell_type": "code",
   "execution_count": 17,
   "id": "eff680ac-906d-4083-bfc4-727856a385af",
   "metadata": {
    "canvas": {
     "comments": [],
     "componentType": "CodeCell",
     "copiedOriginId": null,
     "diskcache": false,
     "headerColor": "inherit",
     "id": "122cb9b2-7cc5-4709-b1f7-cb202dc0ed7a",
     "isComponent": true,
     "name": "Model Evaluation",
     "parents": [
      {
       "id": "32fc747f-74ca-4b78-8683-e8a26b3182f1",
       "name": "Data Validation"
      },
      {
       "id": "b1b94c43-c585-40d8-bb50-0d3c3a2538f4",
       "name": "Model Trainer"
      }
     ]
    },
    "tags": []
   },
   "outputs": [
    {
     "name": "stdout",
     "output_type": "stream",
     "text": [
      "{'inputCols': None, 'outputCols': None}\n",
      "{'inputCols': None, 'outputCols': None}\n"
     ]
    },
    {
     "name": "stderr",
     "output_type": "stream",
     "text": [
      "                                                                                \r"
     ]
    },
    {
     "name": "stdout",
     "output_type": "stream",
     "text": [
      "f1 score: 0.7766444154240693\n"
     ]
    },
    {
     "name": "stderr",
     "output_type": "stream",
     "text": [
      "                                                                                \r"
     ]
    },
    {
     "name": "stdout",
     "output_type": "stream",
     "text": [
      "f1 score: 0.788515754873437\n",
      "+--------------+----------------+--------------------+--------------------+------+\n",
      "|model_accepted|changed_accuracy|  trained_model_path|     best_model_path|active|\n",
      "+--------------+----------------+--------------------+--------------------+------+\n",
      "|         false|     -0.01187134|/home/avnish/iNeu...|/home/avnish/iNeu...|  true|\n",
      "+--------------+----------------+--------------------+--------------------+------+\n",
      "\n"
     ]
    }
   ],
   "source": [
    "model_eval_artifact = pipeline.start_model_evaluation(data_validation_artifact=data_validation_artifact,\n",
    "                                                              model_trainer_artifact=model_trainer_artifact\n",
    "                                                              )"
   ]
  },
  {
   "cell_type": "code",
   "execution_count": 18,
   "id": "c9831149-75da-4c7e-b511-413422237220",
   "metadata": {
    "canvas": {
     "comments": [],
     "componentType": "CodeCell",
     "copiedOriginId": null,
     "diskcache": false,
     "headerColor": "#0030CC",
     "id": "50169258-56bb-4aa8-ad25-04d5f46ed894",
     "isComponent": true,
     "name": "Model Pusher",
     "parents": [
      {
       "id": "122cb9b2-7cc5-4709-b1f7-cb202dc0ed7a",
       "name": "Model Evaluation"
      }
     ]
    },
    "tags": []
   },
   "outputs": [],
   "source": []
  },
  {
   "cell_type": "code",
   "execution_count": null,
   "id": "38d9a5c2-5520-43ea-99d5-0b1d751b5a34",
   "metadata": {
    "canvas": {
     "comments": [],
     "componentType": "CodeCell",
     "copiedOriginId": null,
     "diskcache": false,
     "headerColor": "inherit",
     "id": "a9adbf85-286c-4646-97d1-ae1ba0e21e43",
     "isComponent": false,
     "name": "",
     "parents": []
    }
   },
   "outputs": [],
   "source": []
  },
  {
   "cell_type": "code",
   "execution_count": null,
   "id": "2c8856a1-9952-4887-86d0-d8b71de8910c",
   "metadata": {
    "canvas": {
     "comments": [],
     "componentType": "CodeCell",
     "copiedOriginId": null,
     "diskcache": false,
     "headerColor": "inherit",
     "id": "804cfe97-2f13-4981-977b-0b1d4760d035",
     "isComponent": false,
     "name": "",
     "parents": []
    }
   },
   "outputs": [],
   "source": []
  },
  {
   "cell_type": "code",
   "execution_count": null,
   "id": "b8c750a5-e9e9-4be9-be4f-71bc1c0b3dcd",
   "metadata": {
    "canvas": {
     "comments": [],
     "componentType": "CodeCell",
     "copiedOriginId": null,
     "diskcache": false,
     "headerColor": "inherit",
     "id": "1ac413e0-7485-4e51-b0ee-8d4a952cbc8b",
     "isComponent": false,
     "name": "",
     "parents": []
    }
   },
   "outputs": [],
   "source": []
  },
  {
   "cell_type": "code",
   "execution_count": null,
   "id": "33bbd835-d755-479c-a6e1-62e64b2d8f8a",
   "metadata": {
    "canvas": {
     "comments": [],
     "componentType": "CodeCell",
     "copiedOriginId": null,
     "diskcache": false,
     "headerColor": "inherit",
     "id": "6c952b00-5509-4dc0-8232-9342474ef60a",
     "isComponent": false,
     "name": "",
     "parents": []
    }
   },
   "outputs": [],
   "source": []
  },
  {
   "cell_type": "code",
   "execution_count": null,
   "id": "386f9a81-a4d9-4288-9109-147848d9596a",
   "metadata": {
    "canvas": {
     "comments": [],
     "componentType": "CodeCell",
     "copiedOriginId": null,
     "diskcache": false,
     "headerColor": "inherit",
     "id": "0f327d75-ed51-47c4-b4ad-9433dbd0af87",
     "isComponent": false,
     "name": "",
     "parents": []
    }
   },
   "outputs": [],
   "source": []
  },
  {
   "cell_type": "code",
   "execution_count": null,
   "id": "1cfa0854-2d65-4592-ac2a-891bb33d9d29",
   "metadata": {
    "canvas": {
     "comments": [],
     "componentType": "CodeCell",
     "copiedOriginId": null,
     "diskcache": false,
     "headerColor": "inherit",
     "id": "a661961f-07f7-4c9e-b7c1-b625cf35d68c",
     "isComponent": false,
     "name": "",
     "parents": []
    }
   },
   "outputs": [],
   "source": []
  },
  {
   "cell_type": "code",
   "execution_count": null,
   "id": "1b67e2ea-2857-40d9-a877-dad3f7147dd5",
   "metadata": {
    "canvas": {
     "comments": [],
     "componentType": "CodeCell",
     "copiedOriginId": null,
     "diskcache": false,
     "headerColor": "inherit",
     "id": "0808cc27-7548-43a7-b1b7-0253052d4444",
     "isComponent": false,
     "name": "",
     "parents": []
    }
   },
   "outputs": [],
   "source": []
  },
  {
   "cell_type": "code",
   "execution_count": null,
   "id": "624bb821-13f5-4757-b95a-29c4f286eca9",
   "metadata": {
    "canvas": {
     "comments": [],
     "componentType": "CodeCell",
     "copiedOriginId": null,
     "diskcache": false,
     "headerColor": "inherit",
     "id": "b9bf6472-d8d6-4115-916c-ea6920c309ac",
     "isComponent": false,
     "name": "",
     "parents": []
    }
   },
   "outputs": [],
   "source": []
  },
  {
   "cell_type": "code",
   "execution_count": null,
   "id": "ed47b63b-bfe2-4ed8-89aa-db37963137c7",
   "metadata": {
    "canvas": {
     "comments": [],
     "componentType": "CodeCell",
     "copiedOriginId": null,
     "diskcache": false,
     "headerColor": "inherit",
     "id": "cd12d829-127d-471a-9ff6-2a087788e054",
     "isComponent": false,
     "name": "",
     "parents": []
    }
   },
   "outputs": [],
   "source": []
  },
  {
   "cell_type": "code",
   "execution_count": null,
   "id": "86091b3c-1dc8-4276-ba11-e0c32ce54366",
   "metadata": {
    "canvas": {
     "comments": [],
     "componentType": "CodeCell",
     "copiedOriginId": null,
     "diskcache": false,
     "headerColor": "inherit",
     "id": "bb0cd88f-ae06-40ed-8801-b627c809e55e",
     "isComponent": false,
     "name": "",
     "parents": []
    }
   },
   "outputs": [],
   "source": []
  },
  {
   "cell_type": "code",
   "execution_count": null,
   "id": "5d4385c1-9b74-4140-a1c4-f5e5cd303f14",
   "metadata": {
    "canvas": {
     "comments": [],
     "componentType": "CodeCell",
     "copiedOriginId": null,
     "diskcache": false,
     "headerColor": "inherit",
     "id": "1108ebb5-eaed-4575-ad6d-52690bea851b",
     "isComponent": false,
     "name": "",
     "parents": []
    }
   },
   "outputs": [],
   "source": []
  },
  {
   "cell_type": "code",
   "execution_count": null,
   "id": "9ff49ffb-c971-47e5-b8ed-7846728627a8",
   "metadata": {
    "canvas": {
     "comments": [],
     "componentType": "CodeCell",
     "copiedOriginId": null,
     "diskcache": false,
     "headerColor": "inherit",
     "id": "14181b47-a43d-4415-ac54-4bdacba97aa0",
     "isComponent": false,
     "name": "",
     "parents": []
    }
   },
   "outputs": [],
   "source": []
  },
  {
   "cell_type": "code",
   "execution_count": null,
   "id": "5e1f15d1-1663-4c76-823b-b6234a4e61ed",
   "metadata": {
    "canvas": {
     "comments": [],
     "componentType": "CodeCell",
     "copiedOriginId": null,
     "diskcache": false,
     "headerColor": "inherit",
     "id": "9a25fe98-fcbb-44d9-842a-544df58fd2a7",
     "isComponent": false,
     "name": "",
     "parents": []
    }
   },
   "outputs": [],
   "source": []
  },
  {
   "cell_type": "code",
   "execution_count": null,
   "id": "78702a60-0262-4480-94f6-54382605c39b",
   "metadata": {
    "canvas": {
     "comments": [],
     "componentType": "CodeCell",
     "copiedOriginId": null,
     "diskcache": false,
     "headerColor": "inherit",
     "id": "aab303ba-a28c-4fe1-a673-b17990d554cc",
     "isComponent": false,
     "name": "",
     "parents": []
    }
   },
   "outputs": [],
   "source": []
  },
  {
   "cell_type": "code",
   "execution_count": null,
   "id": "5495a2de-56a6-4c45-988d-51b3c160fc62",
   "metadata": {
    "canvas": {
     "comments": [],
     "componentType": "CodeCell",
     "copiedOriginId": null,
     "diskcache": false,
     "headerColor": "inherit",
     "id": "17f8c797-0448-499e-8a7d-5aeb24417b4c",
     "isComponent": false,
     "name": "",
     "parents": []
    }
   },
   "outputs": [],
   "source": []
  },
  {
   "cell_type": "code",
   "execution_count": null,
   "id": "569cea84-923b-4ea3-b04e-e96895d8f3d6",
   "metadata": {
    "canvas": {
     "comments": [],
     "componentType": "CodeCell",
     "copiedOriginId": null,
     "diskcache": false,
     "headerColor": "inherit",
     "id": "5f541e34-2eed-4c4f-9de3-eb72e8124394",
     "isComponent": false,
     "name": "",
     "parents": []
    }
   },
   "outputs": [],
   "source": []
  },
  {
   "cell_type": "code",
   "execution_count": null,
   "id": "3b4db8f7-d382-4ea2-b63f-952d71dcd784",
   "metadata": {
    "canvas": {
     "comments": [],
     "componentType": "CodeCell",
     "copiedOriginId": null,
     "diskcache": false,
     "headerColor": "inherit",
     "id": "121f8202-fdcd-48c5-86b3-d8febccc36b0",
     "isComponent": false,
     "name": "",
     "parents": []
    }
   },
   "outputs": [],
   "source": []
  },
  {
   "cell_type": "code",
   "execution_count": null,
   "id": "6bc9e58b-b48c-4955-8c14-d0d1f17d6aa7",
   "metadata": {
    "canvas": {
     "comments": [],
     "componentType": "CodeCell",
     "copiedOriginId": null,
     "diskcache": false,
     "headerColor": "inherit",
     "id": "2e7a5077-e247-423b-99ac-e5406c8eeba9",
     "isComponent": false,
     "name": "",
     "parents": []
    }
   },
   "outputs": [],
   "source": []
  }
 ],
 "metadata": {
  "canvas": {
   "colorPalette": [
    "inherit",
    "inherit",
    "inherit",
    "inherit",
    "inherit",
    "inherit",
    "inherit",
    "inherit",
    "inherit",
    "inherit"
   ],
   "parameters": [],
   "version": "1.0"
  },
  "kernelspec": {
   "display_name": "Python 3 (ipykernel)",
   "language": "python",
   "name": "python3"
  },
  "language_info": {
   "codemirror_mode": {
    "name": "ipython",
    "version": 3
   },
   "file_extension": ".py",
   "mimetype": "text/x-python",
   "name": "python",
   "nbconvert_exporter": "python",
   "pygments_lexer": "ipython3",
   "version": "3.8.0"
  }
 },
 "nbformat": 4,
 "nbformat_minor": 5
}
