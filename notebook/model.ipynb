{
 "cells": [
  {
   "cell_type": "code",
   "execution_count": 1,
   "id": "3bb310d0",
   "metadata": {},
   "outputs": [],
   "source": [
    "file_path=\"/home/avnish/complaints.json\""
   ]
  },
  {
   "cell_type": "code",
   "execution_count": 2,
   "id": "cfcbf570",
   "metadata": {},
   "outputs": [
    {
     "name": "stderr",
     "output_type": "stream",
     "text": [
      "22/09/13 14:02:11 WARN Utils: Your hostname, avnish-yadav resolves to a loopback address: 127.0.1.1; using 192.168.3.35 instead (on interface wlo1)\n",
      "22/09/13 14:02:11 WARN Utils: Set SPARK_LOCAL_IP if you need to bind to another address\n",
      "Using Spark's default log4j profile: org/apache/spark/log4j-defaults.properties\n",
      "Setting default log level to \"WARN\".\n",
      "To adjust logging level use sc.setLogLevel(newLevel). For SparkR, use setLogLevel(newLevel).\n",
      "22/09/13 14:02:12 WARN NativeCodeLoader: Unable to load native-hadoop library for your platform... using builtin-java classes where applicable\n"
     ]
    }
   ],
   "source": [
    "from finance_complaint.entity.spark_manager import spark_session"
   ]
  },
  {
   "cell_type": "code",
   "execution_count": 3,
   "id": "ad1bf1f8",
   "metadata": {},
   "outputs": [
    {
     "name": "stderr",
     "output_type": "stream",
     "text": [
      "                                                                                \r"
     ]
    }
   ],
   "source": [
    "df = spark_session.read.json(file_path)"
   ]
  },
  {
   "cell_type": "code",
   "execution_count": 4,
   "id": "49d17743",
   "metadata": {},
   "outputs": [],
   "source": [
    "def updateattr(df):\n",
    "    for colums in df.columns:\n",
    "        setattr(df,colums,colums)\n",
    "    "
   ]
  },
  {
   "cell_type": "code",
   "execution_count": 5,
   "id": "d710ebfe-7526-4b82-91c6-8b12eda2737c",
   "metadata": {},
   "outputs": [],
   "source": [
    "updateattr(df)"
   ]
  },
  {
   "cell_type": "code",
   "execution_count": 6,
   "id": "111d9dc9-77ea-4937-82c6-649e237c7f6f",
   "metadata": {},
   "outputs": [
    {
     "data": {
      "text/plain": [
       "['_corrupt_record',\n",
       " 'company',\n",
       " 'company_public_response',\n",
       " 'company_response',\n",
       " 'complaint_id',\n",
       " 'complaint_what_happened',\n",
       " 'consumer_consent_provided',\n",
       " 'consumer_disputed',\n",
       " 'date_received',\n",
       " 'date_sent_to_company',\n",
       " 'issue',\n",
       " 'product',\n",
       " 'state',\n",
       " 'sub_issue',\n",
       " 'sub_product',\n",
       " 'submitted_via',\n",
       " 'tags',\n",
       " 'timely',\n",
       " 'zip_code']"
      ]
     },
     "execution_count": 6,
     "metadata": {},
     "output_type": "execute_result"
    }
   ],
   "source": [
    "df.columns"
   ]
  },
  {
   "cell_type": "code",
   "execution_count": 6,
   "id": "e52cd9b9-0c1d-4246-a00a-2bcbb98af5ee",
   "metadata": {},
   "outputs": [],
   "source": [
    "required_columns=[\"consumer_consent_provided\",\"company_public_response\",\"complaint_what_happened\",\"company_response\",\"company_public_response\",\"issue\",\"timely\",\"tags\",\"submitted_via\",\"consumer_disputed\"]"
   ]
  },
  {
   "cell_type": "code",
   "execution_count": 7,
   "id": "52705d73-e87d-4201-b7ef-878461c8d37b",
   "metadata": {},
   "outputs": [],
   "source": [
    "df=df.select(required_columns)"
   ]
  },
  {
   "cell_type": "code",
   "execution_count": 8,
   "id": "5320580e-ce45-4fc4-ad39-f11be263858a",
   "metadata": {},
   "outputs": [],
   "source": [
    "from pyspark.sql.functions import col"
   ]
  },
  {
   "cell_type": "code",
   "execution_count": 9,
   "id": "83ae30e4-995b-47ba-b7c9-b88614cd5cc1",
   "metadata": {},
   "outputs": [],
   "source": [
    "updateattr(df)"
   ]
  },
  {
   "cell_type": "code",
   "execution_count": 10,
   "id": "58faf90a-8a30-498a-998f-7df8c86213f4",
   "metadata": {},
   "outputs": [],
   "source": [
    "df=df.filter(col(df.consumer_disputed).isNotNull())"
   ]
  },
  {
   "cell_type": "code",
   "execution_count": 11,
   "id": "8e721afa-3649-47a3-8b01-315ee3e567af",
   "metadata": {},
   "outputs": [],
   "source": [
    "updateattr(df)"
   ]
  },
  {
   "cell_type": "code",
   "execution_count": 12,
   "id": "8c9acf96-b7a9-4aac-b169-5ba6075afceb",
   "metadata": {},
   "outputs": [
    {
     "name": "stderr",
     "output_type": "stream",
     "text": [
      "                                                                                \r"
     ]
    },
    {
     "data": {
      "text/plain": [
       "2919299"
      ]
     },
     "execution_count": 12,
     "metadata": {},
     "output_type": "execute_result"
    }
   ],
   "source": [
    "df.count()"
   ]
  },
  {
   "cell_type": "code",
   "execution_count": 15,
   "id": "1c4e1e8f-1a9b-4f76-b540-03ca45447013",
   "metadata": {},
   "outputs": [],
   "source": [
    "df,rdf = df.randomSplit([0.1,1-0.1])"
   ]
  },
  {
   "cell_type": "code",
   "execution_count": 16,
   "id": "370bf78b-214d-41b1-8acf-aa657eca28bf",
   "metadata": {},
   "outputs": [
    {
     "name": "stderr",
     "output_type": "stream",
     "text": [
      "                                                                                \r"
     ]
    },
    {
     "data": {
      "text/plain": [
       "290209"
      ]
     },
     "execution_count": 16,
     "metadata": {},
     "output_type": "execute_result"
    }
   ],
   "source": [
    "df.count()"
   ]
  },
  {
   "cell_type": "code",
   "execution_count": 17,
   "id": "7e87e718-b865-48c1-ab64-73eb825691c0",
   "metadata": {},
   "outputs": [
    {
     "name": "stderr",
     "output_type": "stream",
     "text": [
      "[Stage 10:===================================================>    (21 + 2) / 23]\r"
     ]
    },
    {
     "name": "stdout",
     "output_type": "stream",
     "text": [
      "+-----------------+-------+\n",
      "|consumer_disputed|  count|\n",
      "+-----------------+-------+\n",
      "|               No| 558019|\n",
      "|              N/A|1937445|\n",
      "|              Yes| 133626|\n",
      "+-----------------+-------+\n",
      "\n"
     ]
    },
    {
     "name": "stderr",
     "output_type": "stream",
     "text": [
      "                                                                                \r"
     ]
    }
   ],
   "source": [
    "rdf.groupby(df.consumer_disputed).count().show()"
   ]
  },
  {
   "cell_type": "code",
   "execution_count": 21,
   "id": "71876927-fb62-4f86-b1ca-4be6da2f7638",
   "metadata": {},
   "outputs": [
    {
     "name": "stderr",
     "output_type": "stream",
     "text": [
      "[Stage 10:===================================================>    (21 + 2) / 23]\r"
     ]
    },
    {
     "name": "stdout",
     "output_type": "stream",
     "text": [
      "+-----------------+------+\n",
      "|consumer_disputed| count|\n",
      "+-----------------+------+\n",
      "|               No| 61951|\n",
      "|              N/A|214643|\n",
      "|              Yes| 14670|\n",
      "+-----------------+------+\n",
      "\n"
     ]
    },
    {
     "name": "stderr",
     "output_type": "stream",
     "text": [
      "                                                                                \r"
     ]
    }
   ],
   "source": [
    "df.groupby(df.consumer_disputed).count().show()"
   ]
  },
  {
   "cell_type": "code",
   "execution_count": 18,
   "id": "60b115df-de75-4ab0-b553-f2fdbb9af551",
   "metadata": {},
   "outputs": [
    {
     "name": "stderr",
     "output_type": "stream",
     "text": [
      "                                                                                \r"
     ]
    }
   ],
   "source": [
    "pdf = df.toPandas()"
   ]
  },
  {
   "cell_type": "code",
   "execution_count": 23,
   "id": "de827c33-f8c3-4900-a2a6-5caf8e92fc4e",
   "metadata": {},
   "outputs": [
    {
     "data": {
      "text/plain": [
       "N/A    214643\n",
       "No      61951\n",
       "Yes     14670\n",
       "Name: consumer_disputed, dtype: int64"
      ]
     },
     "execution_count": 23,
     "metadata": {},
     "output_type": "execute_result"
    }
   ],
   "source": [
    "pdf.consumer_disputed.value_counts()"
   ]
  },
  {
   "cell_type": "code",
   "execution_count": 24,
   "id": "aee56821-2dc5-4629-ac37-ae6d3ba034f5",
   "metadata": {},
   "outputs": [
    {
     "data": {
      "text/plain": [
       "Index(['consumer_consent_provided', 'company_public_response',\n",
       "       'complaint_what_happened', 'company_response',\n",
       "       'company_public_response', 'issue', 'timely', 'tags', 'submitted_via',\n",
       "       'consumer_disputed'],\n",
       "      dtype='object')"
      ]
     },
     "execution_count": 24,
     "metadata": {},
     "output_type": "execute_result"
    }
   ],
   "source": [
    "pdf.columns"
   ]
  },
  {
   "cell_type": "code",
   "execution_count": 25,
   "id": "c6703ea6-b65d-417e-b940-ec0a7d6d61cb",
   "metadata": {},
   "outputs": [],
   "source": [
    "import pandas as pd"
   ]
  },
  {
   "cell_type": "code",
   "execution_count": 26,
   "id": "69890df3-f87b-47dc-ab07-edad69220d48",
   "metadata": {},
   "outputs": [
    {
     "data": {
      "text/html": [
       "<div>\n",
       "<style scoped>\n",
       "    .dataframe tbody tr th:only-of-type {\n",
       "        vertical-align: middle;\n",
       "    }\n",
       "\n",
       "    .dataframe tbody tr th {\n",
       "        vertical-align: top;\n",
       "    }\n",
       "\n",
       "    .dataframe thead th {\n",
       "        text-align: right;\n",
       "    }\n",
       "</style>\n",
       "<table border=\"1\" class=\"dataframe\">\n",
       "  <thead>\n",
       "    <tr style=\"text-align: right;\">\n",
       "      <th></th>\n",
       "      <th>consumer_consent_provided</th>\n",
       "    </tr>\n",
       "  </thead>\n",
       "  <tbody>\n",
       "    <tr>\n",
       "      <th>Consent provided</th>\n",
       "      <td>103588</td>\n",
       "    </tr>\n",
       "    <tr>\n",
       "      <th>Consent not provided</th>\n",
       "      <td>100222</td>\n",
       "    </tr>\n",
       "    <tr>\n",
       "      <th>N/A</th>\n",
       "      <td>71174</td>\n",
       "    </tr>\n",
       "    <tr>\n",
       "      <th></th>\n",
       "      <td>8216</td>\n",
       "    </tr>\n",
       "    <tr>\n",
       "      <th>Other</th>\n",
       "      <td>7572</td>\n",
       "    </tr>\n",
       "    <tr>\n",
       "      <th>Consent withdrawn</th>\n",
       "      <td>492</td>\n",
       "    </tr>\n",
       "  </tbody>\n",
       "</table>\n",
       "</div>"
      ],
      "text/plain": [
       "                      consumer_consent_provided\n",
       "Consent provided                         103588\n",
       "Consent not provided                     100222\n",
       "N/A                                       71174\n",
       "                                           8216\n",
       "Other                                      7572\n",
       "Consent withdrawn                           492"
      ]
     },
     "execution_count": 26,
     "metadata": {},
     "output_type": "execute_result"
    }
   ],
   "source": [
    "pd.DataFrame(pdf.consumer_consent_provided.value_counts())"
   ]
  },
  {
   "cell_type": "code",
   "execution_count": 33,
   "id": "802231da-c65f-4e6a-a3bf-bea40582aabb",
   "metadata": {},
   "outputs": [],
   "source": [
    "import matplotlib.pyplot as plt\n",
    "import seaborn as sns"
   ]
  },
  {
   "cell_type": "code",
   "execution_count": null,
   "id": "0f4b9afb-045e-42ef-942f-3bc1c3f27677",
   "metadata": {},
   "outputs": [],
   "source": []
  },
  {
   "cell_type": "code",
   "execution_count": 31,
   "id": "f342513d-12ee-4172-8b28-f903fc6faf21",
   "metadata": {},
   "outputs": [],
   "source": [
    "from sklearn.ensemble import RandomForestClassifier"
   ]
  },
  {
   "cell_type": "code",
   "execution_count": 32,
   "id": "8e3aef01-1f80-47bd-8418-229dc62fdacc",
   "metadata": {},
   "outputs": [],
   "source": [
    "from sklearn.preprocessing import OneHotEncoder"
   ]
  },
  {
   "cell_type": "code",
   "execution_count": null,
   "id": "0cf3a7e9-4a89-45e8-89a1-ea6a7c460188",
   "metadata": {},
   "outputs": [],
   "source": []
  },
  {
   "cell_type": "code",
   "execution_count": 38,
   "id": "1a14486e-6116-4616-ad96-75d8e856ce50",
   "metadata": {},
   "outputs": [],
   "source": [
    "input_feature = pdf[['consumer_consent_provided']]"
   ]
  },
  {
   "cell_type": "code",
   "execution_count": 39,
   "id": "16f8ad60-4215-4ff2-b5ef-073f0c0b1bae",
   "metadata": {},
   "outputs": [],
   "source": [
    "ohe = OneHotEncoder()"
   ]
  },
  {
   "cell_type": "code",
   "execution_count": 40,
   "id": "959e6470-3cab-465d-b2e7-6b7a5d9d8c2f",
   "metadata": {},
   "outputs": [],
   "source": [
    "x = ohe.fit_transform(input_feature)"
   ]
  },
  {
   "cell_type": "code",
   "execution_count": 44,
   "id": "d61f4d61-2953-4a7c-b15c-4caef722f85e",
   "metadata": {},
   "outputs": [],
   "source": [
    "x = x.toarray()"
   ]
  },
  {
   "cell_type": "code",
   "execution_count": 30,
   "id": "4394115c-34ff-4f40-ab43-e530497a1902",
   "metadata": {},
   "outputs": [],
   "source": [
    "from sklearn.preprocessing import LabelEncoder"
   ]
  },
  {
   "cell_type": "code",
   "execution_count": 46,
   "id": "89a5a259-6bc2-4477-a391-2d390ee840b2",
   "metadata": {},
   "outputs": [],
   "source": [
    "le = LabelEncoder()"
   ]
  },
  {
   "cell_type": "code",
   "execution_count": 51,
   "id": "6d4ba232-6631-4daf-b854-5dbf577fc828",
   "metadata": {},
   "outputs": [],
   "source": [
    "y = le.fit_transform(pdf.consumer_disputed)"
   ]
  },
  {
   "cell_type": "code",
   "execution_count": 61,
   "id": "504274bf-492b-4886-8d3e-1aedfc606433",
   "metadata": {},
   "outputs": [],
   "source": [
    "rfc = RandomForestClassifier()"
   ]
  },
  {
   "cell_type": "code",
   "execution_count": 49,
   "id": "c521aa2c-078a-44f9-a68e-1482ee4343cf",
   "metadata": {},
   "outputs": [
    {
     "data": {
      "text/html": [
       "<style>#sk-container-id-1 {color: black;background-color: white;}#sk-container-id-1 pre{padding: 0;}#sk-container-id-1 div.sk-toggleable {background-color: white;}#sk-container-id-1 label.sk-toggleable__label {cursor: pointer;display: block;width: 100%;margin-bottom: 0;padding: 0.3em;box-sizing: border-box;text-align: center;}#sk-container-id-1 label.sk-toggleable__label-arrow:before {content: \"▸\";float: left;margin-right: 0.25em;color: #696969;}#sk-container-id-1 label.sk-toggleable__label-arrow:hover:before {color: black;}#sk-container-id-1 div.sk-estimator:hover label.sk-toggleable__label-arrow:before {color: black;}#sk-container-id-1 div.sk-toggleable__content {max-height: 0;max-width: 0;overflow: hidden;text-align: left;background-color: #f0f8ff;}#sk-container-id-1 div.sk-toggleable__content pre {margin: 0.2em;color: black;border-radius: 0.25em;background-color: #f0f8ff;}#sk-container-id-1 input.sk-toggleable__control:checked~div.sk-toggleable__content {max-height: 200px;max-width: 100%;overflow: auto;}#sk-container-id-1 input.sk-toggleable__control:checked~label.sk-toggleable__label-arrow:before {content: \"▾\";}#sk-container-id-1 div.sk-estimator input.sk-toggleable__control:checked~label.sk-toggleable__label {background-color: #d4ebff;}#sk-container-id-1 div.sk-label input.sk-toggleable__control:checked~label.sk-toggleable__label {background-color: #d4ebff;}#sk-container-id-1 input.sk-hidden--visually {border: 0;clip: rect(1px 1px 1px 1px);clip: rect(1px, 1px, 1px, 1px);height: 1px;margin: -1px;overflow: hidden;padding: 0;position: absolute;width: 1px;}#sk-container-id-1 div.sk-estimator {font-family: monospace;background-color: #f0f8ff;border: 1px dotted black;border-radius: 0.25em;box-sizing: border-box;margin-bottom: 0.5em;}#sk-container-id-1 div.sk-estimator:hover {background-color: #d4ebff;}#sk-container-id-1 div.sk-parallel-item::after {content: \"\";width: 100%;border-bottom: 1px solid gray;flex-grow: 1;}#sk-container-id-1 div.sk-label:hover label.sk-toggleable__label {background-color: #d4ebff;}#sk-container-id-1 div.sk-serial::before {content: \"\";position: absolute;border-left: 1px solid gray;box-sizing: border-box;top: 0;bottom: 0;left: 50%;z-index: 0;}#sk-container-id-1 div.sk-serial {display: flex;flex-direction: column;align-items: center;background-color: white;padding-right: 0.2em;padding-left: 0.2em;position: relative;}#sk-container-id-1 div.sk-item {position: relative;z-index: 1;}#sk-container-id-1 div.sk-parallel {display: flex;align-items: stretch;justify-content: center;background-color: white;position: relative;}#sk-container-id-1 div.sk-item::before, #sk-container-id-1 div.sk-parallel-item::before {content: \"\";position: absolute;border-left: 1px solid gray;box-sizing: border-box;top: 0;bottom: 0;left: 50%;z-index: -1;}#sk-container-id-1 div.sk-parallel-item {display: flex;flex-direction: column;z-index: 1;position: relative;background-color: white;}#sk-container-id-1 div.sk-parallel-item:first-child::after {align-self: flex-end;width: 50%;}#sk-container-id-1 div.sk-parallel-item:last-child::after {align-self: flex-start;width: 50%;}#sk-container-id-1 div.sk-parallel-item:only-child::after {width: 0;}#sk-container-id-1 div.sk-dashed-wrapped {border: 1px dashed gray;margin: 0 0.4em 0.5em 0.4em;box-sizing: border-box;padding-bottom: 0.4em;background-color: white;}#sk-container-id-1 div.sk-label label {font-family: monospace;font-weight: bold;display: inline-block;line-height: 1.2em;}#sk-container-id-1 div.sk-label-container {text-align: center;}#sk-container-id-1 div.sk-container {/* jupyter's `normalize.less` sets `[hidden] { display: none; }` but bootstrap.min.css set `[hidden] { display: none !important; }` so we also need the `!important` here to be able to override the default hidden behavior on the sphinx rendered scikit-learn.org. See: https://github.com/scikit-learn/scikit-learn/issues/21755 */display: inline-block !important;position: relative;}#sk-container-id-1 div.sk-text-repr-fallback {display: none;}</style><div id=\"sk-container-id-1\" class=\"sk-top-container\"><div class=\"sk-text-repr-fallback\"><pre>RandomForestClassifier()</pre><b>In a Jupyter environment, please rerun this cell to show the HTML representation or trust the notebook. <br />On GitHub, the HTML representation is unable to render, please try loading this page with nbviewer.org.</b></div><div class=\"sk-container\" hidden><div class=\"sk-item\"><div class=\"sk-estimator sk-toggleable\"><input class=\"sk-toggleable__control sk-hidden--visually\" id=\"sk-estimator-id-1\" type=\"checkbox\" checked><label for=\"sk-estimator-id-1\" class=\"sk-toggleable__label sk-toggleable__label-arrow\">RandomForestClassifier</label><div class=\"sk-toggleable__content\"><pre>RandomForestClassifier()</pre></div></div></div></div></div>"
      ],
      "text/plain": [
       "RandomForestClassifier()"
      ]
     },
     "execution_count": 49,
     "metadata": {},
     "output_type": "execute_result"
    }
   ],
   "source": [
    "rfc.fit(x,y)"
   ]
  },
  {
   "cell_type": "code",
   "execution_count": 29,
   "id": "89eca91f-5f01-417b-857e-edf4b2ea4d6f",
   "metadata": {},
   "outputs": [
    {
     "ename": "NameError",
     "evalue": "name 'rfc' is not defined",
     "output_type": "error",
     "traceback": [
      "\u001b[0;31m---------------------------------------------------------------------------\u001b[0m",
      "\u001b[0;31mNameError\u001b[0m                                 Traceback (most recent call last)",
      "Input \u001b[0;32mIn [29]\u001b[0m, in \u001b[0;36m<cell line: 1>\u001b[0;34m()\u001b[0m\n\u001b[0;32m----> 1\u001b[0m yhat\u001b[38;5;241m=\u001b[39m\u001b[43mrfc\u001b[49m\u001b[38;5;241m.\u001b[39mpredict(x)\n",
      "\u001b[0;31mNameError\u001b[0m: name 'rfc' is not defined"
     ]
    }
   ],
   "source": [
    "yhat=rfc.predict(x)"
   ]
  },
  {
   "cell_type": "code",
   "execution_count": 28,
   "id": "8adb25f8-5a13-4155-8d29-80c6b0c8ce6d",
   "metadata": {},
   "outputs": [],
   "source": [
    "from sklearn.metrics import confusion_matrix,f1_score,recall_score"
   ]
  },
  {
   "cell_type": "code",
   "execution_count": 54,
   "id": "7d03bbad-3374-4159-af68-b02febe4c3e6",
   "metadata": {},
   "outputs": [
    {
     "data": {
      "text/plain": [
       "array([[190438,  24205,      0],\n",
       "       [ 23809,  38142,      0],\n",
       "       [  5843,   8827,      0]])"
      ]
     },
     "execution_count": 54,
     "metadata": {},
     "output_type": "execute_result"
    }
   ],
   "source": [
    "confusion_matrix(y,yhat)"
   ]
  },
  {
   "cell_type": "code",
   "execution_count": 57,
   "id": "ef16f8ed-9010-4fc6-ba11-f521132f9115",
   "metadata": {},
   "outputs": [
    {
     "data": {
      "text/plain": [
       "0.7675215441217812"
      ]
     },
     "execution_count": 57,
     "metadata": {},
     "output_type": "execute_result"
    }
   ],
   "source": [
    "f1_score(y,yhat,average=\"weighted\")"
   ]
  },
  {
   "cell_type": "code",
   "execution_count": 58,
   "id": "953d7890-9180-41f1-a42d-5e827139a8c2",
   "metadata": {},
   "outputs": [
    {
     "data": {
      "text/plain": [
       "0.7847863107009448"
      ]
     },
     "execution_count": 58,
     "metadata": {},
     "output_type": "execute_result"
    }
   ],
   "source": [
    "recall_score(y,yhat,average=\"weighted\")"
   ]
  },
  {
   "cell_type": "code",
   "execution_count": 59,
   "id": "5fb057d8-db1b-4926-b22e-c6055f201174",
   "metadata": {},
   "outputs": [],
   "source": [
    "from sklearn.model_selection import train_test_split"
   ]
  },
  {
   "cell_type": "code",
   "execution_count": 60,
   "id": "95494e6e-5233-4d9f-a134-c9b42be166ca",
   "metadata": {},
   "outputs": [],
   "source": [
    "X_train, X_test, y_train, y_test = train_test_split(x,y)"
   ]
  },
  {
   "cell_type": "code",
   "execution_count": 62,
   "id": "f74581c2-4f17-4ebc-8663-669e41677092",
   "metadata": {},
   "outputs": [
    {
     "data": {
      "text/html": [
       "<style>#sk-container-id-2 {color: black;background-color: white;}#sk-container-id-2 pre{padding: 0;}#sk-container-id-2 div.sk-toggleable {background-color: white;}#sk-container-id-2 label.sk-toggleable__label {cursor: pointer;display: block;width: 100%;margin-bottom: 0;padding: 0.3em;box-sizing: border-box;text-align: center;}#sk-container-id-2 label.sk-toggleable__label-arrow:before {content: \"▸\";float: left;margin-right: 0.25em;color: #696969;}#sk-container-id-2 label.sk-toggleable__label-arrow:hover:before {color: black;}#sk-container-id-2 div.sk-estimator:hover label.sk-toggleable__label-arrow:before {color: black;}#sk-container-id-2 div.sk-toggleable__content {max-height: 0;max-width: 0;overflow: hidden;text-align: left;background-color: #f0f8ff;}#sk-container-id-2 div.sk-toggleable__content pre {margin: 0.2em;color: black;border-radius: 0.25em;background-color: #f0f8ff;}#sk-container-id-2 input.sk-toggleable__control:checked~div.sk-toggleable__content {max-height: 200px;max-width: 100%;overflow: auto;}#sk-container-id-2 input.sk-toggleable__control:checked~label.sk-toggleable__label-arrow:before {content: \"▾\";}#sk-container-id-2 div.sk-estimator input.sk-toggleable__control:checked~label.sk-toggleable__label {background-color: #d4ebff;}#sk-container-id-2 div.sk-label input.sk-toggleable__control:checked~label.sk-toggleable__label {background-color: #d4ebff;}#sk-container-id-2 input.sk-hidden--visually {border: 0;clip: rect(1px 1px 1px 1px);clip: rect(1px, 1px, 1px, 1px);height: 1px;margin: -1px;overflow: hidden;padding: 0;position: absolute;width: 1px;}#sk-container-id-2 div.sk-estimator {font-family: monospace;background-color: #f0f8ff;border: 1px dotted black;border-radius: 0.25em;box-sizing: border-box;margin-bottom: 0.5em;}#sk-container-id-2 div.sk-estimator:hover {background-color: #d4ebff;}#sk-container-id-2 div.sk-parallel-item::after {content: \"\";width: 100%;border-bottom: 1px solid gray;flex-grow: 1;}#sk-container-id-2 div.sk-label:hover label.sk-toggleable__label {background-color: #d4ebff;}#sk-container-id-2 div.sk-serial::before {content: \"\";position: absolute;border-left: 1px solid gray;box-sizing: border-box;top: 0;bottom: 0;left: 50%;z-index: 0;}#sk-container-id-2 div.sk-serial {display: flex;flex-direction: column;align-items: center;background-color: white;padding-right: 0.2em;padding-left: 0.2em;position: relative;}#sk-container-id-2 div.sk-item {position: relative;z-index: 1;}#sk-container-id-2 div.sk-parallel {display: flex;align-items: stretch;justify-content: center;background-color: white;position: relative;}#sk-container-id-2 div.sk-item::before, #sk-container-id-2 div.sk-parallel-item::before {content: \"\";position: absolute;border-left: 1px solid gray;box-sizing: border-box;top: 0;bottom: 0;left: 50%;z-index: -1;}#sk-container-id-2 div.sk-parallel-item {display: flex;flex-direction: column;z-index: 1;position: relative;background-color: white;}#sk-container-id-2 div.sk-parallel-item:first-child::after {align-self: flex-end;width: 50%;}#sk-container-id-2 div.sk-parallel-item:last-child::after {align-self: flex-start;width: 50%;}#sk-container-id-2 div.sk-parallel-item:only-child::after {width: 0;}#sk-container-id-2 div.sk-dashed-wrapped {border: 1px dashed gray;margin: 0 0.4em 0.5em 0.4em;box-sizing: border-box;padding-bottom: 0.4em;background-color: white;}#sk-container-id-2 div.sk-label label {font-family: monospace;font-weight: bold;display: inline-block;line-height: 1.2em;}#sk-container-id-2 div.sk-label-container {text-align: center;}#sk-container-id-2 div.sk-container {/* jupyter's `normalize.less` sets `[hidden] { display: none; }` but bootstrap.min.css set `[hidden] { display: none !important; }` so we also need the `!important` here to be able to override the default hidden behavior on the sphinx rendered scikit-learn.org. See: https://github.com/scikit-learn/scikit-learn/issues/21755 */display: inline-block !important;position: relative;}#sk-container-id-2 div.sk-text-repr-fallback {display: none;}</style><div id=\"sk-container-id-2\" class=\"sk-top-container\"><div class=\"sk-text-repr-fallback\"><pre>RandomForestClassifier()</pre><b>In a Jupyter environment, please rerun this cell to show the HTML representation or trust the notebook. <br />On GitHub, the HTML representation is unable to render, please try loading this page with nbviewer.org.</b></div><div class=\"sk-container\" hidden><div class=\"sk-item\"><div class=\"sk-estimator sk-toggleable\"><input class=\"sk-toggleable__control sk-hidden--visually\" id=\"sk-estimator-id-2\" type=\"checkbox\" checked><label for=\"sk-estimator-id-2\" class=\"sk-toggleable__label sk-toggleable__label-arrow\">RandomForestClassifier</label><div class=\"sk-toggleable__content\"><pre>RandomForestClassifier()</pre></div></div></div></div></div>"
      ],
      "text/plain": [
       "RandomForestClassifier()"
      ]
     },
     "execution_count": 62,
     "metadata": {},
     "output_type": "execute_result"
    }
   ],
   "source": [
    "rfc.fit(X_train,y_train)"
   ]
  },
  {
   "cell_type": "code",
   "execution_count": 63,
   "id": "667ff38e-a8e0-466b-a6de-b55c5ac5d3e9",
   "metadata": {},
   "outputs": [],
   "source": [
    "yhat_train = rfc.predict(X_train)\n",
    "yhat_test = rfc.predict(X_test)"
   ]
  },
  {
   "cell_type": "code",
   "execution_count": 64,
   "id": "2d0a07c4-107a-40a5-895a-61ea725295e5",
   "metadata": {},
   "outputs": [
    {
     "data": {
      "text/plain": [
       "0.7678992401154284"
      ]
     },
     "execution_count": 64,
     "metadata": {},
     "output_type": "execute_result"
    }
   ],
   "source": [
    "f1_score(y_train,yhat_train,average=\"weighted\")"
   ]
  },
  {
   "cell_type": "code",
   "execution_count": 65,
   "id": "c4d7362e-328c-42a0-99d2-b30e458205a3",
   "metadata": {},
   "outputs": [
    {
     "data": {
      "text/plain": [
       "0.7663847317662271"
      ]
     },
     "execution_count": 65,
     "metadata": {},
     "output_type": "execute_result"
    }
   ],
   "source": [
    "f1_score(y_test,yhat_test,average=\"weighted\")"
   ]
  },
  {
   "cell_type": "code",
   "execution_count": 66,
   "id": "3a50c35a-d11c-4140-a612-6df411218009",
   "metadata": {},
   "outputs": [
    {
     "data": {
      "text/plain": [
       "0.785230352303523"
      ]
     },
     "execution_count": 66,
     "metadata": {},
     "output_type": "execute_result"
    }
   ],
   "source": [
    "recall_score(y_train,yhat_train,average=\"weighted\")"
   ]
  },
  {
   "cell_type": "code",
   "execution_count": 67,
   "id": "15db47c2-256b-44d0-8f7a-9045ea157917",
   "metadata": {},
   "outputs": [
    {
     "data": {
      "text/plain": [
       "0.7834541858932103"
      ]
     },
     "execution_count": 67,
     "metadata": {},
     "output_type": "execute_result"
    }
   ],
   "source": [
    "recall_score(y_test,yhat_test,average=\"weighted\")"
   ]
  },
  {
   "cell_type": "code",
   "execution_count": null,
   "id": "715c3a00-dfbc-49f9-84ad-454c84ee0bbe",
   "metadata": {},
   "outputs": [],
   "source": []
  },
  {
   "cell_type": "code",
   "execution_count": 93,
   "id": "a006eaf0-0d33-4017-b10a-51938dfd2f77",
   "metadata": {},
   "outputs": [],
   "source": [
    "d=pdf.company_public_response"
   ]
  },
  {
   "cell_type": "code",
   "execution_count": 94,
   "id": "9f865705-9387-4dfc-9e22-961a530f6a37",
   "metadata": {},
   "outputs": [],
   "source": [
    "d.columns=[\"company_public_response\",\"NO\"]"
   ]
  },
  {
   "cell_type": "code",
   "execution_count": 95,
   "id": "cf60d5e3-29d7-43c8-ad4e-a09dfaa6ba81",
   "metadata": {},
   "outputs": [],
   "source": [
    "d.columns = [\"company_public_response\",\"NO\"]"
   ]
  },
  {
   "cell_type": "code",
   "execution_count": 100,
   "id": "db87dde3-aa9a-4dce-a935-7250d2ad9cdb",
   "metadata": {},
   "outputs": [
    {
     "data": {
      "text/plain": [
       "array(['',\n",
       "       'Company believes it acted appropriately as authorized by contract or law',\n",
       "       'Company has responded to the consumer and the CFPB and chooses not to provide a public response',\n",
       "       'Company believes complaint caused principally by actions of third party outside the control or direction of the company',\n",
       "       'Company believes complaint is the result of an isolated error',\n",
       "       'Company believes complaint represents an opportunity for improvement to better serve consumers',\n",
       "       'Company believes the complaint is the result of a misunderstanding',\n",
       "       \"Company believes the complaint provided an opportunity to answer consumer's questions\",\n",
       "       \"Company can't verify or dispute the facts in the complaint\",\n",
       "       'Company chooses not to provide a public response',\n",
       "       'Company disputes the facts presented in the complaint',\n",
       "       'Company believes complaint relates to a discontinued policy or procedure'],\n",
       "      dtype=object)"
      ]
     },
     "execution_count": 100,
     "metadata": {},
     "output_type": "execute_result"
    }
   ],
   "source": [
    "d.company_public_response.unique()"
   ]
  },
  {
   "cell_type": "code",
   "execution_count": 27,
   "id": "c89027c4-608e-45ce-95a2-2d0db3792db2",
   "metadata": {},
   "outputs": [],
   "source": [
    "from sklearn.feature_extraction.text import TfidfVectorizer"
   ]
  },
  {
   "cell_type": "code",
   "execution_count": 102,
   "id": "2fb9990a-e937-4a90-9a5e-ba7d2620d8b3",
   "metadata": {},
   "outputs": [],
   "source": [
    "tf = TfidfVectorizer()"
   ]
  },
  {
   "cell_type": "code",
   "execution_count": 104,
   "id": "c473adf0-fcdb-4097-9ecb-9744ab426b5a",
   "metadata": {},
   "outputs": [],
   "source": [
    "x=tf.fit_transform(d.company_public_response)"
   ]
  },
  {
   "cell_type": "code",
   "execution_count": 107,
   "id": "2a33368e-ad43-4895-a953-3a87194ae0b1",
   "metadata": {},
   "outputs": [],
   "source": [
    "data = x.toarray()"
   ]
  },
  {
   "cell_type": "code",
   "execution_count": 26,
   "id": "045685a6-b8bf-470e-84e1-8963955ef026",
   "metadata": {},
   "outputs": [],
   "source": [
    "from sklearn.ensemble import RandomForestClassifier"
   ]
  },
  {
   "cell_type": "code",
   "execution_count": 111,
   "id": "045421bc-d87c-41b9-b8ce-a2198ebc0f9b",
   "metadata": {},
   "outputs": [],
   "source": [
    "rfc = RandomForestClassifier()"
   ]
  },
  {
   "cell_type": "code",
   "execution_count": 112,
   "id": "d2521189-8fb6-4e74-abed-08010843c5e6",
   "metadata": {},
   "outputs": [
    {
     "data": {
      "text/plain": [
       "array([0, 0, 0, ..., 0, 1, 0])"
      ]
     },
     "execution_count": 112,
     "metadata": {},
     "output_type": "execute_result"
    }
   ],
   "source": [
    "y"
   ]
  },
  {
   "cell_type": "code",
   "execution_count": 113,
   "id": "98236cc4-0287-498c-9e2b-6b00a185a813",
   "metadata": {},
   "outputs": [],
   "source": [
    "X_train, X_test, y_train, y_test = train_test_split(data,y)"
   ]
  },
  {
   "cell_type": "code",
   "execution_count": 114,
   "id": "5312e9ce-e170-4a78-84fc-9e148da8e00a",
   "metadata": {},
   "outputs": [
    {
     "data": {
      "text/html": [
       "<style>#sk-container-id-3 {color: black;background-color: white;}#sk-container-id-3 pre{padding: 0;}#sk-container-id-3 div.sk-toggleable {background-color: white;}#sk-container-id-3 label.sk-toggleable__label {cursor: pointer;display: block;width: 100%;margin-bottom: 0;padding: 0.3em;box-sizing: border-box;text-align: center;}#sk-container-id-3 label.sk-toggleable__label-arrow:before {content: \"▸\";float: left;margin-right: 0.25em;color: #696969;}#sk-container-id-3 label.sk-toggleable__label-arrow:hover:before {color: black;}#sk-container-id-3 div.sk-estimator:hover label.sk-toggleable__label-arrow:before {color: black;}#sk-container-id-3 div.sk-toggleable__content {max-height: 0;max-width: 0;overflow: hidden;text-align: left;background-color: #f0f8ff;}#sk-container-id-3 div.sk-toggleable__content pre {margin: 0.2em;color: black;border-radius: 0.25em;background-color: #f0f8ff;}#sk-container-id-3 input.sk-toggleable__control:checked~div.sk-toggleable__content {max-height: 200px;max-width: 100%;overflow: auto;}#sk-container-id-3 input.sk-toggleable__control:checked~label.sk-toggleable__label-arrow:before {content: \"▾\";}#sk-container-id-3 div.sk-estimator input.sk-toggleable__control:checked~label.sk-toggleable__label {background-color: #d4ebff;}#sk-container-id-3 div.sk-label input.sk-toggleable__control:checked~label.sk-toggleable__label {background-color: #d4ebff;}#sk-container-id-3 input.sk-hidden--visually {border: 0;clip: rect(1px 1px 1px 1px);clip: rect(1px, 1px, 1px, 1px);height: 1px;margin: -1px;overflow: hidden;padding: 0;position: absolute;width: 1px;}#sk-container-id-3 div.sk-estimator {font-family: monospace;background-color: #f0f8ff;border: 1px dotted black;border-radius: 0.25em;box-sizing: border-box;margin-bottom: 0.5em;}#sk-container-id-3 div.sk-estimator:hover {background-color: #d4ebff;}#sk-container-id-3 div.sk-parallel-item::after {content: \"\";width: 100%;border-bottom: 1px solid gray;flex-grow: 1;}#sk-container-id-3 div.sk-label:hover label.sk-toggleable__label {background-color: #d4ebff;}#sk-container-id-3 div.sk-serial::before {content: \"\";position: absolute;border-left: 1px solid gray;box-sizing: border-box;top: 0;bottom: 0;left: 50%;z-index: 0;}#sk-container-id-3 div.sk-serial {display: flex;flex-direction: column;align-items: center;background-color: white;padding-right: 0.2em;padding-left: 0.2em;position: relative;}#sk-container-id-3 div.sk-item {position: relative;z-index: 1;}#sk-container-id-3 div.sk-parallel {display: flex;align-items: stretch;justify-content: center;background-color: white;position: relative;}#sk-container-id-3 div.sk-item::before, #sk-container-id-3 div.sk-parallel-item::before {content: \"\";position: absolute;border-left: 1px solid gray;box-sizing: border-box;top: 0;bottom: 0;left: 50%;z-index: -1;}#sk-container-id-3 div.sk-parallel-item {display: flex;flex-direction: column;z-index: 1;position: relative;background-color: white;}#sk-container-id-3 div.sk-parallel-item:first-child::after {align-self: flex-end;width: 50%;}#sk-container-id-3 div.sk-parallel-item:last-child::after {align-self: flex-start;width: 50%;}#sk-container-id-3 div.sk-parallel-item:only-child::after {width: 0;}#sk-container-id-3 div.sk-dashed-wrapped {border: 1px dashed gray;margin: 0 0.4em 0.5em 0.4em;box-sizing: border-box;padding-bottom: 0.4em;background-color: white;}#sk-container-id-3 div.sk-label label {font-family: monospace;font-weight: bold;display: inline-block;line-height: 1.2em;}#sk-container-id-3 div.sk-label-container {text-align: center;}#sk-container-id-3 div.sk-container {/* jupyter's `normalize.less` sets `[hidden] { display: none; }` but bootstrap.min.css set `[hidden] { display: none !important; }` so we also need the `!important` here to be able to override the default hidden behavior on the sphinx rendered scikit-learn.org. See: https://github.com/scikit-learn/scikit-learn/issues/21755 */display: inline-block !important;position: relative;}#sk-container-id-3 div.sk-text-repr-fallback {display: none;}</style><div id=\"sk-container-id-3\" class=\"sk-top-container\"><div class=\"sk-text-repr-fallback\"><pre>RandomForestClassifier()</pre><b>In a Jupyter environment, please rerun this cell to show the HTML representation or trust the notebook. <br />On GitHub, the HTML representation is unable to render, please try loading this page with nbviewer.org.</b></div><div class=\"sk-container\" hidden><div class=\"sk-item\"><div class=\"sk-estimator sk-toggleable\"><input class=\"sk-toggleable__control sk-hidden--visually\" id=\"sk-estimator-id-3\" type=\"checkbox\" checked><label for=\"sk-estimator-id-3\" class=\"sk-toggleable__label sk-toggleable__label-arrow\">RandomForestClassifier</label><div class=\"sk-toggleable__content\"><pre>RandomForestClassifier()</pre></div></div></div></div></div>"
      ],
      "text/plain": [
       "RandomForestClassifier()"
      ]
     },
     "execution_count": 114,
     "metadata": {},
     "output_type": "execute_result"
    }
   ],
   "source": [
    "rfc.fit(X_train,y_train)"
   ]
  },
  {
   "cell_type": "code",
   "execution_count": null,
   "id": "10ac920f-c9b4-43cc-8197-f5700a98642c",
   "metadata": {},
   "outputs": [],
   "source": []
  },
  {
   "cell_type": "code",
   "execution_count": 115,
   "id": "97e9c96e-8d65-4e21-b10c-fc7376449680",
   "metadata": {},
   "outputs": [],
   "source": [
    "yhat_train = rfc.predict(X_train)\n",
    "yhat_test = rfc.predict(X_test)"
   ]
  },
  {
   "cell_type": "code",
   "execution_count": 116,
   "id": "3b0722dd-51d3-47d2-bb41-91ca887be34c",
   "metadata": {},
   "outputs": [
    {
     "data": {
      "text/plain": [
       "0.6587785655822808"
      ]
     },
     "execution_count": 116,
     "metadata": {},
     "output_type": "execute_result"
    }
   ],
   "source": [
    "f1_score(y_train,yhat_train,average=\"weighted\")"
   ]
  },
  {
   "cell_type": "code",
   "execution_count": 117,
   "id": "d59abe16-5722-4709-8310-404bd15c1286",
   "metadata": {},
   "outputs": [
    {
     "data": {
      "text/plain": [
       "0.6598380437969992"
      ]
     },
     "execution_count": 117,
     "metadata": {},
     "output_type": "execute_result"
    }
   ],
   "source": [
    "f1_score(y_test,yhat_test,average=\"weighted\")"
   ]
  },
  {
   "cell_type": "code",
   "execution_count": 118,
   "id": "10b394e1-0b87-4a75-a59d-316c060412b4",
   "metadata": {},
   "outputs": [
    {
     "data": {
      "text/plain": [
       "0.7514145242803779"
      ]
     },
     "execution_count": 118,
     "metadata": {},
     "output_type": "execute_result"
    }
   ],
   "source": [
    "recall_score(y_train,yhat_train,average=\"weighted\")"
   ]
  },
  {
   "cell_type": "code",
   "execution_count": 119,
   "id": "75c8d510-066c-427c-af35-ce367997feef",
   "metadata": {},
   "outputs": [
    {
     "data": {
      "text/plain": [
       "0.7523621182157767"
      ]
     },
     "execution_count": 119,
     "metadata": {},
     "output_type": "execute_result"
    }
   ],
   "source": [
    "recall_score(y_test,yhat_test,average=\"weighted\")"
   ]
  },
  {
   "cell_type": "code",
   "execution_count": 122,
   "id": "9bed0459-ef78-42e5-b94e-68912e5bb5ce",
   "metadata": {},
   "outputs": [
    {
     "data": {
      "text/html": [
       "<div>\n",
       "<style scoped>\n",
       "    .dataframe tbody tr th:only-of-type {\n",
       "        vertical-align: middle;\n",
       "    }\n",
       "\n",
       "    .dataframe tbody tr th {\n",
       "        vertical-align: top;\n",
       "    }\n",
       "\n",
       "    .dataframe thead th {\n",
       "        text-align: right;\n",
       "    }\n",
       "</style>\n",
       "<table border=\"1\" class=\"dataframe\">\n",
       "  <thead>\n",
       "    <tr style=\"text-align: right;\">\n",
       "      <th></th>\n",
       "      <th>company_response</th>\n",
       "    </tr>\n",
       "  </thead>\n",
       "  <tbody>\n",
       "    <tr>\n",
       "      <th>Closed with explanation</th>\n",
       "      <td>228736</td>\n",
       "    </tr>\n",
       "    <tr>\n",
       "      <th>Closed with non-monetary relief</th>\n",
       "      <td>40445</td>\n",
       "    </tr>\n",
       "    <tr>\n",
       "      <th>Closed with monetary relief</th>\n",
       "      <td>11829</td>\n",
       "    </tr>\n",
       "    <tr>\n",
       "      <th>In progress</th>\n",
       "      <td>5200</td>\n",
       "    </tr>\n",
       "    <tr>\n",
       "      <th>Closed without relief</th>\n",
       "      <td>1840</td>\n",
       "    </tr>\n",
       "    <tr>\n",
       "      <th>Closed</th>\n",
       "      <td>1716</td>\n",
       "    </tr>\n",
       "    <tr>\n",
       "      <th>Untimely response</th>\n",
       "      <td>960</td>\n",
       "    </tr>\n",
       "    <tr>\n",
       "      <th>Closed with relief</th>\n",
       "      <td>538</td>\n",
       "    </tr>\n",
       "  </tbody>\n",
       "</table>\n",
       "</div>"
      ],
      "text/plain": [
       "                                 company_response\n",
       "Closed with explanation                    228736\n",
       "Closed with non-monetary relief             40445\n",
       "Closed with monetary relief                 11829\n",
       "In progress                                  5200\n",
       "Closed without relief                        1840\n",
       "Closed                                       1716\n",
       "Untimely response                             960\n",
       "Closed with relief                            538"
      ]
     },
     "execution_count": 122,
     "metadata": {},
     "output_type": "execute_result"
    }
   ],
   "source": [
    "pd.DataFrame(pdf.company_response.value_counts())"
   ]
  },
  {
   "cell_type": "code",
   "execution_count": 23,
   "id": "e3fe9764-4c77-428e-b1ca-5965d2a5f5d9",
   "metadata": {},
   "outputs": [],
   "source": [
    "from sklearn.metrics import precision_score"
   ]
  },
  {
   "cell_type": "code",
   "execution_count": 39,
   "id": "7d3725d1-5999-4c80-9f75-2672c3818502",
   "metadata": {},
   "outputs": [],
   "source": [
    "def test_feature(df,input_column,output_column=\"consumer_disputed\"):\n",
    "    x = df[[input_column]]\n",
    "    ohe = OneHotEncoder()\n",
    "    x=ohe.fit_transform(x)\n",
    "    x=x.toarray()\n",
    "    lb = LabelEncoder()\n",
    "    y = lb.fit_transform(df[output_column])\n",
    "    \n",
    "    X_train, X_test, y_train, y_test = train_test_split(x,y)\n",
    "    rfc = RandomForestClassifier()\n",
    "    rfc.fit(X_train,y_train)\n",
    "    yhat_train = rfc.predict(X_train)\n",
    "    yhat_test = rfc.predict(X_test)\n",
    "    fi_score_train = f1_score(y_train,yhat_train,average=\"weighted\")\n",
    "    print(f\"f1 train score: {fi_score_train}\")\n",
    "    test_score = f1_score(y_test,yhat_test,average=\"weighted\")\n",
    "    print(f\"f1 test score: {test_score}\")\n",
    "    rs = recall_score(y_train,yhat_train,average=\"weighted\")\n",
    "    print(f\"recall train score: {rs}\")\n",
    "    recall_score(y_train,yhat_train,average=\"weighted\")\n",
    "    print(f\"recall test score: {rs}\")\n",
    "    rs = precision_score(y_train,yhat_train,average=\"weighted\")\n",
    "    print(f\"precision train score: {rs}\")\n",
    "    rs = precision_score(y_train,yhat_train,average=\"weighted\")\n",
    "    print(f\"precision test score: {rs}\")\n"
   ]
  },
  {
   "cell_type": "code",
   "execution_count": 131,
   "id": "ed6871ad-aefa-45a3-b2d6-869118c11b43",
   "metadata": {},
   "outputs": [
    {
     "name": "stdout",
     "output_type": "stream",
     "text": [
      "f1 train score: 0.6496484952427628\n",
      "f1 test score: 0.6538442940695111\n",
      "recall train score: 0.7469145975243536\n",
      "recall test score: 0.7469145975243536\n",
      "precision train score: 0.713972878294822\n",
      "precision test score: 0.713972878294822\n"
     ]
    },
    {
     "name": "stderr",
     "output_type": "stream",
     "text": [
      "/home/avnish/iNeuron_Private_Intelligence_Limited/industry_ready_project/finance_complaint/venv/lib/python3.8/site-packages/sklearn/metrics/_classification.py:1334: UndefinedMetricWarning: Precision is ill-defined and being set to 0.0 in labels with no predicted samples. Use `zero_division` parameter to control this behavior.\n",
      "  _warn_prf(average, modifier, msg_start, len(result))\n",
      "/home/avnish/iNeuron_Private_Intelligence_Limited/industry_ready_project/finance_complaint/venv/lib/python3.8/site-packages/sklearn/metrics/_classification.py:1334: UndefinedMetricWarning: Precision is ill-defined and being set to 0.0 in labels with no predicted samples. Use `zero_division` parameter to control this behavior.\n",
      "  _warn_prf(average, modifier, msg_start, len(result))\n"
     ]
    }
   ],
   "source": [
    "test_feature(pdf,'company_response','consumer_disputed')"
   ]
  },
  {
   "cell_type": "code",
   "execution_count": null,
   "id": "42e3d48d-5d97-40ea-925f-3eb6ef22abad",
   "metadata": {},
   "outputs": [],
   "source": [
    "\n"
   ]
  },
  {
   "cell_type": "code",
   "execution_count": 37,
   "id": "9577309b-232f-4eeb-a7c8-136bfb740421",
   "metadata": {},
   "outputs": [],
   "source": [
    "drop=[\"complaint_what_happened\",\"timely\"]"
   ]
  },
  {
   "cell_type": "code",
   "execution_count": 22,
   "id": "d48dc0be-1a2e-47ac-8703-ba1b8471bdc5",
   "metadata": {},
   "outputs": [],
   "source": [
    "def test_feature_tfid(df,input_column,output_column=\"consumer_disputed\"):\n",
    "    x = df[[input_column]]\n",
    "    print(x.shape)\n",
    "    tf = TfidfVectorizer()\n",
    "    x=tf.fit_transform(x[input_column])\n",
    "    x=x.toarray()\n",
    "    lb = LabelEncoder()\n",
    "    y = lb.fit_transform(df[output_column])\n",
    "    print(y.shape)\n",
    "    print(x.shape,y.shape)\n",
    "    X_train, X_test, y_train, y_test = train_test_split(x,y)\n",
    "    rfc = RandomForestClassifier()\n",
    "    rfc.fit(X_train,y_train)\n",
    "    yhat_train = rfc.predict(X_train)\n",
    "    yhat_test = rfc.predict(X_test)\n",
    "    fi_score_train = f1_score(y_train,yhat_train,average=\"weighted\")\n",
    "    print(f\"f1 train score: {fi_score_train}\")\n",
    "    test_score = f1_score(y_test,yhat_test,average=\"weighted\")\n",
    "    print(f\"f1 test score: {test_score}\")\n",
    "    rs = recall_score(y_train,yhat_train,average=\"weighted\")\n",
    "    print(f\"recall train score: {rs}\")\n",
    "    recall_score(y_train,yhat_train,average=\"weighted\")\n",
    "    print(f\"recall test score: {rs}\")\n",
    "    rs = precision_score(y_train,yhat_train,average=\"weighted\")\n",
    "    print(f\"precision train score: {rs}\")\n",
    "    rs = precision_score(y_train,yhat_train,average=\"weighted\")\n",
    "    print(f\"precision test score: {rs}\")\n"
   ]
  },
  {
   "cell_type": "code",
   "execution_count": 153,
   "id": "cf11ab01-d4e1-4593-be6f-2da6f0199d6c",
   "metadata": {},
   "outputs": [
    {
     "data": {
      "text/plain": [
       "Index(['consumer_consent_provided', 'company_public_response',\n",
       "       'complaint_what_happened', 'company_response',\n",
       "       'company_public_response', 'issue', 'timely', 'tags', 'submitted_via',\n",
       "       'consumer_disputed'],\n",
       "      dtype='object')"
      ]
     },
     "execution_count": 153,
     "metadata": {},
     "output_type": "execute_result"
    }
   ],
   "source": [
    "pdf.columns"
   ]
  },
  {
   "cell_type": "code",
   "execution_count": 154,
   "id": "bbee1677-e9ac-4b89-9626-e9a915c0b184",
   "metadata": {},
   "outputs": [
    {
     "name": "stdout",
     "output_type": "stream",
     "text": [
      "(291264, 1)\n",
      "(291264,)\n",
      "(291264, 238) (291264,)\n",
      "f1 train score: 0.9108372995447654\n",
      "f1 test score: 0.9125899598882266\n",
      "recall train score: 0.933251849410386\n",
      "recall test score: 0.933251849410386\n",
      "precision train score: 0.9419461712530541\n",
      "precision test score: 0.9419461712530541\n"
     ]
    }
   ],
   "source": [
    "test_feature_tfid(pdf,'issue')"
   ]
  },
  {
   "cell_type": "code",
   "execution_count": 43,
   "id": "de3b6225-fe06-440a-9a08-01dc1fa2a56f",
   "metadata": {},
   "outputs": [
    {
     "data": {
      "text/plain": [
       "0         Advertising and marketing, including promotion...\n",
       "1         Advertising and marketing, including promotion...\n",
       "2         Applying for a mortgage or refinancing an exis...\n",
       "3         Applying for a mortgage or refinancing an exis...\n",
       "4         Applying for a mortgage or refinancing an exis...\n",
       "                                ...                        \n",
       "290204                 Incorrect information on your report\n",
       "290205                 Incorrect information on your report\n",
       "290206              Account opening, closing, or management\n",
       "290207                 Incorrect information on your report\n",
       "290208                 Incorrect information on your report\n",
       "Name: issue, Length: 290209, dtype: object"
      ]
     },
     "execution_count": 43,
     "metadata": {},
     "output_type": "execute_result"
    }
   ],
   "source": []
  },
  {
   "cell_type": "code",
   "execution_count": null,
   "id": "536c385e-83fa-494e-967c-4d87dcfdb93a",
   "metadata": {},
   "outputs": [],
   "source": []
  },
  {
   "cell_type": "code",
   "execution_count": null,
   "id": "3496fcb3-3e24-49ee-8726-54c5410aa001",
   "metadata": {},
   "outputs": [
    {
     "name": "stdout",
     "output_type": "stream",
     "text": [
      "(291264, 1)\n"
     ]
    }
   ],
   "source": [
    "test_feature_tfid(pdf,'complaint_what_happened')"
   ]
  },
  {
   "cell_type": "code",
   "execution_count": 19,
   "id": "708b4e78-a9ca-478f-921f-8b99aa449002",
   "metadata": {},
   "outputs": [
    {
     "data": {
      "text/plain": [
       "Index(['consumer_consent_provided', 'company_public_response',\n",
       "       'complaint_what_happened', 'company_response',\n",
       "       'company_public_response', 'issue', 'timely', 'tags', 'submitted_via',\n",
       "       'consumer_disputed'],\n",
       "      dtype='object')"
      ]
     },
     "execution_count": 19,
     "metadata": {},
     "output_type": "execute_result"
    }
   ],
   "source": [
    "pdf.columns"
   ]
  },
  {
   "cell_type": "code",
   "execution_count": 35,
   "id": "184617c1-e50b-40da-9ca0-4369302b3185",
   "metadata": {},
   "outputs": [],
   "source": [
    "from sklearn.model_selection import train_test_split"
   ]
  },
  {
   "cell_type": "code",
   "execution_count": null,
   "id": "e72ee41a-f3d1-484a-82d8-8eb087f42fd9",
   "metadata": {},
   "outputs": [],
   "source": []
  },
  {
   "cell_type": "code",
   "execution_count": 36,
   "id": "20eb7e09-2c6a-4eb5-9ca8-a07f318b375e",
   "metadata": {},
   "outputs": [
    {
     "name": "stdout",
     "output_type": "stream",
     "text": [
      "(290209, 1)\n",
      "(290209,)\n",
      "(290209, 2) (290209,)\n",
      "f1 train score: 0.6226692722998821\n",
      "f1 test score: 0.6246814956453622\n",
      "recall train score: 0.734948726430698\n",
      "recall test score: 0.734948726430698\n",
      "precision train score: 0.540149630482105\n",
      "precision test score: 0.540149630482105\n"
     ]
    },
    {
     "name": "stderr",
     "output_type": "stream",
     "text": [
      "/home/avnish/iNeuron_Private_Intelligence_Limited/industry_ready_project/finance_complaint/venv/lib/python3.8/site-packages/sklearn/metrics/_classification.py:1334: UndefinedMetricWarning: Precision is ill-defined and being set to 0.0 in labels with no predicted samples. Use `zero_division` parameter to control this behavior.\n",
      "  _warn_prf(average, modifier, msg_start, len(result))\n",
      "/home/avnish/iNeuron_Private_Intelligence_Limited/industry_ready_project/finance_complaint/venv/lib/python3.8/site-packages/sklearn/metrics/_classification.py:1334: UndefinedMetricWarning: Precision is ill-defined and being set to 0.0 in labels with no predicted samples. Use `zero_division` parameter to control this behavior.\n",
      "  _warn_prf(average, modifier, msg_start, len(result))\n"
     ]
    }
   ],
   "source": [
    "test_feature_tfid(pdf,'timely')"
   ]
  },
  {
   "cell_type": "code",
   "execution_count": 38,
   "id": "b05f0af1-895a-40c6-8204-af4ed82ecaae",
   "metadata": {},
   "outputs": [
    {
     "name": "stdout",
     "output_type": "stream",
     "text": [
      "(290209, 1)\n",
      "(290209,)\n",
      "(290209, 3) (290209,)\n",
      "f1 train score: 0.6237985879088424\n",
      "f1 test score: 0.6212939549306051\n",
      "recall train score: 0.7357940971073621\n",
      "recall test score: 0.7357940971073621\n",
      "precision train score: 0.5413929533380382\n",
      "precision test score: 0.5413929533380382\n"
     ]
    },
    {
     "name": "stderr",
     "output_type": "stream",
     "text": [
      "/home/avnish/iNeuron_Private_Intelligence_Limited/industry_ready_project/finance_complaint/venv/lib/python3.8/site-packages/sklearn/metrics/_classification.py:1334: UndefinedMetricWarning: Precision is ill-defined and being set to 0.0 in labels with no predicted samples. Use `zero_division` parameter to control this behavior.\n",
      "  _warn_prf(average, modifier, msg_start, len(result))\n",
      "/home/avnish/iNeuron_Private_Intelligence_Limited/industry_ready_project/finance_complaint/venv/lib/python3.8/site-packages/sklearn/metrics/_classification.py:1334: UndefinedMetricWarning: Precision is ill-defined and being set to 0.0 in labels with no predicted samples. Use `zero_division` parameter to control this behavior.\n",
      "  _warn_prf(average, modifier, msg_start, len(result))\n"
     ]
    }
   ],
   "source": [
    "test_feature_tfid(pdf,'tags')"
   ]
  },
  {
   "cell_type": "code",
   "execution_count": 40,
   "id": "080428ad-65d7-4b38-b325-161c3c65f48a",
   "metadata": {},
   "outputs": [
    {
     "name": "stdout",
     "output_type": "stream",
     "text": [
      "f1 train score: 0.6240625828791486\n",
      "f1 test score: 0.6205030120200608\n",
      "recall train score: 0.7359916565589738\n",
      "recall test score: 0.7359916565589738\n",
      "precision train score: 0.5416837185244224\n",
      "precision test score: 0.5416837185244224\n"
     ]
    },
    {
     "name": "stderr",
     "output_type": "stream",
     "text": [
      "/home/avnish/iNeuron_Private_Intelligence_Limited/industry_ready_project/finance_complaint/venv/lib/python3.8/site-packages/sklearn/metrics/_classification.py:1334: UndefinedMetricWarning: Precision is ill-defined and being set to 0.0 in labels with no predicted samples. Use `zero_division` parameter to control this behavior.\n",
      "  _warn_prf(average, modifier, msg_start, len(result))\n",
      "/home/avnish/iNeuron_Private_Intelligence_Limited/industry_ready_project/finance_complaint/venv/lib/python3.8/site-packages/sklearn/metrics/_classification.py:1334: UndefinedMetricWarning: Precision is ill-defined and being set to 0.0 in labels with no predicted samples. Use `zero_division` parameter to control this behavior.\n",
      "  _warn_prf(average, modifier, msg_start, len(result))\n"
     ]
    }
   ],
   "source": [
    "test_feature(pdf,'tags')"
   ]
  },
  {
   "cell_type": "code",
   "execution_count": 44,
   "id": "dca83c59-38ef-4ec2-8c5f-38f310374e75",
   "metadata": {},
   "outputs": [
    {
     "name": "stdout",
     "output_type": "stream",
     "text": [
      "f1 train score: 0.6919492959412933\n",
      "f1 test score: 0.6972809082137885\n",
      "recall train score: 0.7404757966699747\n",
      "recall test score: 0.7404757966699747\n",
      "precision train score: 0.6709008659038586\n",
      "precision test score: 0.6709008659038586\n"
     ]
    },
    {
     "name": "stderr",
     "output_type": "stream",
     "text": [
      "/home/avnish/iNeuron_Private_Intelligence_Limited/industry_ready_project/finance_complaint/venv/lib/python3.8/site-packages/sklearn/metrics/_classification.py:1334: UndefinedMetricWarning: Precision is ill-defined and being set to 0.0 in labels with no predicted samples. Use `zero_division` parameter to control this behavior.\n",
      "  _warn_prf(average, modifier, msg_start, len(result))\n",
      "/home/avnish/iNeuron_Private_Intelligence_Limited/industry_ready_project/finance_complaint/venv/lib/python3.8/site-packages/sklearn/metrics/_classification.py:1334: UndefinedMetricWarning: Precision is ill-defined and being set to 0.0 in labels with no predicted samples. Use `zero_division` parameter to control this behavior.\n",
      "  _warn_prf(average, modifier, msg_start, len(result))\n"
     ]
    }
   ],
   "source": [
    "test_feature(pdf,'submitted_via')"
   ]
  },
  {
   "cell_type": "code",
   "execution_count": null,
   "id": "0d02cf7e-5c0b-48f1-a02c-8f7f3e761e7b",
   "metadata": {},
   "outputs": [],
   "source": []
  },
  {
   "cell_type": "code",
   "execution_count": null,
   "id": "3acd4aa5-eeb5-4fb3-9472-3477f18e4afc",
   "metadata": {},
   "outputs": [],
   "source": [
    "consumer_consent_provided: ONEHOT,\n",
    "COMPANY_PUBLIC_RESPONSE = TFIDF\n",
    "company_response=ONE_HOT\n",
    "issue=TFIDF"
   ]
  },
  {
   "cell_type": "code",
   "execution_count": 13,
   "id": "c3239bf8-78de-4e9d-91e9-2ae02906df83",
   "metadata": {},
   "outputs": [],
   "source": [
    "from pyspark.ml.feature import Tokenizer"
   ]
  },
  {
   "cell_type": "code",
   "execution_count": 14,
   "id": "aaa1c510-ff53-44c0-839e-41e10c900ee1",
   "metadata": {},
   "outputs": [],
   "source": [
    "from pyspark.mllib.feature import Word2Vec"
   ]
  },
  {
   "cell_type": "code",
   "execution_count": 15,
   "id": "2f00fb55-7004-48e7-b241-c5b08bd955d6",
   "metadata": {},
   "outputs": [],
   "source": [
    "word2vec = Word2Vec()"
   ]
  },
  {
   "cell_type": "code",
   "execution_count": 18,
   "id": "5178e106-6d4c-40ac-9ccf-ce27f9236190",
   "metadata": {},
   "outputs": [
    {
     "data": {
      "text/plain": [
       "MapPartitionsRDD[36] at javaToPython at NativeMethodAccessorImpl.java:0"
      ]
     },
     "execution_count": 18,
     "metadata": {},
     "output_type": "execute_result"
    }
   ],
   "source": []
  },
  {
   "cell_type": "code",
   "execution_count": 19,
   "id": "5d2526fd-ab0c-49b9-ac2b-c38c0c86322c",
   "metadata": {},
   "outputs": [
    {
     "name": "stderr",
     "output_type": "stream",
     "text": [
      "                                                                                \r"
     ]
    },
    {
     "ename": "TypeError",
     "evalue": "data should be an RDD of list of string",
     "output_type": "error",
     "traceback": [
      "\u001b[0;31m---------------------------------------------------------------------------\u001b[0m",
      "\u001b[0;31mTypeError\u001b[0m                                 Traceback (most recent call last)",
      "Input \u001b[0;32mIn [19]\u001b[0m, in \u001b[0;36m<cell line: 1>\u001b[0;34m()\u001b[0m\n\u001b[0;32m----> 1\u001b[0m \u001b[43mword2vec\u001b[49m\u001b[38;5;241;43m.\u001b[39;49m\u001b[43mfit\u001b[49m\u001b[43m(\u001b[49m\u001b[43mdf\u001b[49m\u001b[38;5;241;43m.\u001b[39;49m\u001b[43mselect\u001b[49m\u001b[43m(\u001b[49m\u001b[43mcol\u001b[49m\u001b[43m(\u001b[49m\u001b[43mdf\u001b[49m\u001b[38;5;241;43m.\u001b[39;49m\u001b[43missue\u001b[49m\u001b[43m)\u001b[49m\u001b[43m)\u001b[49m\u001b[38;5;241;43m.\u001b[39;49m\u001b[43mrdd\u001b[49m\u001b[38;5;241;43m.\u001b[39;49m\u001b[43mcollect\u001b[49m\u001b[43m(\u001b[49m\u001b[43m)\u001b[49m\u001b[43m)\u001b[49m\n",
      "File \u001b[0;32m~/iNeuron_Private_Intelligence_Limited/industry_ready_project/finance_complaint/venv/lib/python3.8/site-packages/pyspark/mllib/feature.py:895\u001b[0m, in \u001b[0;36mWord2Vec.fit\u001b[0;34m(self, data)\u001b[0m\n\u001b[1;32m    880\u001b[0m \u001b[38;5;124;03m\"\"\"\u001b[39;00m\n\u001b[1;32m    881\u001b[0m \u001b[38;5;124;03mComputes the vector representation of each word in vocabulary.\u001b[39;00m\n\u001b[1;32m    882\u001b[0m \n\u001b[0;32m   (...)\u001b[0m\n\u001b[1;32m    892\u001b[0m \u001b[38;5;124;03m:py:class:`Word2VecModel`\u001b[39;00m\n\u001b[1;32m    893\u001b[0m \u001b[38;5;124;03m\"\"\"\u001b[39;00m\n\u001b[1;32m    894\u001b[0m \u001b[38;5;28;01mif\u001b[39;00m \u001b[38;5;129;01mnot\u001b[39;00m \u001b[38;5;28misinstance\u001b[39m(data, RDD):\n\u001b[0;32m--> 895\u001b[0m     \u001b[38;5;28;01mraise\u001b[39;00m \u001b[38;5;167;01mTypeError\u001b[39;00m(\u001b[38;5;124m\"\u001b[39m\u001b[38;5;124mdata should be an RDD of list of string\u001b[39m\u001b[38;5;124m\"\u001b[39m)\n\u001b[1;32m    896\u001b[0m jmodel \u001b[38;5;241m=\u001b[39m callMLlibFunc(\u001b[38;5;124m\"\u001b[39m\u001b[38;5;124mtrainWord2VecModel\u001b[39m\u001b[38;5;124m\"\u001b[39m, data, \u001b[38;5;28mint\u001b[39m(\u001b[38;5;28mself\u001b[39m\u001b[38;5;241m.\u001b[39mvectorSize),\n\u001b[1;32m    897\u001b[0m                        \u001b[38;5;28mfloat\u001b[39m(\u001b[38;5;28mself\u001b[39m\u001b[38;5;241m.\u001b[39mlearningRate), \u001b[38;5;28mint\u001b[39m(\u001b[38;5;28mself\u001b[39m\u001b[38;5;241m.\u001b[39mnumPartitions),\n\u001b[1;32m    898\u001b[0m                        \u001b[38;5;28mint\u001b[39m(\u001b[38;5;28mself\u001b[39m\u001b[38;5;241m.\u001b[39mnumIterations), \u001b[38;5;28mself\u001b[39m\u001b[38;5;241m.\u001b[39mseed,\n\u001b[1;32m    899\u001b[0m                        \u001b[38;5;28mint\u001b[39m(\u001b[38;5;28mself\u001b[39m\u001b[38;5;241m.\u001b[39mminCount), \u001b[38;5;28mint\u001b[39m(\u001b[38;5;28mself\u001b[39m\u001b[38;5;241m.\u001b[39mwindowSize))\n\u001b[1;32m    900\u001b[0m \u001b[38;5;28;01mreturn\u001b[39;00m Word2VecModel(jmodel)\n",
      "\u001b[0;31mTypeError\u001b[0m: data should be an RDD of list of string"
     ]
    }
   ],
   "source": [
    "word2vec.fit(df.select(col(df.issue)).rdd.collect())"
   ]
  },
  {
   "cell_type": "code",
   "execution_count": 24,
   "id": "f5d25937-fb1d-44cb-9376-8aaa7c585e8b",
   "metadata": {},
   "outputs": [],
   "source": [
    "from pyspark.mllib.feature import HashingTF, IDF\n",
    "hashingTF = HashingTF()\n",
    "tf = hashingTF.transform(df[[df.issue]].rdd)"
   ]
  },
  {
   "cell_type": "code",
   "execution_count": 27,
   "id": "54c52546-f134-4a7c-b4a2-00ba9cbfdcea",
   "metadata": {},
   "outputs": [
    {
     "data": {
      "text/plain": [
       "PythonRDD[49] at RDD at PythonRDD.scala:53"
      ]
     },
     "execution_count": 27,
     "metadata": {},
     "output_type": "execute_result"
    }
   ],
   "source": [
    "tf.cache()"
   ]
  },
  {
   "cell_type": "code",
   "execution_count": 28,
   "id": "dfb2dd56-feaa-4d41-b10d-797928a4165c",
   "metadata": {},
   "outputs": [
    {
     "name": "stderr",
     "output_type": "stream",
     "text": [
      "                                                                                \r"
     ]
    }
   ],
   "source": [
    "idf = IDF().fit(tf)\n",
    "tfidf = idf.transform(tf)"
   ]
  },
  {
   "cell_type": "code",
   "execution_count": 30,
   "id": "5838ecea-2f79-477a-baf4-48457bf935f7",
   "metadata": {},
   "outputs": [
    {
     "name": "stderr",
     "output_type": "stream",
     "text": [
      "                                                                                \r"
     ]
    },
    {
     "data": {
      "text/plain": [
       "[SparseVector(1048576, {670126: 1.4122})]"
      ]
     },
     "execution_count": 30,
     "metadata": {},
     "output_type": "execute_result"
    }
   ],
   "source": [
    "tfidf.take(1)"
   ]
  },
  {
   "cell_type": "code",
   "execution_count": null,
   "id": "1c1d96ba-b664-46ce-ac51-740f5e998701",
   "metadata": {},
   "outputs": [],
   "source": []
  }
 ],
 "metadata": {
  "kernelspec": {
   "display_name": "Python 3 (ipykernel)",
   "language": "python",
   "name": "python3"
  },
  "language_info": {
   "codemirror_mode": {
    "name": "ipython",
    "version": 3
   },
   "file_extension": ".py",
   "mimetype": "text/x-python",
   "name": "python",
   "nbconvert_exporter": "python",
   "pygments_lexer": "ipython3",
   "version": "3.8.0"
  },
  "vscode": {
   "interpreter": {
    "hash": "dd81b26a3f4d6d1a433ea9248045dda92f23e31ca9220f7edefd5d65fdcec307"
   }
  }
 },
 "nbformat": 4,
 "nbformat_minor": 5
}
