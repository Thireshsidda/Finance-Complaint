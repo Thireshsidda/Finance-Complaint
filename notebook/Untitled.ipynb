{
 "cells": [
  {
   "cell_type": "code",
   "execution_count": 1,
   "id": "02c50dc0-492b-4638-8c8b-43c70c7db2ea",
   "metadata": {},
   "outputs": [],
   "source": [
    "from pyspark.sql import SparkSession"
   ]
  },
  {
   "cell_type": "code",
   "execution_count": null,
   "id": "7ad970e7-41d4-478f-8f73-1bade25c3e1b",
   "metadata": {},
   "outputs": [
    {
     "name": "stderr",
     "output_type": "stream",
     "text": [
      "22/09/04 16:03:51 WARN Utils: Your hostname, avnish-yadav resolves to a loopback address: 127.0.1.1; using 192.168.1.42 instead (on interface wlo1)\n",
      "22/09/04 16:03:51 WARN Utils: Set SPARK_LOCAL_IP if you need to bind to another address\n",
      "Using Spark's default log4j profile: org/apache/spark/log4j-defaults.properties\n",
      "Setting default log level to \"WARN\".\n",
      "To adjust logging level use sc.setLogLevel(newLevel). For SparkR, use setLogLevel(newLevel).\n",
      "22/09/04 16:03:52 WARN NativeCodeLoader: Unable to load native-hadoop library for your platform... using builtin-java classes where applicable\n"
     ]
    }
   ],
   "source": [
    "spark = SparkSession.builder.master('local[*]').appName('finance_complaint').config('spark.executor.memory', '6g').getOrCreate()"
   ]
  },
  {
   "cell_type": "code",
   "execution_count": null,
   "id": "eb1b7185-ab32-4be7-8fbc-e2d9a09865a5",
   "metadata": {},
   "outputs": [],
   "source": [
    "data_dir=\"finance_artifact/data_ingestion/20220904_124817/data_dir\""
   ]
  },
  {
   "cell_type": "code",
   "execution_count": null,
   "id": "5630eb39-a348-4056-9ed0-2cd4571e2c7d",
   "metadata": {},
   "outputs": [],
   "source": []
  },
  {
   "cell_type": "code",
   "execution_count": 2,
   "id": "df8a0363-a37a-480e-a59b-9dfab8ba8ef6",
   "metadata": {},
   "outputs": [
    {
     "name": "stderr",
     "output_type": "stream",
     "text": [
      "22/09/04 16:48:31 WARN Utils: Your hostname, avnish-yadav resolves to a loopback address: 127.0.1.1; using 192.168.1.42 instead (on interface wlo1)\n",
      "22/09/04 16:48:31 WARN Utils: Set SPARK_LOCAL_IP if you need to bind to another address\n",
      "Using Spark's default log4j profile: org/apache/spark/log4j-defaults.properties\n",
      "Setting default log level to \"WARN\".\n",
      "To adjust logging level use sc.setLogLevel(newLevel). For SparkR, use setLogLevel(newLevel).\n",
      "22/09/04 16:48:32 WARN NativeCodeLoader: Unable to load native-hadoop library for your platform... using builtin-java classes where applicable\n"
     ]
    }
   ],
   "source": [
    "spark = SparkSession.builder.master('local[*]').appName('finance_complaint')\\\n",
    ".config(\"spark.executor.instances\", \"1\")\\\n",
    ".config(\"spark.executor.memory\", \"6g\")\\\n",
    ".config(\"spark.driver.memory\", \"6g\")\\\n",
    ".config(\"spark.executor.memoryOverhead\", \"8g\")\\\n",
    ".getOrCreate()"
   ]
  },
  {
   "cell_type": "code",
   "execution_count": 3,
   "id": "957ed6ed-364f-4a09-b4ca-02c10f622d17",
   "metadata": {},
   "outputs": [
    {
     "data": {
      "text/plain": [
       "[('spark.driver.port', '40495'),\n",
       " ('spark.sql.warehouse.dir',\n",
       "  'file:/home/avnish/iNeuron_Private_Intelligence_Limited/industry_ready_project/finance_complaint/finance_artifact/data_ingestion/20220904_124817/spark-warehouse'),\n",
       " ('spark.app.id', 'local-1662287639430'),\n",
       " ('spark.driver.host', 'mongoexpress.com'),\n",
       " ('spark.executor.id', 'driver'),\n",
       " ('spark.app.startTime', '1662287638768'),\n",
       " ('spark.executor.memory', '6g'),\n",
       " ('spark.app.name', 'finance_complaint'),\n",
       " ('spark.executor.memoryOverhead', '8g'),\n",
       " ('spark.driver.memory', '6g'),\n",
       " ('spark.rdd.compress', 'True'),\n",
       " ('spark.serializer.objectStreamReset', '100'),\n",
       " ('spark.executor.instances', '1'),\n",
       " ('spark.master', 'local[*]'),\n",
       " ('spark.submit.pyFiles', ''),\n",
       " ('spark.submit.deployMode', 'client'),\n",
       " ('spark.ui.showConsoleProgress', 'true')]"
      ]
     },
     "execution_count": 3,
     "metadata": {},
     "output_type": "execute_result"
    }
   ],
   "source": [
    "spark.sparkContext._conf.getAll()"
   ]
  },
  {
   "cell_type": "code",
   "execution_count": 8,
   "id": "99f91a46-ca50-495b-ad68-5774036be280",
   "metadata": {},
   "outputs": [
    {
     "name": "stderr",
     "output_type": "stream",
     "text": [
      "                                                                                \r"
     ]
    }
   ],
   "source": []
  },
  {
   "cell_type": "code",
   "execution_count": 9,
   "id": "83822767-ae20-4ee4-a569-595c124bd7e3",
   "metadata": {},
   "outputs": [
    {
     "name": "stdout",
     "output_type": "stream",
     "text": [
      "+--------------------+-----------------------+--------------------+------------+-----------------------+-------------------------+-----------------+--------------------+--------------------+--------------------+--------+-----+---------+--------------------+-------------+----+------+--------+\n",
      "|             company|company_public_response|    company_response|complaint_id|complaint_what_happened|consumer_consent_provided|consumer_disputed|       date_received|date_sent_to_company|               issue| product|state|sub_issue|         sub_product|submitted_via|tags|timely|zip_code|\n",
      "+--------------------+-----------------------+--------------------+------------+-----------------------+-------------------------+-----------------+--------------------+--------------------+--------------------+--------+-----+---------+--------------------+-------------+----+------+--------+\n",
      "|Ocwen Financial C...|                   null|Closed without re...|       54577|                       |                      N/A|               No|2012-05-10T12:00:...|2012-05-14T12:00:...|Loan modification...|Mortgage|   CA|     null|Conventional adju...|  Postal mail|null|   Yes|   92626|\n",
      "+--------------------+-----------------------+--------------------+------------+-----------------------+-------------------------+-----------------+--------------------+--------------------+--------------------+--------+-----+---------+--------------------+-------------+----+------+--------+\n",
      "only showing top 1 row\n",
      "\n"
     ]
    }
   ],
   "source": [
    "df.show(1)"
   ]
  },
  {
   "cell_type": "code",
   "execution_count": 10,
   "id": "77479f39-a9ff-49e1-9552-e24d482c5ea2",
   "metadata": {},
   "outputs": [],
   "source": [
    "import os"
   ]
  },
  {
   "cell_type": "code",
   "execution_count": 11,
   "id": "387a501b-8f2a-4e81-9402-10b0d7724bf2",
   "metadata": {},
   "outputs": [
    {
     "name": "stderr",
     "output_type": "stream",
     "text": [
      "                                                                                \r"
     ]
    }
   ],
   "source": [
    "for file_name in os.listdir(\"downloaded_dir\"):\n",
    "    df = spark.read.json(f'downloaded_dir/{file_name}')\n",
    "    df.write.mode('append').parquet(\"complaint_data\")"
   ]
  },
  {
   "cell_type": "code",
   "execution_count": 12,
   "id": "644f8ad0-726e-49d5-a133-d08fd290bccc",
   "metadata": {},
   "outputs": [],
   "source": [
    "df=spark.read.parquet(\"complaint_data\")"
   ]
  },
  {
   "cell_type": "code",
   "execution_count": 13,
   "id": "a80eeee6-706f-44a7-a904-deb74260f792",
   "metadata": {},
   "outputs": [
    {
     "data": {
      "text/plain": [
       "2786775"
      ]
     },
     "execution_count": 13,
     "metadata": {},
     "output_type": "execute_result"
    }
   ],
   "source": [
    "df.count()"
   ]
  },
  {
   "cell_type": "code",
   "execution_count": 14,
   "id": "f4a3ea04-2363-44ad-8ccd-e58f0c480ecb",
   "metadata": {},
   "outputs": [
    {
     "name": "stdout",
     "output_type": "stream",
     "text": [
      "root\n",
      " |-- company: string (nullable = true)\n",
      " |-- company_public_response: string (nullable = true)\n",
      " |-- company_response: string (nullable = true)\n",
      " |-- complaint_id: string (nullable = true)\n",
      " |-- complaint_what_happened: string (nullable = true)\n",
      " |-- consumer_consent_provided: string (nullable = true)\n",
      " |-- consumer_disputed: string (nullable = true)\n",
      " |-- date_received: string (nullable = true)\n",
      " |-- date_sent_to_company: string (nullable = true)\n",
      " |-- issue: string (nullable = true)\n",
      " |-- product: string (nullable = true)\n",
      " |-- state: string (nullable = true)\n",
      " |-- sub_issue: string (nullable = true)\n",
      " |-- sub_product: string (nullable = true)\n",
      " |-- submitted_via: string (nullable = true)\n",
      " |-- tags: string (nullable = true)\n",
      " |-- timely: string (nullable = true)\n",
      " |-- zip_code: string (nullable = true)\n",
      "\n"
     ]
    }
   ],
   "source": [
    "df.printSchema()"
   ]
  },
  {
   "cell_type": "code",
   "execution_count": 19,
   "id": "5882d6ad-9526-40d0-8d45-e4788404d9fd",
   "metadata": {},
   "outputs": [
    {
     "name": "stdout",
     "output_type": "stream",
     "text": [
      "+-----------------+\n",
      "|consumer_disputed|\n",
      "+-----------------+\n",
      "|              N/A|\n",
      "|               No|\n",
      "|              Yes|\n",
      "+-----------------+\n",
      "\n"
     ]
    }
   ],
   "source": [
    "df.select(\"consumer_disputed\").distinct().show()"
   ]
  },
  {
   "cell_type": "code",
   "execution_count": 22,
   "id": "a4077316-39ca-445e-b06a-469bcc1b9806",
   "metadata": {},
   "outputs": [
    {
     "name": "stdout",
     "output_type": "stream",
     "text": [
      "+-----------------+-------+\n",
      "|consumer_disputed|  count|\n",
      "+-----------------+-------+\n",
      "|              N/A|2017177|\n",
      "|               No| 621087|\n",
      "|              Yes| 148511|\n",
      "+-----------------+-------+\n",
      "\n"
     ]
    }
   ],
   "source": [
    "df.groupby(\"consumer_disputed\").count().show()"
   ]
  },
  {
   "cell_type": "code",
   "execution_count": 25,
   "id": "f8588c07-a72f-4d4e-90a7-cecd01b08b8a",
   "metadata": {},
   "outputs": [
    {
     "data": {
      "text/plain": [
       "6464"
      ]
     },
     "execution_count": 25,
     "metadata": {},
     "output_type": "execute_result"
    }
   ],
   "source": [
    "df.groupby(\"company\").count().count()"
   ]
  },
  {
   "cell_type": "code",
   "execution_count": 35,
   "id": "2fab6739-7be8-4308-af73-4529bde64ca8",
   "metadata": {},
   "outputs": [
    {
     "name": "stdout",
     "output_type": "stream",
     "text": [
      "+--------------------+--------------------+-----+\n",
      "|             company|             product|count|\n",
      "+--------------------+--------------------+-----+\n",
      "|           AFNI INC.|     Debt collection| 3817|\n",
      "|CARTER-JONES COLL...|Credit reporting,...|    2|\n",
      "|Byrider Franchisi...|Vehicle loan or l...|  214|\n",
      "|PENNYMAC LOAN SER...|Credit reporting,...|  163|\n",
      "|MERCANTILE ADJUST...|     Debt collection|  393|\n",
      "|SECURITY FINANCE ...|Payday loan, titl...|  122|\n",
      "|   Happy Money, Inc.|Payday loan, titl...|   41|\n",
      "|Nationwide Judgem...|     Debt collection|    4|\n",
      "|  LJ Ross Associates|     Debt collection|  525|\n",
      "|Real Time Group, ...|            Mortgage|  383|\n",
      "|BETHPAGE FEDERAL ...|Credit reporting,...|    7|\n",
      "|Liberty Career Fi...|     Debt collection|    1|\n",
      "|Advance America, ...|Payday loan, titl...|  192|\n",
      "|Stratus Financial...|Payday loan, titl...|    1|\n",
      "|CONTOUR MORTGAGE ...|            Mortgage|   26|\n",
      "|Volvo Car Financi...|     Debt collection|    3|\n",
      "|     BTS Motors, LLC|Credit reporting,...|    3|\n",
      "|     ATG Credit, LLC|Credit reporting,...|   57|\n",
      "|Top Flight Assist...|Credit reporting,...|    3|\n",
      "|ADIR INTERNATIONA...|Credit card or pr...|   20|\n",
      "+--------------------+--------------------+-----+\n",
      "only showing top 20 rows\n",
      "\n"
     ]
    }
   ],
   "source": [
    "df.groupby(\"company\",\"product\").count().show()"
   ]
  },
  {
   "cell_type": "code",
   "execution_count": 39,
   "id": "94a8a4b6-d7e2-4148-9a98-af552c78d518",
   "metadata": {},
   "outputs": [
    {
     "name": "stderr",
     "output_type": "stream",
     "text": [
      "                                                                                \r"
     ]
    }
   ],
   "source": [
    "summary_df = df.summary().toPandas()"
   ]
  },
  {
   "cell_type": "code",
   "execution_count": 40,
   "id": "8956ae1e-3d90-41f5-8571-9283a2ac3d9c",
   "metadata": {},
   "outputs": [
    {
     "data": {
      "text/html": [
       "<div>\n",
       "<style scoped>\n",
       "    .dataframe tbody tr th:only-of-type {\n",
       "        vertical-align: middle;\n",
       "    }\n",
       "\n",
       "    .dataframe tbody tr th {\n",
       "        vertical-align: top;\n",
       "    }\n",
       "\n",
       "    .dataframe thead th {\n",
       "        text-align: right;\n",
       "    }\n",
       "</style>\n",
       "<table border=\"1\" class=\"dataframe\">\n",
       "  <thead>\n",
       "    <tr style=\"text-align: right;\">\n",
       "      <th></th>\n",
       "      <th>summary</th>\n",
       "      <th>company</th>\n",
       "      <th>company_public_response</th>\n",
       "      <th>company_response</th>\n",
       "      <th>complaint_id</th>\n",
       "      <th>complaint_what_happened</th>\n",
       "      <th>consumer_consent_provided</th>\n",
       "      <th>consumer_disputed</th>\n",
       "      <th>date_received</th>\n",
       "      <th>date_sent_to_company</th>\n",
       "      <th>issue</th>\n",
       "      <th>product</th>\n",
       "      <th>state</th>\n",
       "      <th>sub_issue</th>\n",
       "      <th>sub_product</th>\n",
       "      <th>submitted_via</th>\n",
       "      <th>tags</th>\n",
       "      <th>timely</th>\n",
       "      <th>zip_code</th>\n",
       "    </tr>\n",
       "  </thead>\n",
       "  <tbody>\n",
       "    <tr>\n",
       "      <th>0</th>\n",
       "      <td>count</td>\n",
       "      <td>2786775</td>\n",
       "      <td>1214892</td>\n",
       "      <td>2786772</td>\n",
       "      <td>2786775</td>\n",
       "      <td>2786775</td>\n",
       "      <td>2785741</td>\n",
       "      <td>2786775</td>\n",
       "      <td>2786775</td>\n",
       "      <td>2786775</td>\n",
       "      <td>2786775</td>\n",
       "      <td>2786775</td>\n",
       "      <td>2746700</td>\n",
       "      <td>2119778</td>\n",
       "      <td>2551669</td>\n",
       "      <td>2786775</td>\n",
       "      <td>324664</td>\n",
       "      <td>2786775</td>\n",
       "      <td>2746415</td>\n",
       "    </tr>\n",
       "    <tr>\n",
       "      <th>1</th>\n",
       "      <td>mean</td>\n",
       "      <td>None</td>\n",
       "      <td>None</td>\n",
       "      <td>None</td>\n",
       "      <td>3242387.0996244764</td>\n",
       "      <td>None</td>\n",
       "      <td>None</td>\n",
       "      <td>None</td>\n",
       "      <td>None</td>\n",
       "      <td>None</td>\n",
       "      <td>None</td>\n",
       "      <td>None</td>\n",
       "      <td>None</td>\n",
       "      <td>None</td>\n",
       "      <td>None</td>\n",
       "      <td>None</td>\n",
       "      <td>None</td>\n",
       "      <td>None</td>\n",
       "      <td>48648.906201801095</td>\n",
       "    </tr>\n",
       "    <tr>\n",
       "      <th>2</th>\n",
       "      <td>stddev</td>\n",
       "      <td>None</td>\n",
       "      <td>None</td>\n",
       "      <td>None</td>\n",
       "      <td>1480652.6945187128</td>\n",
       "      <td>None</td>\n",
       "      <td>None</td>\n",
       "      <td>None</td>\n",
       "      <td>None</td>\n",
       "      <td>None</td>\n",
       "      <td>None</td>\n",
       "      <td>None</td>\n",
       "      <td>None</td>\n",
       "      <td>None</td>\n",
       "      <td>None</td>\n",
       "      <td>None</td>\n",
       "      <td>None</td>\n",
       "      <td>None</td>\n",
       "      <td>29682.57870967089</td>\n",
       "    </tr>\n",
       "    <tr>\n",
       "      <th>3</th>\n",
       "      <td>min</td>\n",
       "      <td>(Former)Shapiro, Swertfeger &amp; Hasty, LLP</td>\n",
       "      <td>Company believes complaint caused principally ...</td>\n",
       "      <td>Closed</td>\n",
       "      <td>1</td>\n",
       "      <td></td>\n",
       "      <td>Consent not provided</td>\n",
       "      <td>N/A</td>\n",
       "      <td>2011-12-31T12:00:00-05:00</td>\n",
       "      <td>2011-12-30T12:00:00-05:00</td>\n",
       "      <td>APR or interest rate</td>\n",
       "      <td>Bank account or service</td>\n",
       "      <td>AA</td>\n",
       "      <td>Account information incorrect</td>\n",
       "      <td>(CD) Certificate of deposit</td>\n",
       "      <td>Email</td>\n",
       "      <td>Older American</td>\n",
       "      <td>No</td>\n",
       "      <td>(1352</td>\n",
       "    </tr>\n",
       "    <tr>\n",
       "      <th>4</th>\n",
       "      <td>25%</td>\n",
       "      <td>None</td>\n",
       "      <td>None</td>\n",
       "      <td>None</td>\n",
       "      <td>2269254.0</td>\n",
       "      <td>None</td>\n",
       "      <td>None</td>\n",
       "      <td>None</td>\n",
       "      <td>None</td>\n",
       "      <td>None</td>\n",
       "      <td>None</td>\n",
       "      <td>None</td>\n",
       "      <td>None</td>\n",
       "      <td>None</td>\n",
       "      <td>None</td>\n",
       "      <td>None</td>\n",
       "      <td>None</td>\n",
       "      <td>None</td>\n",
       "      <td>27106.0</td>\n",
       "    </tr>\n",
       "    <tr>\n",
       "      <th>5</th>\n",
       "      <td>50%</td>\n",
       "      <td>None</td>\n",
       "      <td>None</td>\n",
       "      <td>None</td>\n",
       "      <td>3373403.0</td>\n",
       "      <td>None</td>\n",
       "      <td>None</td>\n",
       "      <td>None</td>\n",
       "      <td>None</td>\n",
       "      <td>None</td>\n",
       "      <td>None</td>\n",
       "      <td>None</td>\n",
       "      <td>None</td>\n",
       "      <td>None</td>\n",
       "      <td>None</td>\n",
       "      <td>None</td>\n",
       "      <td>None</td>\n",
       "      <td>None</td>\n",
       "      <td>38008.0</td>\n",
       "    </tr>\n",
       "    <tr>\n",
       "      <th>6</th>\n",
       "      <td>75%</td>\n",
       "      <td>None</td>\n",
       "      <td>None</td>\n",
       "      <td>None</td>\n",
       "      <td>4358891.0</td>\n",
       "      <td>None</td>\n",
       "      <td>None</td>\n",
       "      <td>None</td>\n",
       "      <td>None</td>\n",
       "      <td>None</td>\n",
       "      <td>None</td>\n",
       "      <td>None</td>\n",
       "      <td>None</td>\n",
       "      <td>None</td>\n",
       "      <td>None</td>\n",
       "      <td>None</td>\n",
       "      <td>None</td>\n",
       "      <td>None</td>\n",
       "      <td>77301.0</td>\n",
       "    </tr>\n",
       "    <tr>\n",
       "      <th>7</th>\n",
       "      <td>max</td>\n",
       "      <td>Lippman Recupero, LLC</td>\n",
       "      <td>Company has responded to the consumer and the ...</td>\n",
       "      <td>Untimely response</td>\n",
       "      <td>99999</td>\n",
       "      <td>•\\tSchool Loan servicer XXXX  defaulted my loa...</td>\n",
       "      <td>Other</td>\n",
       "      <td>Yes</td>\n",
       "      <td>2022-06-30T12:00:00-05:00</td>\n",
       "      <td>2022-09-01T12:00:00-05:00</td>\n",
       "      <td>Wrong amount charged or received</td>\n",
       "      <td>Virtual currency</td>\n",
       "      <td>WY</td>\n",
       "      <td>You told them to stop contacting you, but they...</td>\n",
       "      <td>Virtual currency</td>\n",
       "      <td>Web Referral</td>\n",
       "      <td>Servicemember</td>\n",
       "      <td>Yes</td>\n",
       "      <td>9`325</td>\n",
       "    </tr>\n",
       "  </tbody>\n",
       "</table>\n",
       "</div>"
      ],
      "text/plain": [
       "  summary                                   company  \\\n",
       "0   count                                   2786775   \n",
       "1    mean                                      None   \n",
       "2  stddev                                      None   \n",
       "3     min  (Former)Shapiro, Swertfeger & Hasty, LLP   \n",
       "4     25%                                      None   \n",
       "5     50%                                      None   \n",
       "6     75%                                      None   \n",
       "7     max                     Lippman Recupero, LLC   \n",
       "\n",
       "                             company_public_response   company_response  \\\n",
       "0                                            1214892            2786772   \n",
       "1                                               None               None   \n",
       "2                                               None               None   \n",
       "3  Company believes complaint caused principally ...             Closed   \n",
       "4                                               None               None   \n",
       "5                                               None               None   \n",
       "6                                               None               None   \n",
       "7  Company has responded to the consumer and the ...  Untimely response   \n",
       "\n",
       "         complaint_id                            complaint_what_happened  \\\n",
       "0             2786775                                            2786775   \n",
       "1  3242387.0996244764                                               None   \n",
       "2  1480652.6945187128                                               None   \n",
       "3                   1                                                      \n",
       "4           2269254.0                                               None   \n",
       "5           3373403.0                                               None   \n",
       "6           4358891.0                                               None   \n",
       "7               99999  •\\tSchool Loan servicer XXXX  defaulted my loa...   \n",
       "\n",
       "  consumer_consent_provided consumer_disputed              date_received  \\\n",
       "0                   2785741           2786775                    2786775   \n",
       "1                      None              None                       None   \n",
       "2                      None              None                       None   \n",
       "3      Consent not provided               N/A  2011-12-31T12:00:00-05:00   \n",
       "4                      None              None                       None   \n",
       "5                      None              None                       None   \n",
       "6                      None              None                       None   \n",
       "7                     Other               Yes  2022-06-30T12:00:00-05:00   \n",
       "\n",
       "        date_sent_to_company                             issue  \\\n",
       "0                    2786775                           2786775   \n",
       "1                       None                              None   \n",
       "2                       None                              None   \n",
       "3  2011-12-30T12:00:00-05:00              APR or interest rate   \n",
       "4                       None                              None   \n",
       "5                       None                              None   \n",
       "6                       None                              None   \n",
       "7  2022-09-01T12:00:00-05:00  Wrong amount charged or received   \n",
       "\n",
       "                   product    state  \\\n",
       "0                  2786775  2746700   \n",
       "1                     None     None   \n",
       "2                     None     None   \n",
       "3  Bank account or service       AA   \n",
       "4                     None     None   \n",
       "5                     None     None   \n",
       "6                     None     None   \n",
       "7         Virtual currency       WY   \n",
       "\n",
       "                                           sub_issue  \\\n",
       "0                                            2119778   \n",
       "1                                               None   \n",
       "2                                               None   \n",
       "3                      Account information incorrect   \n",
       "4                                               None   \n",
       "5                                               None   \n",
       "6                                               None   \n",
       "7  You told them to stop contacting you, but they...   \n",
       "\n",
       "                   sub_product submitted_via            tags   timely  \\\n",
       "0                      2551669       2786775          324664  2786775   \n",
       "1                         None          None            None     None   \n",
       "2                         None          None            None     None   \n",
       "3  (CD) Certificate of deposit         Email  Older American       No   \n",
       "4                         None          None            None     None   \n",
       "5                         None          None            None     None   \n",
       "6                         None          None            None     None   \n",
       "7             Virtual currency  Web Referral   Servicemember      Yes   \n",
       "\n",
       "             zip_code  \n",
       "0             2746415  \n",
       "1  48648.906201801095  \n",
       "2   29682.57870967089  \n",
       "3               (1352  \n",
       "4             27106.0  \n",
       "5             38008.0  \n",
       "6             77301.0  \n",
       "7               9`325  "
      ]
     },
     "execution_count": 40,
     "metadata": {},
     "output_type": "execute_result"
    }
   ],
   "source": [
    "summary_df"
   ]
  },
  {
   "cell_type": "code",
   "execution_count": 1,
   "id": "b5066a28-5a0d-4955-9830-7ccf393f6fc0",
   "metadata": {},
   "outputs": [],
   "source": [
    "import pandas as pd"
   ]
  },
  {
   "cell_type": "code",
   "execution_count": 2,
   "id": "0b87f530-5302-42e8-9131-c863e2b245c4",
   "metadata": {},
   "outputs": [],
   "source": [
    "new_df = pd.read_parquet(\"complaint_data\")"
   ]
  },
  {
   "cell_type": "code",
   "execution_count": 3,
   "id": "59ea358e-b730-4bbb-a823-3b32a381debf",
   "metadata": {},
   "outputs": [
    {
     "ename": "NameError",
     "evalue": "name 'df' is not defined",
     "output_type": "error",
     "traceback": [
      "\u001b[0;31m---------------------------------------------------------------------------\u001b[0m",
      "\u001b[0;31mNameError\u001b[0m                                 Traceback (most recent call last)",
      "Input \u001b[0;32mIn [3]\u001b[0m, in \u001b[0;36m<cell line: 1>\u001b[0;34m()\u001b[0m\n\u001b[0;32m----> 1\u001b[0m \u001b[38;5;28;01mdel\u001b[39;00m df\n",
      "\u001b[0;31mNameError\u001b[0m: name 'df' is not defined"
     ]
    }
   ],
   "source": [
    "del df"
   ]
  },
  {
   "cell_type": "code",
   "execution_count": 45,
   "id": "a60c1c4c-dba9-4e12-a241-4d735a7c6e20",
   "metadata": {},
   "outputs": [
    {
     "data": {
      "text/html": [
       "<div>\n",
       "<style scoped>\n",
       "    .dataframe tbody tr th:only-of-type {\n",
       "        vertical-align: middle;\n",
       "    }\n",
       "\n",
       "    .dataframe tbody tr th {\n",
       "        vertical-align: top;\n",
       "    }\n",
       "\n",
       "    .dataframe thead th {\n",
       "        text-align: right;\n",
       "    }\n",
       "</style>\n",
       "<table border=\"1\" class=\"dataframe\">\n",
       "  <thead>\n",
       "    <tr style=\"text-align: right;\">\n",
       "      <th></th>\n",
       "      <th>company</th>\n",
       "      <th>company_public_response</th>\n",
       "      <th>company_response</th>\n",
       "      <th>complaint_id</th>\n",
       "      <th>complaint_what_happened</th>\n",
       "      <th>consumer_consent_provided</th>\n",
       "      <th>consumer_disputed</th>\n",
       "      <th>date_received</th>\n",
       "      <th>date_sent_to_company</th>\n",
       "      <th>issue</th>\n",
       "      <th>product</th>\n",
       "      <th>state</th>\n",
       "      <th>sub_issue</th>\n",
       "      <th>sub_product</th>\n",
       "      <th>submitted_via</th>\n",
       "      <th>tags</th>\n",
       "      <th>timely</th>\n",
       "      <th>zip_code</th>\n",
       "    </tr>\n",
       "  </thead>\n",
       "  <tbody>\n",
       "    <tr>\n",
       "      <th>count</th>\n",
       "      <td>2786775</td>\n",
       "      <td>1214892</td>\n",
       "      <td>2786772</td>\n",
       "      <td>2786775</td>\n",
       "      <td>2786775</td>\n",
       "      <td>2785741</td>\n",
       "      <td>2786775</td>\n",
       "      <td>2786775</td>\n",
       "      <td>2786775</td>\n",
       "      <td>2786775</td>\n",
       "      <td>2786775</td>\n",
       "      <td>2746700</td>\n",
       "      <td>2119778</td>\n",
       "      <td>2551669</td>\n",
       "      <td>2786775</td>\n",
       "      <td>324664</td>\n",
       "      <td>2786775</td>\n",
       "      <td>2746415</td>\n",
       "    </tr>\n",
       "    <tr>\n",
       "      <th>unique</th>\n",
       "      <td>6464</td>\n",
       "      <td>11</td>\n",
       "      <td>8</td>\n",
       "      <td>2774363</td>\n",
       "      <td>892229</td>\n",
       "      <td>5</td>\n",
       "      <td>3</td>\n",
       "      <td>3833</td>\n",
       "      <td>3834</td>\n",
       "      <td>165</td>\n",
       "      <td>18</td>\n",
       "      <td>63</td>\n",
       "      <td>221</td>\n",
       "      <td>76</td>\n",
       "      <td>7</td>\n",
       "      <td>3</td>\n",
       "      <td>2</td>\n",
       "      <td>34117</td>\n",
       "    </tr>\n",
       "    <tr>\n",
       "      <th>top</th>\n",
       "      <td>EQUIFAX, INC.</td>\n",
       "      <td>Company has responded to the consumer and the ...</td>\n",
       "      <td>Closed with explanation</td>\n",
       "      <td>3723751</td>\n",
       "      <td></td>\n",
       "      <td>Consent provided</td>\n",
       "      <td>N/A</td>\n",
       "      <td>2021-06-30T12:00:00-05:00</td>\n",
       "      <td>2022-05-03T12:00:00-05:00</td>\n",
       "      <td>Incorrect information on your report</td>\n",
       "      <td>Credit reporting, credit repair services, or o...</td>\n",
       "      <td>CA</td>\n",
       "      <td>Information belongs to someone else</td>\n",
       "      <td>Credit reporting</td>\n",
       "      <td>Web</td>\n",
       "      <td>Servicemember</td>\n",
       "      <td>Yes</td>\n",
       "      <td>30349</td>\n",
       "    </tr>\n",
       "    <tr>\n",
       "      <th>freq</th>\n",
       "      <td>455020</td>\n",
       "      <td>1012944</td>\n",
       "      <td>2240472</td>\n",
       "      <td>2</td>\n",
       "      <td>1766557</td>\n",
       "      <td>1020820</td>\n",
       "      <td>2017177</td>\n",
       "      <td>3750</td>\n",
       "      <td>3653</td>\n",
       "      <td>671106</td>\n",
       "      <td>1184879</td>\n",
       "      <td>347535</td>\n",
       "      <td>428265</td>\n",
       "      <td>1170768</td>\n",
       "      <td>2303573</td>\n",
       "      <td>176861</td>\n",
       "      <td>2738213</td>\n",
       "      <td>4389</td>\n",
       "    </tr>\n",
       "  </tbody>\n",
       "</table>\n",
       "</div>"
      ],
      "text/plain": [
       "              company                            company_public_response  \\\n",
       "count         2786775                                            1214892   \n",
       "unique           6464                                                 11   \n",
       "top     EQUIFAX, INC.  Company has responded to the consumer and the ...   \n",
       "freq           455020                                            1012944   \n",
       "\n",
       "               company_response complaint_id complaint_what_happened  \\\n",
       "count                   2786772      2786775                 2786775   \n",
       "unique                        8      2774363                  892229   \n",
       "top     Closed with explanation      3723751                           \n",
       "freq                    2240472            2                 1766557   \n",
       "\n",
       "       consumer_consent_provided consumer_disputed              date_received  \\\n",
       "count                    2785741           2786775                    2786775   \n",
       "unique                         5                 3                       3833   \n",
       "top             Consent provided               N/A  2021-06-30T12:00:00-05:00   \n",
       "freq                     1020820           2017177                       3750   \n",
       "\n",
       "             date_sent_to_company                                 issue  \\\n",
       "count                     2786775                               2786775   \n",
       "unique                       3834                                   165   \n",
       "top     2022-05-03T12:00:00-05:00  Incorrect information on your report   \n",
       "freq                         3653                                671106   \n",
       "\n",
       "                                                  product    state  \\\n",
       "count                                             2786775  2746700   \n",
       "unique                                                 18       63   \n",
       "top     Credit reporting, credit repair services, or o...       CA   \n",
       "freq                                              1184879   347535   \n",
       "\n",
       "                                  sub_issue       sub_product submitted_via  \\\n",
       "count                               2119778           2551669       2786775   \n",
       "unique                                  221                76             7   \n",
       "top     Information belongs to someone else  Credit reporting           Web   \n",
       "freq                                 428265           1170768       2303573   \n",
       "\n",
       "                 tags   timely zip_code  \n",
       "count          324664  2786775  2746415  \n",
       "unique              3        2    34117  \n",
       "top     Servicemember      Yes    30349  \n",
       "freq           176861  2738213     4389  "
      ]
     },
     "execution_count": 45,
     "metadata": {},
     "output_type": "execute_result"
    }
   ],
   "source": [
    "new_df.describe()"
   ]
  },
  {
   "cell_type": "code",
   "execution_count": 47,
   "id": "e39644e8-1a83-4c6a-8043-f32ced3c19da",
   "metadata": {},
   "outputs": [
    {
     "data": {
      "text/plain": [
       "N/A    2017177\n",
       "No      621087\n",
       "Yes     148511\n",
       "Name: consumer_disputed, dtype: int64"
      ]
     },
     "execution_count": 47,
     "metadata": {},
     "output_type": "execute_result"
    }
   ],
   "source": [
    "new_df.consumer_disputed.value_counts()"
   ]
  },
  {
   "cell_type": "code",
   "execution_count": 4,
   "id": "f64c4604-f8b3-4b0e-857b-ab02ab5804ca",
   "metadata": {},
   "outputs": [],
   "source": [
    "import matplotlib.pyplot as plt"
   ]
  },
  {
   "cell_type": "code",
   "execution_count": 5,
   "id": "b0743780-1462-445b-afc4-67656efd1c20",
   "metadata": {},
   "outputs": [],
   "source": [
    "company_name = new_df.company.value_counts().head().index.array"
   ]
  },
  {
   "cell_type": "code",
   "execution_count": 6,
   "id": "65cd3553-5bab-4834-bf45-4423b4a8dbe1",
   "metadata": {},
   "outputs": [],
   "source": [
    "company_count = new_df.company.value_counts().head().array"
   ]
  },
  {
   "cell_type": "code",
   "execution_count": 7,
   "id": "412a61ff-c933-4f54-85fb-ef3ef650db34",
   "metadata": {},
   "outputs": [],
   "source": [
    "import matplotlib.pyplot as plt"
   ]
  },
  {
   "cell_type": "code",
   "execution_count": 14,
   "id": "ca5a5cf7-822c-4110-a0ab-cf41b19fdc30",
   "metadata": {},
   "outputs": [],
   "source": [
    "import numpy as np"
   ]
  },
  {
   "cell_type": "code",
   "execution_count": 16,
   "id": "54ca8235-a5ca-4f27-9df1-5d653f06b579",
   "metadata": {},
   "outputs": [],
   "source": [
    "new_df.replace(\"None\",np.nan,inplace=True)"
   ]
  },
  {
   "cell_type": "code",
   "execution_count": 26,
   "id": "e300354d-3e3c-4fb7-b4d1-30e0d8e3a9b7",
   "metadata": {},
   "outputs": [],
   "source": [
    "new_df.replace(\"N/A\",np.nan,inplace=True)"
   ]
  },
  {
   "cell_type": "code",
   "execution_count": 28,
   "id": "51dbc5a1-4c53-4ea1-9700-9caec00afcc8",
   "metadata": {},
   "outputs": [],
   "source": [
    "new_df.replace(\"\",np.nan,inplace=True)"
   ]
  },
  {
   "cell_type": "code",
   "execution_count": 32,
   "id": "e8c12845-a331-42af-baf4-af8b71e83da0",
   "metadata": {},
   "outputs": [],
   "source": [
    "new_df.dropna(inplace=True)"
   ]
  },
  {
   "cell_type": "code",
   "execution_count": 33,
   "id": "b80694f7-8288-4e9e-aaef-e111e95813e5",
   "metadata": {},
   "outputs": [
    {
     "data": {
      "text/plain": [
       "(3132, 18)"
      ]
     },
     "execution_count": 33,
     "metadata": {},
     "output_type": "execute_result"
    }
   ],
   "source": [
    "new_df.shape"
   ]
  },
  {
   "cell_type": "code",
   "execution_count": 35,
   "id": "5d594f5a-db5c-491c-8ed9-743d94e85a5b",
   "metadata": {},
   "outputs": [
    {
     "data": {
      "text/plain": [
       "No     2463\n",
       "Yes     669\n",
       "Name: consumer_disputed, dtype: int64"
      ]
     },
     "execution_count": 35,
     "metadata": {},
     "output_type": "execute_result"
    }
   ],
   "source": [
    "new_df.consumer_disputed.value_counts()"
   ]
  },
  {
   "cell_type": "code",
   "execution_count": 36,
   "id": "ddb648c7-c120-4499-8146-2cb2d433ec24",
   "metadata": {},
   "outputs": [
    {
     "data": {
      "text/html": [
       "<div>\n",
       "<style scoped>\n",
       "    .dataframe tbody tr th:only-of-type {\n",
       "        vertical-align: middle;\n",
       "    }\n",
       "\n",
       "    .dataframe tbody tr th {\n",
       "        vertical-align: top;\n",
       "    }\n",
       "\n",
       "    .dataframe thead th {\n",
       "        text-align: right;\n",
       "    }\n",
       "</style>\n",
       "<table border=\"1\" class=\"dataframe\">\n",
       "  <thead>\n",
       "    <tr style=\"text-align: right;\">\n",
       "      <th></th>\n",
       "      <th>company</th>\n",
       "      <th>company_public_response</th>\n",
       "      <th>company_response</th>\n",
       "      <th>complaint_id</th>\n",
       "      <th>complaint_what_happened</th>\n",
       "      <th>consumer_consent_provided</th>\n",
       "      <th>consumer_disputed</th>\n",
       "      <th>date_received</th>\n",
       "      <th>date_sent_to_company</th>\n",
       "      <th>issue</th>\n",
       "      <th>product</th>\n",
       "      <th>state</th>\n",
       "      <th>sub_issue</th>\n",
       "      <th>sub_product</th>\n",
       "      <th>submitted_via</th>\n",
       "      <th>tags</th>\n",
       "      <th>timely</th>\n",
       "      <th>zip_code</th>\n",
       "    </tr>\n",
       "  </thead>\n",
       "  <tbody>\n",
       "    <tr>\n",
       "      <th>638449</th>\n",
       "      <td>CCS Financial Services, Inc.</td>\n",
       "      <td>Company believes the complaint is the result o...</td>\n",
       "      <td>Closed with explanation</td>\n",
       "      <td>1438902</td>\n",
       "      <td>On XXXX XXXX. 2015 a representative from CCS c...</td>\n",
       "      <td>Consent provided</td>\n",
       "      <td>No</td>\n",
       "      <td>2015-06-25T12:00:00-05:00</td>\n",
       "      <td>2015-06-25T12:00:00-05:00</td>\n",
       "      <td>Communication tactics</td>\n",
       "      <td>Debt collection</td>\n",
       "      <td>TX</td>\n",
       "      <td>Frequent or repeated calls</td>\n",
       "      <td>Other (i.e. phone, health club, etc.)</td>\n",
       "      <td>Web</td>\n",
       "      <td>Older American</td>\n",
       "      <td>Yes</td>\n",
       "      <td>75104</td>\n",
       "    </tr>\n",
       "    <tr>\n",
       "      <th>638487</th>\n",
       "      <td>Meade &amp; Associates, Inc.</td>\n",
       "      <td>Company believes it acted appropriately as aut...</td>\n",
       "      <td>Closed</td>\n",
       "      <td>1370704</td>\n",
       "      <td>I submitted this to the CFPB about 6 months ag...</td>\n",
       "      <td>Consent provided</td>\n",
       "      <td>No</td>\n",
       "      <td>2015-05-12T12:00:00-05:00</td>\n",
       "      <td>2015-05-12T12:00:00-05:00</td>\n",
       "      <td>Cont'd attempts collect debt not owed</td>\n",
       "      <td>Debt collection</td>\n",
       "      <td>OH</td>\n",
       "      <td>Debt is not mine</td>\n",
       "      <td>Other (i.e. phone, health club, etc.)</td>\n",
       "      <td>Web</td>\n",
       "      <td>Older American</td>\n",
       "      <td>Yes</td>\n",
       "      <td>43230</td>\n",
       "    </tr>\n",
       "    <tr>\n",
       "      <th>638880</th>\n",
       "      <td>Financial Credit Network Inc</td>\n",
       "      <td>Company believes the complaint is the result o...</td>\n",
       "      <td>Closed with explanation</td>\n",
       "      <td>1351396</td>\n",
       "      <td>Says medical services were rendered in XX/XX/X...</td>\n",
       "      <td>Consent provided</td>\n",
       "      <td>Yes</td>\n",
       "      <td>2015-04-28T12:00:00-05:00</td>\n",
       "      <td>2015-04-28T12:00:00-05:00</td>\n",
       "      <td>False statements or representation</td>\n",
       "      <td>Debt collection</td>\n",
       "      <td>CA</td>\n",
       "      <td>Attempted to collect wrong amount</td>\n",
       "      <td>Medical</td>\n",
       "      <td>Web</td>\n",
       "      <td>Servicemember</td>\n",
       "      <td>Yes</td>\n",
       "      <td>90025</td>\n",
       "    </tr>\n",
       "    <tr>\n",
       "      <th>639177</th>\n",
       "      <td>Altisource Portfolio Solutions, S.à r.l.</td>\n",
       "      <td>Company believes it acted appropriately as aut...</td>\n",
       "      <td>Closed with explanation</td>\n",
       "      <td>1356307</td>\n",
       "      <td>Nationwide Credit INC. called to say if i paid...</td>\n",
       "      <td>Consent provided</td>\n",
       "      <td>No</td>\n",
       "      <td>2015-05-01T12:00:00-05:00</td>\n",
       "      <td>2015-05-01T12:00:00-05:00</td>\n",
       "      <td>Cont'd attempts collect debt not owed</td>\n",
       "      <td>Debt collection</td>\n",
       "      <td>FL</td>\n",
       "      <td>Debt was paid</td>\n",
       "      <td>Credit card</td>\n",
       "      <td>Web</td>\n",
       "      <td>Servicemember</td>\n",
       "      <td>Yes</td>\n",
       "      <td>34243</td>\n",
       "    </tr>\n",
       "    <tr>\n",
       "      <th>639776</th>\n",
       "      <td>RS Clark and Associates, Inc.</td>\n",
       "      <td>Company believes it acted appropriately as aut...</td>\n",
       "      <td>Closed with explanation</td>\n",
       "      <td>1385669</td>\n",
       "      <td>This debt has shown up on my credit report ( s...</td>\n",
       "      <td>Consent provided</td>\n",
       "      <td>No</td>\n",
       "      <td>2015-05-20T12:00:00-05:00</td>\n",
       "      <td>2015-05-27T12:00:00-05:00</td>\n",
       "      <td>Cont'd attempts collect debt not owed</td>\n",
       "      <td>Debt collection</td>\n",
       "      <td>AZ</td>\n",
       "      <td>Debt is not mine</td>\n",
       "      <td>Other (i.e. phone, health club, etc.)</td>\n",
       "      <td>Web</td>\n",
       "      <td>Servicemember</td>\n",
       "      <td>Yes</td>\n",
       "      <td>85704</td>\n",
       "    </tr>\n",
       "    <tr>\n",
       "      <th>...</th>\n",
       "      <td>...</td>\n",
       "      <td>...</td>\n",
       "      <td>...</td>\n",
       "      <td>...</td>\n",
       "      <td>...</td>\n",
       "      <td>...</td>\n",
       "      <td>...</td>\n",
       "      <td>...</td>\n",
       "      <td>...</td>\n",
       "      <td>...</td>\n",
       "      <td>...</td>\n",
       "      <td>...</td>\n",
       "      <td>...</td>\n",
       "      <td>...</td>\n",
       "      <td>...</td>\n",
       "      <td>...</td>\n",
       "      <td>...</td>\n",
       "      <td>...</td>\n",
       "    </tr>\n",
       "    <tr>\n",
       "      <th>2649658</th>\n",
       "      <td>Allied Collection Services, Inc. (Nevada)</td>\n",
       "      <td>Company chooses not to provide a public response</td>\n",
       "      <td>Closed with explanation</td>\n",
       "      <td>1500006</td>\n",
       "      <td>My wife gave birth to our son in XXXX, 2014, w...</td>\n",
       "      <td>Consent provided</td>\n",
       "      <td>No</td>\n",
       "      <td>2015-08-03T12:00:00-05:00</td>\n",
       "      <td>2015-08-03T12:00:00-05:00</td>\n",
       "      <td>Disclosure verification of debt</td>\n",
       "      <td>Debt collection</td>\n",
       "      <td>NV</td>\n",
       "      <td>Right to dispute notice not received</td>\n",
       "      <td>Medical</td>\n",
       "      <td>Web</td>\n",
       "      <td>Servicemember</td>\n",
       "      <td>Yes</td>\n",
       "      <td>89134</td>\n",
       "    </tr>\n",
       "    <tr>\n",
       "      <th>2649731</th>\n",
       "      <td>BANK OF AMERICA, NATIONAL ASSOCIATION</td>\n",
       "      <td>Company chooses not to provide a public response</td>\n",
       "      <td>Closed with explanation</td>\n",
       "      <td>1581170</td>\n",
       "      <td>I have no contract with this 3rd party debt co...</td>\n",
       "      <td>Consent provided</td>\n",
       "      <td>No</td>\n",
       "      <td>2015-09-25T12:00:00-05:00</td>\n",
       "      <td>2015-09-25T12:00:00-05:00</td>\n",
       "      <td>False statements or representation</td>\n",
       "      <td>Debt collection</td>\n",
       "      <td>DE</td>\n",
       "      <td>Impersonated an attorney or official</td>\n",
       "      <td>Mortgage</td>\n",
       "      <td>Web</td>\n",
       "      <td>Servicemember</td>\n",
       "      <td>Yes</td>\n",
       "      <td>19701</td>\n",
       "    </tr>\n",
       "    <tr>\n",
       "      <th>2649756</th>\n",
       "      <td>McCullough Payne &amp; Haan, LLC</td>\n",
       "      <td>Company chooses not to provide a public response</td>\n",
       "      <td>Closed with explanation</td>\n",
       "      <td>1639359</td>\n",
       "      <td>XXXX XXXX and assigned lawyers suing for debt ...</td>\n",
       "      <td>Consent provided</td>\n",
       "      <td>Yes</td>\n",
       "      <td>2015-11-04T12:00:00-05:00</td>\n",
       "      <td>2015-11-04T12:00:00-05:00</td>\n",
       "      <td>Disclosure verification of debt</td>\n",
       "      <td>Debt collection</td>\n",
       "      <td>AL</td>\n",
       "      <td>Not given enough info to verify debt</td>\n",
       "      <td>Credit card</td>\n",
       "      <td>Web</td>\n",
       "      <td>Older American</td>\n",
       "      <td>Yes</td>\n",
       "      <td>35080</td>\n",
       "    </tr>\n",
       "    <tr>\n",
       "      <th>2649804</th>\n",
       "      <td>FLAGSTAR BANK, FSB</td>\n",
       "      <td>Company chooses not to provide a public response</td>\n",
       "      <td>Closed with explanation</td>\n",
       "      <td>1534563</td>\n",
       "      <td>XXXX XXXX I purchased ( paid cash ) a home fro...</td>\n",
       "      <td>Consent provided</td>\n",
       "      <td>No</td>\n",
       "      <td>2015-08-25T12:00:00-05:00</td>\n",
       "      <td>2015-08-25T12:00:00-05:00</td>\n",
       "      <td>Cont'd attempts collect debt not owed</td>\n",
       "      <td>Debt collection</td>\n",
       "      <td>AZ</td>\n",
       "      <td>Debt is not mine</td>\n",
       "      <td>Mortgage</td>\n",
       "      <td>Web</td>\n",
       "      <td>Older American</td>\n",
       "      <td>Yes</td>\n",
       "      <td>85132</td>\n",
       "    </tr>\n",
       "    <tr>\n",
       "      <th>2650316</th>\n",
       "      <td>Account Control Technology, Inc.</td>\n",
       "      <td>Company believes it acted appropriately as aut...</td>\n",
       "      <td>Closed with non-monetary relief</td>\n",
       "      <td>1642277</td>\n",
       "      <td>Illegal and Improper contact from third party ...</td>\n",
       "      <td>Consent provided</td>\n",
       "      <td>Yes</td>\n",
       "      <td>2015-11-04T12:00:00-05:00</td>\n",
       "      <td>2015-11-04T12:00:00-05:00</td>\n",
       "      <td>Cont'd attempts collect debt not owed</td>\n",
       "      <td>Debt collection</td>\n",
       "      <td>DE</td>\n",
       "      <td>Debt was discharged in bankruptcy</td>\n",
       "      <td>Federal student loan</td>\n",
       "      <td>Web</td>\n",
       "      <td>Servicemember</td>\n",
       "      <td>Yes</td>\n",
       "      <td>19701</td>\n",
       "    </tr>\n",
       "  </tbody>\n",
       "</table>\n",
       "<p>3132 rows × 18 columns</p>\n",
       "</div>"
      ],
      "text/plain": [
       "                                           company  \\\n",
       "638449                CCS Financial Services, Inc.   \n",
       "638487                    Meade & Associates, Inc.   \n",
       "638880                Financial Credit Network Inc   \n",
       "639177    Altisource Portfolio Solutions, S.à r.l.   \n",
       "639776               RS Clark and Associates, Inc.   \n",
       "...                                            ...   \n",
       "2649658  Allied Collection Services, Inc. (Nevada)   \n",
       "2649731      BANK OF AMERICA, NATIONAL ASSOCIATION   \n",
       "2649756               McCullough Payne & Haan, LLC   \n",
       "2649804                         FLAGSTAR BANK, FSB   \n",
       "2650316           Account Control Technology, Inc.   \n",
       "\n",
       "                                   company_public_response  \\\n",
       "638449   Company believes the complaint is the result o...   \n",
       "638487   Company believes it acted appropriately as aut...   \n",
       "638880   Company believes the complaint is the result o...   \n",
       "639177   Company believes it acted appropriately as aut...   \n",
       "639776   Company believes it acted appropriately as aut...   \n",
       "...                                                    ...   \n",
       "2649658   Company chooses not to provide a public response   \n",
       "2649731   Company chooses not to provide a public response   \n",
       "2649756   Company chooses not to provide a public response   \n",
       "2649804   Company chooses not to provide a public response   \n",
       "2650316  Company believes it acted appropriately as aut...   \n",
       "\n",
       "                        company_response complaint_id  \\\n",
       "638449           Closed with explanation      1438902   \n",
       "638487                            Closed      1370704   \n",
       "638880           Closed with explanation      1351396   \n",
       "639177           Closed with explanation      1356307   \n",
       "639776           Closed with explanation      1385669   \n",
       "...                                  ...          ...   \n",
       "2649658          Closed with explanation      1500006   \n",
       "2649731          Closed with explanation      1581170   \n",
       "2649756          Closed with explanation      1639359   \n",
       "2649804          Closed with explanation      1534563   \n",
       "2650316  Closed with non-monetary relief      1642277   \n",
       "\n",
       "                                   complaint_what_happened  \\\n",
       "638449   On XXXX XXXX. 2015 a representative from CCS c...   \n",
       "638487   I submitted this to the CFPB about 6 months ag...   \n",
       "638880   Says medical services were rendered in XX/XX/X...   \n",
       "639177   Nationwide Credit INC. called to say if i paid...   \n",
       "639776   This debt has shown up on my credit report ( s...   \n",
       "...                                                    ...   \n",
       "2649658  My wife gave birth to our son in XXXX, 2014, w...   \n",
       "2649731  I have no contract with this 3rd party debt co...   \n",
       "2649756  XXXX XXXX and assigned lawyers suing for debt ...   \n",
       "2649804  XXXX XXXX I purchased ( paid cash ) a home fro...   \n",
       "2650316  Illegal and Improper contact from third party ...   \n",
       "\n",
       "        consumer_consent_provided consumer_disputed  \\\n",
       "638449           Consent provided                No   \n",
       "638487           Consent provided                No   \n",
       "638880           Consent provided               Yes   \n",
       "639177           Consent provided                No   \n",
       "639776           Consent provided                No   \n",
       "...                           ...               ...   \n",
       "2649658          Consent provided                No   \n",
       "2649731          Consent provided                No   \n",
       "2649756          Consent provided               Yes   \n",
       "2649804          Consent provided                No   \n",
       "2650316          Consent provided               Yes   \n",
       "\n",
       "                     date_received       date_sent_to_company  \\\n",
       "638449   2015-06-25T12:00:00-05:00  2015-06-25T12:00:00-05:00   \n",
       "638487   2015-05-12T12:00:00-05:00  2015-05-12T12:00:00-05:00   \n",
       "638880   2015-04-28T12:00:00-05:00  2015-04-28T12:00:00-05:00   \n",
       "639177   2015-05-01T12:00:00-05:00  2015-05-01T12:00:00-05:00   \n",
       "639776   2015-05-20T12:00:00-05:00  2015-05-27T12:00:00-05:00   \n",
       "...                            ...                        ...   \n",
       "2649658  2015-08-03T12:00:00-05:00  2015-08-03T12:00:00-05:00   \n",
       "2649731  2015-09-25T12:00:00-05:00  2015-09-25T12:00:00-05:00   \n",
       "2649756  2015-11-04T12:00:00-05:00  2015-11-04T12:00:00-05:00   \n",
       "2649804  2015-08-25T12:00:00-05:00  2015-08-25T12:00:00-05:00   \n",
       "2650316  2015-11-04T12:00:00-05:00  2015-11-04T12:00:00-05:00   \n",
       "\n",
       "                                         issue          product state  \\\n",
       "638449                   Communication tactics  Debt collection    TX   \n",
       "638487   Cont'd attempts collect debt not owed  Debt collection    OH   \n",
       "638880      False statements or representation  Debt collection    CA   \n",
       "639177   Cont'd attempts collect debt not owed  Debt collection    FL   \n",
       "639776   Cont'd attempts collect debt not owed  Debt collection    AZ   \n",
       "...                                        ...              ...   ...   \n",
       "2649658        Disclosure verification of debt  Debt collection    NV   \n",
       "2649731     False statements or representation  Debt collection    DE   \n",
       "2649756        Disclosure verification of debt  Debt collection    AL   \n",
       "2649804  Cont'd attempts collect debt not owed  Debt collection    AZ   \n",
       "2650316  Cont'd attempts collect debt not owed  Debt collection    DE   \n",
       "\n",
       "                                    sub_issue  \\\n",
       "638449             Frequent or repeated calls   \n",
       "638487                       Debt is not mine   \n",
       "638880      Attempted to collect wrong amount   \n",
       "639177                          Debt was paid   \n",
       "639776                       Debt is not mine   \n",
       "...                                       ...   \n",
       "2649658  Right to dispute notice not received   \n",
       "2649731  Impersonated an attorney or official   \n",
       "2649756  Not given enough info to verify debt   \n",
       "2649804                      Debt is not mine   \n",
       "2650316     Debt was discharged in bankruptcy   \n",
       "\n",
       "                                   sub_product submitted_via            tags  \\\n",
       "638449   Other (i.e. phone, health club, etc.)           Web  Older American   \n",
       "638487   Other (i.e. phone, health club, etc.)           Web  Older American   \n",
       "638880                                 Medical           Web   Servicemember   \n",
       "639177                             Credit card           Web   Servicemember   \n",
       "639776   Other (i.e. phone, health club, etc.)           Web   Servicemember   \n",
       "...                                        ...           ...             ...   \n",
       "2649658                                Medical           Web   Servicemember   \n",
       "2649731                               Mortgage           Web   Servicemember   \n",
       "2649756                            Credit card           Web  Older American   \n",
       "2649804                               Mortgage           Web  Older American   \n",
       "2650316                   Federal student loan           Web   Servicemember   \n",
       "\n",
       "        timely zip_code  \n",
       "638449     Yes    75104  \n",
       "638487     Yes    43230  \n",
       "638880     Yes    90025  \n",
       "639177     Yes    34243  \n",
       "639776     Yes    85704  \n",
       "...        ...      ...  \n",
       "2649658    Yes    89134  \n",
       "2649731    Yes    19701  \n",
       "2649756    Yes    35080  \n",
       "2649804    Yes    85132  \n",
       "2650316    Yes    19701  \n",
       "\n",
       "[3132 rows x 18 columns]"
      ]
     },
     "execution_count": 36,
     "metadata": {},
     "output_type": "execute_result"
    }
   ],
   "source": [
    "new_df"
   ]
  },
  {
   "cell_type": "code",
   "execution_count": 37,
   "id": "2cf7ffcb-9656-4e63-a82f-e36a5a4f6fb4",
   "metadata": {},
   "outputs": [
    {
     "data": {
      "text/plain": [
       "31"
      ]
     },
     "execution_count": 37,
     "metadata": {},
     "output_type": "execute_result"
    }
   ],
   "source": [
    "max(new_df.company_response.apply(lambda x: len(x)))"
   ]
  },
  {
   "cell_type": "code",
   "execution_count": 38,
   "id": "83e919a9-0bec-43c4-8013-0ad78300e25f",
   "metadata": {},
   "outputs": [
    {
     "ename": "ModuleNotFoundError",
     "evalue": "No module named 'sklearn'",
     "output_type": "error",
     "traceback": [
      "\u001b[0;31m---------------------------------------------------------------------------\u001b[0m",
      "\u001b[0;31mModuleNotFoundError\u001b[0m                       Traceback (most recent call last)",
      "Input \u001b[0;32mIn [38]\u001b[0m, in \u001b[0;36m<cell line: 1>\u001b[0;34m()\u001b[0m\n\u001b[0;32m----> 1\u001b[0m \u001b[38;5;28;01mfrom\u001b[39;00m \u001b[38;5;21;01msklearn\u001b[39;00m\u001b[38;5;21;01m.\u001b[39;00m\u001b[38;5;21;01mfeature_extraction\u001b[39;00m\u001b[38;5;21;01m.\u001b[39;00m\u001b[38;5;21;01mtext\u001b[39;00m \u001b[38;5;28;01mimport\u001b[39;00m TfidfVectorizer\n",
      "\u001b[0;31mModuleNotFoundError\u001b[0m: No module named 'sklearn'"
     ]
    }
   ],
   "source": [
    "from sklearn.feature_extraction.text import TfidfVectorizer"
   ]
  },
  {
   "cell_type": "code",
   "execution_count": 39,
   "id": "1f602ccf-22ed-4faf-a985-25c4eb212caf",
   "metadata": {},
   "outputs": [],
   "source": [
    "from pyspark.sql import SparkSession"
   ]
  },
  {
   "cell_type": "code",
   "execution_count": null,
   "id": "e7a87e72-1bc9-4498-b2b6-2c06154fee3e",
   "metadata": {},
   "outputs": [],
   "source": []
  }
 ],
 "metadata": {
  "kernelspec": {
   "display_name": "Python 3 (ipykernel)",
   "language": "python",
   "name": "python3"
  },
  "language_info": {
   "codemirror_mode": {
    "name": "ipython",
    "version": 3
   },
   "file_extension": ".py",
   "mimetype": "text/x-python",
   "name": "python",
   "nbconvert_exporter": "python",
   "pygments_lexer": "ipython3",
   "version": "3.8.0"
  },
  "vscode": {
   "interpreter": {
    "hash": "8fa0b0c3e0c129e18009469228710308a4c80fb2429a87704e5ca44dc3eb75d2"
   }
  }
 },
 "nbformat": 4,
 "nbformat_minor": 5
}
