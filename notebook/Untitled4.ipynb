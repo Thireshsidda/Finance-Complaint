{
 "cells": [
  {
   "cell_type": "code",
   "execution_count": 1,
   "id": "4bdfab7e-7701-4c28-885a-73f10a3355ac",
   "metadata": {},
   "outputs": [],
   "source": [
    "file_path=\"/home/avnish/iNeuron_Private_Intelligence_Limited/industry_ready_project/finance_complaint/finance_artifact/data_validation/20220915_100343/accepted_data/finance_complaint\""
   ]
  },
  {
   "cell_type": "code",
   "execution_count": null,
   "id": "fbdc2531-8eee-41e8-927c-d3249f95d96f",
   "metadata": {},
   "outputs": [],
   "source": []
  },
  {
   "cell_type": "code",
   "execution_count": 2,
   "id": "fc9af007-3e23-482c-993d-d84be752c49b",
   "metadata": {},
   "outputs": [],
   "source": [
    "tf=\"/home/avnish/iNeuron_Private_Intelligence_Limited/industry_ready_project/finance_complaint/finance_artifact/data_transformation/20220915_102414/train/finance_complaint\""
   ]
  },
  {
   "cell_type": "code",
   "execution_count": null,
   "id": "80341b26-707f-48d5-bf3c-a325054f01a7",
   "metadata": {},
   "outputs": [],
   "source": [
    "tf=\"/home/avnish/iNeuron_Private_Intelligence_Limited/industry_ready_project/finance_complaint/finance_artifact/data_transformation/20220915_102414/train/finance_complaint\""
   ]
  },
  {
   "cell_type": "code",
   "execution_count": 1,
   "id": "e3592085-2a03-4bd6-894c-7a5a7b58d553",
   "metadata": {},
   "outputs": [
    {
     "name": "stderr",
     "output_type": "stream",
     "text": [
      "22/09/15 10:25:28 WARN Utils: Your hostname, avnish-yadav resolves to a loopback address: 127.0.1.1; using 192.168.3.35 instead (on interface wlo1)\n",
      "22/09/15 10:25:28 WARN Utils: Set SPARK_LOCAL_IP if you need to bind to another address\n",
      "Using Spark's default log4j profile: org/apache/spark/log4j-defaults.properties\n",
      "Setting default log level to \"WARN\".\n",
      "To adjust logging level use sc.setLogLevel(newLevel). For SparkR, use setLogLevel(newLevel).\n",
      "22/09/15 10:25:29 WARN NativeCodeLoader: Unable to load native-hadoop library for your platform... using builtin-java classes where applicable\n",
      "22/09/15 10:25:31 WARN Utils: Service 'SparkUI' could not bind on port 4040. Attempting port 4041.\n"
     ]
    }
   ],
   "source": [
    "from finance_complaint.entity.spark_manager import spark_session"
   ]
  },
  {
   "cell_type": "code",
   "execution_count": null,
   "id": "086076f1-792a-45b7-9c8c-5834f3563386",
   "metadata": {},
   "outputs": [],
   "source": []
  },
  {
   "cell_type": "code",
   "execution_count": null,
   "id": "3aa0aa28-3e71-4abc-88af-2f5baff5a7a3",
   "metadata": {},
   "outputs": [],
   "source": []
  },
  {
   "cell_type": "code",
   "execution_count": 3,
   "id": "80674e2d-8f85-4824-b803-3dcb13cc111f",
   "metadata": {},
   "outputs": [],
   "source": [
    "df=  spark_session.read.parquet(tf)"
   ]
  },
  {
   "cell_type": "code",
   "execution_count": 4,
   "id": "fb03ebcb-2f3e-4081-a048-605ca534a01e",
   "metadata": {},
   "outputs": [
    {
     "data": {
      "text/plain": [
       "313461"
      ]
     },
     "execution_count": 4,
     "metadata": {},
     "output_type": "execute_result"
    }
   ],
   "source": [
    "df.count()"
   ]
  },
  {
   "cell_type": "code",
   "execution_count": 4,
   "id": "62672c5a-2cc1-4d53-a5fd-e825fcbe4887",
   "metadata": {},
   "outputs": [
    {
     "data": {
      "text/plain": [
       "['company',\n",
       " 'company_response',\n",
       " 'consumer_consent_provided',\n",
       " 'consumer_disputed',\n",
       " 'date_received',\n",
       " 'date_sent_to_company',\n",
       " 'issue',\n",
       " 'product',\n",
       " 'state',\n",
       " 'submitted_via',\n",
       " 'timely',\n",
       " 'zip_code']"
      ]
     },
     "execution_count": 4,
     "metadata": {},
     "output_type": "execute_result"
    }
   ],
   "source": [
    "df.columns"
   ]
  },
  {
   "cell_type": "code",
   "execution_count": 5,
   "id": "9c60d0d5-2204-42ef-8596-2e40dbcc42aa",
   "metadata": {},
   "outputs": [],
   "source": [
    "from pyspark.ml.pipeline import PipelineModel"
   ]
  },
  {
   "cell_type": "code",
   "execution_count": 6,
   "id": "0cd44969-95f7-4c59-b5c7-0c9e90773c6d",
   "metadata": {},
   "outputs": [],
   "source": [
    "model_path=\"finance_artifact/model_trainer/20220915_100343/trained_model/finance_estimator\""
   ]
  },
  {
   "cell_type": "code",
   "execution_count": 7,
   "id": "b60f4e91-f35b-4fb0-af97-09c835863eea",
   "metadata": {},
   "outputs": [
    {
     "name": "stdout",
     "output_type": "stream",
     "text": [
      "{'inputCols': None, 'outputCols': None}\n"
     ]
    }
   ],
   "source": [
    "model = PipelineModel.load(model_path)"
   ]
  },
  {
   "cell_type": "code",
   "execution_count": 8,
   "id": "e7f40873-c004-48ad-9a91-b39ad017d92e",
   "metadata": {},
   "outputs": [],
   "source": [
    "pred_df = model.transform(df)"
   ]
  },
  {
   "cell_type": "code",
   "execution_count": 10,
   "id": "0c2577c5-6336-41c6-910e-8fb2e2d60877",
   "metadata": {},
   "outputs": [],
   "source": [
    "from finance_complaint.entity.complaint_column import ComplaintColumn"
   ]
  },
  {
   "cell_type": "code",
   "execution_count": 11,
   "id": "a53a2e90-76c8-4bfd-b851-efed8466e178",
   "metadata": {},
   "outputs": [],
   "source": [
    "schema = ComplaintColumn()"
   ]
  },
  {
   "cell_type": "code",
   "execution_count": 13,
   "id": "51f335c4-7acc-429f-bd2a-951e91e714f3",
   "metadata": {},
   "outputs": [
    {
     "name": "stdout",
     "output_type": "stream",
     "text": [
      "+---------------------+\n",
      "|scaled_input_features|\n",
      "+---------------------+\n",
      "| (58,[2,8,11,27,48...|\n",
      "| (58,[0,8,11,21,23...|\n",
      "| (58,[0,8,11,34,40...|\n",
      "| (58,[0,9,11,34,40...|\n",
      "| (58,[1,8,11,34,40...|\n",
      "+---------------------+\n",
      "only showing top 5 rows\n",
      "\n"
     ]
    }
   ],
   "source": [
    "pred_df.select(schema.scaled_vector_input_features).show(5)"
   ]
  },
  {
   "cell_type": "code",
   "execution_count": 14,
   "id": "1225b41c-0658-4c72-837e-5dfcd477d21b",
   "metadata": {},
   "outputs": [
    {
     "data": {
      "text/plain": [
       "2801985"
      ]
     },
     "execution_count": 14,
     "metadata": {},
     "output_type": "execute_result"
    }
   ],
   "source": [
    "pred_df.count()"
   ]
  },
  {
   "cell_type": "code",
   "execution_count": 15,
   "id": "031d6636-d871-4b12-9f65-83a834310835",
   "metadata": {},
   "outputs": [
    {
     "data": {
      "text/plain": [
       "2801985"
      ]
     },
     "execution_count": 15,
     "metadata": {},
     "output_type": "execute_result"
    }
   ],
   "source": [
    "df.count()"
   ]
  },
  {
   "cell_type": "code",
   "execution_count": 20,
   "id": "88df6eed-a125-412d-8cfa-5811c5295fc0",
   "metadata": {},
   "outputs": [
    {
     "data": {
      "text/plain": [
       "['company',\n",
       " 'company_response',\n",
       " 'consumer_consent_provided',\n",
       " 'consumer_disputed',\n",
       " 'date_received',\n",
       " 'date_sent_to_company',\n",
       " 'issue',\n",
       " 'product',\n",
       " 'state',\n",
       " 'submitted_via',\n",
       " 'timely',\n",
       " 'zip_code',\n",
       " 'diff_in_days',\n",
       " 'im_diff_in_days',\n",
       " 'im_company_response',\n",
       " 'im_consumer_consent_provided',\n",
       " 'im_submitted_via',\n",
       " 'si_company_response',\n",
       " 'si_consumer_consent_provided',\n",
       " 'si_submitted_via',\n",
       " 'tf_company_response',\n",
       " 'tf_consumer_consent_provided',\n",
       " 'tf_submitted_via',\n",
       " 'words',\n",
       " 'rawFeatures',\n",
       " 'tf_issue',\n",
       " 'va_input_features',\n",
       " 'scaled_input_features',\n",
       " 'rawPrediction',\n",
       " 'probability',\n",
       " 'prediction',\n",
       " 'prediction_consumer_disputed']"
      ]
     },
     "execution_count": 20,
     "metadata": {},
     "output_type": "execute_result"
    }
   ],
   "source": [
    "pred_df.columns"
   ]
  },
  {
   "cell_type": "code",
   "execution_count": 21,
   "id": "ca1303ce-cbd2-453c-a2b2-51cc129d8611",
   "metadata": {},
   "outputs": [
    {
     "name": "stdout",
     "output_type": "stream",
     "text": [
      "+----------+-----------------+----------------------------+\n",
      "|prediction|consumer_disputed|prediction_consumer_disputed|\n",
      "+----------+-----------------+----------------------------+\n",
      "|       1.0|               No|                         Yes|\n",
      "|       1.0|              Yes|                         Yes|\n",
      "|       2.0|               No|                          No|\n",
      "|       2.0|               No|                          No|\n",
      "|       2.0|               No|                          No|\n",
      "|       1.0|               No|                         Yes|\n",
      "|       1.0|               No|                         Yes|\n",
      "|       1.0|               No|                         Yes|\n",
      "|       1.0|               No|                         Yes|\n",
      "|       1.0|               No|                         Yes|\n",
      "|       0.0|               No|                         N/A|\n",
      "|       1.0|               No|                         Yes|\n",
      "|       2.0|               No|                          No|\n",
      "|       1.0|              Yes|                         Yes|\n",
      "|       0.0|               No|                         N/A|\n",
      "|       2.0|              Yes|                          No|\n",
      "|       1.0|               No|                         Yes|\n",
      "|       0.0|               No|                         N/A|\n",
      "|       1.0|               No|                         Yes|\n",
      "|       1.0|               No|                         Yes|\n",
      "+----------+-----------------+----------------------------+\n",
      "only showing top 20 rows\n",
      "\n"
     ]
    }
   ],
   "source": [
    "pred_df.select([schema.prediction_column_name,schema.target_column,'prediction_consumer_disputed']).show()"
   ]
  },
  {
   "cell_type": "code",
   "execution_count": 19,
   "id": "16aaa0d5-4f6d-4fa5-ba6e-184c6a7c1f73",
   "metadata": {},
   "outputs": [
    {
     "data": {
      "text/plain": [
       "'indexed_consumer_disputed'"
      ]
     },
     "execution_count": 19,
     "metadata": {},
     "output_type": "execute_result"
    }
   ],
   "source": []
  },
  {
   "cell_type": "code",
   "execution_count": null,
   "id": "d06aa663-3a7d-4786-bae1-7fc9011a432b",
   "metadata": {},
   "outputs": [],
   "source": []
  }
 ],
 "metadata": {
  "kernelspec": {
   "display_name": "Python 3 (ipykernel)",
   "language": "python",
   "name": "python3"
  },
  "language_info": {
   "codemirror_mode": {
    "name": "ipython",
    "version": 3
   },
   "file_extension": ".py",
   "mimetype": "text/x-python",
   "name": "python",
   "nbconvert_exporter": "python",
   "pygments_lexer": "ipython3",
   "version": "3.8.0"
  }
 },
 "nbformat": 4,
 "nbformat_minor": 5
}
