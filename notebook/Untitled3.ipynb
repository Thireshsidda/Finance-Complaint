{
 "cells": [
  {
   "cell_type": "code",
   "execution_count": 1,
   "id": "dacd5aa5-17f8-48ac-9813-d7ecc4691ae3",
   "metadata": {},
   "outputs": [],
   "source": [
    "fp=\"/home/avnish/iNeuron_Private_Intelligence_Limited/industry_ready_project/finance_complaint/finance_artifact/model_evaluation/report/evaluation_report\""
   ]
  },
  {
   "cell_type": "code",
   "execution_count": 2,
   "id": "d7debf24-d4d9-4bf2-9a7f-635ee6205918",
   "metadata": {},
   "outputs": [],
   "source": [
    "from finance_complaint.entity.spark_manager import spark_session"
   ]
  },
  {
   "cell_type": "code",
   "execution_count": 3,
   "id": "fbde17ab-c2a9-4afa-a1dc-689c7d0dda1e",
   "metadata": {},
   "outputs": [],
   "source": [
    "df=spark_session.read.parquet(fp)"
   ]
  },
  {
   "cell_type": "code",
   "execution_count": 4,
   "id": "f41ba39a-a0d0-456f-a52f-8b399b1200ff",
   "metadata": {},
   "outputs": [
    {
     "name": "stdout",
     "output_type": "stream",
     "text": [
      "+--------------+----------------+--------------------+--------------------+------+\n",
      "|model_accepted|changed_accuracy|  trained_model_path|     best_model_path|active|\n",
      "+--------------+----------------+--------------------+--------------------+------+\n",
      "|          true|             0.0|/home/avnish/iNeu...|/home/avnish/iNeu...| false|\n",
      "|          true|       0.5886721|/home/avnish/iNeu...|/home/avnish/iNeu...|  true|\n",
      "|          true|             0.0|/home/avnish/iNeu...|/home/avnish/iNeu...|  true|\n",
      "+--------------+----------------+--------------------+--------------------+------+\n",
      "\n"
     ]
    },
    {
     "name": "stderr",
     "output_type": "stream",
     "text": [
      "ERROR:root:Exception while sending command.\n",
      "Traceback (most recent call last):\n",
      "  File \"/home/avnish/iNeuron_Private_Intelligence_Limited/industry_ready_project/env/venv/lib/python3.8/site-packages/py4j/clientserver.py\", line 480, in send_command\n",
      "    raise Py4JNetworkError(\"Answer from Java side is empty\")\n",
      "py4j.protocol.Py4JNetworkError: Answer from Java side is empty\n",
      "\n",
      "During handling of the above exception, another exception occurred:\n",
      "\n",
      "Traceback (most recent call last):\n",
      "  File \"/home/avnish/iNeuron_Private_Intelligence_Limited/industry_ready_project/env/venv/lib/python3.8/site-packages/py4j/java_gateway.py\", line 1038, in send_command\n",
      "    response = connection.send_command(command)\n",
      "  File \"/home/avnish/iNeuron_Private_Intelligence_Limited/industry_ready_project/env/venv/lib/python3.8/site-packages/py4j/clientserver.py\", line 503, in send_command\n",
      "    raise Py4JNetworkError(\n",
      "py4j.protocol.Py4JNetworkError: Error while sending or receiving\n"
     ]
    }
   ],
   "source": [
    "df.show()"
   ]
  },
  {
   "cell_type": "code",
   "execution_count": null,
   "id": "9152de4c-0c16-4c34-9c3e-1b532e275247",
   "metadata": {},
   "outputs": [],
   "source": []
  }
 ],
 "metadata": {
  "kernelspec": {
   "display_name": "Python 3 (ipykernel)",
   "language": "python",
   "name": "python3"
  },
  "language_info": {
   "codemirror_mode": {
    "name": "ipython",
    "version": 3
   },
   "file_extension": ".py",
   "mimetype": "text/x-python",
   "name": "python",
   "nbconvert_exporter": "python",
   "pygments_lexer": "ipython3",
   "version": "3.8.0"
  }
 },
 "nbformat": 4,
 "nbformat_minor": 5
}
